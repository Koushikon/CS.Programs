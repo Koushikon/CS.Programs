{
 "cells": [
  {
   "cell_type": "markdown",
   "metadata": {},
   "source": [
    "# C# DateTime struct\n",
    "\n",
    "To work with date and time in C# we could create an object of DateTime struc using the new keyword. The following in every object creation have some default values:\n",
    "\n",
    "[Learn from](https://www.tutorialsteacher.com/csharp/csharp-datetime) | \n",
    "[MS Docs](https://docs.microsoft.com/en-us/dotnet/api/system.datetime?view=net-6.0)"
   ]
  },
  {
   "cell_type": "code",
   "execution_count": null,
   "metadata": {
    "dotnet_interactive": {
     "language": "csharp"
    }
   },
   "outputs": [
    {
     "name": "stdout",
     "output_type": "stream",
     "text": [
      "01-01-0001 00:00:00\r\n"
     ]
    }
   ],
   "source": [
    "DateTime dt = new DateTime();\n",
    "\n",
    "Console.WriteLine(dt);"
   ]
  },
  {
   "cell_type": "markdown",
   "metadata": {},
   "source": [
    "## Declaring DateTime object with value"
   ]
  },
  {
   "cell_type": "code",
   "execution_count": null,
   "metadata": {
    "dotnet_interactive": {
     "language": "csharp"
    }
   },
   "outputs": [
    {
     "name": "stdout",
     "output_type": "stream",
     "text": [
      "1: 21-12-2010 00:00:00\n",
      "2: 21-12-2010 15:25:30\n",
      "3: 21-12-2010 15:25:30\r\n"
     ]
    }
   ],
   "source": [
    "DateTime dt1 = new DateTime(2010, 12, 21);\n",
    "\n",
    "DateTime dt2 = new DateTime(2010, 12, 21, 15, 25, 30);\n",
    "\n",
    "DateTime dt3 = new DateTime(2010, 12, 21, 15, 25, 30, DateTimeKind.Utc);\n",
    "\n",
    "Console.WriteLine($\"1: {dt1}\\n2: {dt2}\\n3: {dt3}\");"
   ]
  },
  {
   "cell_type": "markdown",
   "metadata": {},
   "source": [
    "- DateTimeKind has three properties `Unspecified`, `Local` and `Utc`.\n",
    "- DateTimeKind has the default value of Unspecified.\n",
    "\n",
    "We cannot provide an unkown date or time. If we do out of range exception will be thrown."
   ]
  },
  {
   "cell_type": "code",
   "execution_count": null,
   "metadata": {
    "dotnet_interactive": {
     "language": "csharp"
    }
   },
   "outputs": [
    {
     "ename": "Error",
     "evalue": "System.ArgumentOutOfRangeException: Year, Month, and Day parameters describe an un-representable DateTime.\r\n   at System.DateTime..ctor(Int32 year, Int32 month, Int32 day, Int32 hour, Int32 minute, Int32 second)\r\n   at Submission#15.<<Initialize>>d__0.MoveNext()\r\n--- End of stack trace from previous location ---\r\n   at Microsoft.CodeAnalysis.Scripting.ScriptExecutionState.RunSubmissionsAsync[TResult](ImmutableArray`1 precedingExecutors, Func`2 currentExecutor, StrongBox`1 exceptionHolderOpt, Func`2 catchExceptionOpt, CancellationToken cancellationToken)",
     "output_type": "error",
     "traceback": [
      "System.ArgumentOutOfRangeException: Year, Month, and Day parameters describe an un-representable DateTime.\r\n",
      "   at System.DateTime..ctor(Int32 year, Int32 month, Int32 day, Int32 hour, Int32 minute, Int32 second)\r\n",
      "   at Submission#15.<<Initialize>>d__0.MoveNext()\r\n",
      "--- End of stack trace from previous location ---\r\n",
      "   at Microsoft.CodeAnalysis.Scripting.ScriptExecutionState.RunSubmissionsAsync[TResult](ImmutableArray`1 precedingExecutors, Func`2 currentExecutor, StrongBox`1 exceptionHolderOpt, Func`2 catchExceptionOpt, CancellationToken cancellationToken)"
     ]
    }
   ],
   "source": [
    "DateTime dt4 = new DateTime(2010, 14, 21, 15, 25, 75); // Invalid month and second"
   ]
  },
  {
   "cell_type": "markdown",
   "metadata": {},
   "source": [
    "## From Ola Time\n",
    "\n",
    "The DateTime value type represents dates and times with values ranging from `00:00:00 (midnight), January 1, 0001` Anno Domini (Common Era) through `11:59:59 P.M., December 31, 9999` A.D. (C.E.) in the Gregorian calendar.\n",
    "\n",
    "Time values are measured in 100-nanosecond units called ticks. A particular date is the number of ticks since `12:00 midnight, January 1, 0001` A.D. (C.E.) in the `Gregorian Calendar`. The number excludes ticks that would be added by leap seconds. For example, a ticks value of `31241376000000000L` represents the date `Friday, January 01, 0100 12:00:00` midnight. A `DateTime` value is always expressed in the context of an explicit or default calendar."
   ]
  },
  {
   "cell_type": "code",
   "execution_count": null,
   "metadata": {
    "dotnet_interactive": {
     "language": "csharp"
    }
   },
   "outputs": [
    {
     "name": "stdout",
     "output_type": "stream",
     "text": [
      "30-07-2017 08:26:40\r\n",
      "0\r\n",
      "3155378975999999999\r\n"
     ]
    }
   ],
   "source": [
    "DateTime dt5 = new DateTime(636370000000000000);\n",
    "Console.WriteLine(dt5);\n",
    "Console.WriteLine(DateTime.MinValue.Ticks);\n",
    "Console.WriteLine(DateTime.MaxValue.Ticks);"
   ]
  },
  {
   "cell_type": "markdown",
   "metadata": {},
   "source": [
    "## DateTime Static Fields"
   ]
  },
  {
   "cell_type": "code",
   "execution_count": null,
   "metadata": {
    "dotnet_interactive": {
     "language": "csharp"
    }
   },
   "outputs": [
    {
     "name": "stdout",
     "output_type": "stream",
     "text": [
      "04-01-2022 18:11:14\r\n",
      "04-01-2022 00:00:00\r\n",
      "04-01-2022 12:41:14\r\n",
      "01-01-0001 00:00:00\r\n",
      "31-12-9999 23:59:59\r\n"
     ]
    }
   ],
   "source": [
    "Console.WriteLine(DateTime.Now);\n",
    "Console.WriteLine(DateTime.Today);\n",
    "Console.WriteLine(DateTime.UtcNow);\n",
    "\n",
    "Console.WriteLine(DateTime.MinValue);\n",
    "Console.WriteLine(DateTime.MaxValue);"
   ]
  },
  {
   "cell_type": "markdown",
   "metadata": {},
   "source": [
    "## TimeSpan in DateTime"
   ]
  },
  {
   "cell_type": "code",
   "execution_count": null,
   "metadata": {
    "dotnet_interactive": {
     "language": "csharp"
    }
   },
   "outputs": [
    {
     "name": "stdout",
     "output_type": "stream",
     "text": [
      "Date: 31-12-2015 00:00:00\r\n"
     ]
    }
   ],
   "source": [
    "DateTime dt6 = new DateTime(2015, 12, 31);\n",
    "\n",
    "Console.WriteLine($\"Date: {dt6}\");"
   ]
  },
  {
   "cell_type": "markdown",
   "metadata": {},
   "source": [
    "### Add Date to the DateTime\n",
    "\n",
    "TimeSpan is represented as Day, Hour, Minute and Second."
   ]
  },
  {
   "cell_type": "code",
   "execution_count": null,
   "metadata": {
    "dotnet_interactive": {
     "language": "csharp"
    }
   },
   "outputs": [
    {
     "name": "stdout",
     "output_type": "stream",
     "text": [
      "Time in Days: 1.02:15:30\n",
      "Date: 01-01-2016 02:15:30\r\n"
     ]
    }
   ],
   "source": [
    "TimeSpan ts = new TimeSpan(26, 15, 30);\n",
    "\n",
    "DateTime dt7 = dt6.Add(ts); // Add timespan to date\n",
    "Console.WriteLine($\"Time in Days: {ts}\\nDate: {dt7}\");"
   ]
  },
  {
   "cell_type": "markdown",
   "metadata": {},
   "source": [
    "### Substract Date from the DateTime\n",
    "\n",
    "Subtraction of two dates results in TimeSpan."
   ]
  },
  {
   "cell_type": "code",
   "execution_count": null,
   "metadata": {
    "dotnet_interactive": {
     "language": "csharp"
    }
   },
   "outputs": [
    {
     "name": "stdout",
     "output_type": "stream",
     "text": [
      "Date: 7.00:00:00\r\n"
     ]
    }
   ],
   "source": [
    "DateTime dt8 = new DateTime(2015, 12, 31);\n",
    "DateTime dt9 = new DateTime(2016, 1, 7);\n",
    "\n",
    "TimeSpan result = dt9.Subtract(dt8); // Subtract date from date\n",
    "Console.WriteLine($\"Date: {result}\");"
   ]
  },
  {
   "cell_type": "markdown",
   "metadata": {},
   "source": [
    "## Logical Operators"
   ]
  },
  {
   "cell_type": "code",
   "execution_count": null,
   "metadata": {
    "dotnet_interactive": {
     "language": "csharp"
    }
   },
   "outputs": [
    {
     "name": "stdout",
     "output_type": "stream",
     "text": [
      "10-01-2016 12:30:30\r\n",
      "7.15:25:30\r\n",
      "False\r\n",
      "True\r\n",
      "True\r\n",
      "True\r\n",
      "False\r\n",
      "False\r\n"
     ]
    }
   ],
   "source": [
    "DateTime dt10 = new DateTime(2015, 12, 31);\n",
    "DateTime dt11 = new DateTime(2016, 1, 7, 15, 25, 30);\n",
    "TimeSpan ts1 = new TimeSpan(10, 12, 30, 30);\n",
    "\n",
    "Console.WriteLine(dt10 + ts1); // Add timespan certain to date\n",
    "Console.WriteLine(dt11 - dt10); // Subtract date from date\n",
    "Console.WriteLine(dt11 == dt10); // Compare dates\n",
    "Console.WriteLine(dt11 != dt10); // Compare dates\n",
    "Console.WriteLine(dt11 > dt10); // Compare dates\n",
    "Console.WriteLine(dt11 >= dt10); // Compare dates\n",
    "Console.WriteLine(dt11 < dt10); // Compare dates\n",
    "Console.WriteLine(dt11 <= dt10); // Compare dates"
   ]
  },
  {
   "cell_type": "markdown",
   "metadata": {},
   "source": [
    "## Converting string to DateTime object\n",
    "\n",
    "To Convert string to DateTime object we can use `Parse(), ParseExact(), TryParse(), TryParseExact()` methods. The `Parse()` and `ParseExact()` method returns an exception if the string is not in the correct format. But The `TryParse()` and `TryParseExact()` method returns false if the string is not in the correct format."
   ]
  },
  {
   "cell_type": "code",
   "execution_count": null,
   "metadata": {
    "dotnet_interactive": {
     "language": "csharp"
    }
   },
   "outputs": [
    {
     "name": "stdout",
     "output_type": "stream",
     "text": [
      "String: 5/12/2022\tDate: 05-12-2022 00:00:00\r\n"
     ]
    }
   ],
   "source": [
    "var str = \"5/12/2022\";\n",
    "DateTime dt12 = new DateTime();\n",
    "\n",
    "var IsVilid = DateTime.TryParse(str, out dt12);\n",
    "\n",
    "if(IsVilid)\n",
    "    Console.WriteLine($\"String: {str}\\tDate: {dt12}\");\n",
    "else\n",
    "    Console.WriteLine($\"Invalid date\");"
   ]
  }
 ],
 "metadata": {
  "kernelspec": {
   "display_name": ".NET (C#)",
   "language": "C#",
   "name": ".net-csharp"
  },
  "language_info": {
   "file_extension": ".cs",
   "mimetype": "text/x-csharp",
   "name": "C#",
   "pygments_lexer": "csharp",
   "version": "9.0"
  },
  "orig_nbformat": 4
 },
 "nbformat": 4,
 "nbformat_minor": 2
}
