{
 "cells": [
  {
   "cell_type": "markdown",
   "metadata": {},
   "source": [
    "# Arrays in C#"
   ]
  },
  {
   "cell_type": "markdown",
   "metadata": {},
   "source": [
    "## A Character Array"
   ]
  },
  {
   "cell_type": "code",
   "execution_count": null,
   "metadata": {
    "dotnet_interactive": {
     "language": "csharp"
    }
   },
   "outputs": [
    {
     "name": "stdout",
     "output_type": "stream",
     "text": [
      "The second vowels: e\r\n",
      "The fourth vowels: u\r\n"
     ]
    }
   ],
   "source": [
    "char[] vowels = new char[5] {'a','e','i','o','u'};\n",
    "Console.WriteLine($\"The second vowels: {vowels[1]}\");\n",
    "Console.WriteLine($\"The fourth vowels: {vowels[4]}\");"
   ]
  },
  {
   "cell_type": "markdown",
   "metadata": {},
   "source": [
    "## A Double Array"
   ]
  },
  {
   "cell_type": "code",
   "execution_count": null,
   "metadata": {
    "dotnet_interactive": {
     "language": "csharp"
    }
   },
   "outputs": [
    {
     "name": "stdout",
     "output_type": "stream",
     "text": [
      "\n",
      "The second temperature: 67.3\r\n",
      "The third temperature: 33.1\r\n",
      "The updated second temperature: 105.2\r\n"
     ]
    }
   ],
   "source": [
    "double[] hi_temps = new double[] {90.1, 67.3, 33.1, 42.8};\n",
    "Console.WriteLine($\"\\nThe second temperature: {hi_temps[1]}\");\n",
    "Console.WriteLine($\"The third temperature: {hi_temps[2]}\");\n",
    "\n",
    "hi_temps[1] = 105.2;\n",
    "Console.WriteLine($\"The updated second temperature: {hi_temps[1]}\");"
   ]
  },
  {
   "cell_type": "markdown",
   "metadata": {},
   "source": [
    "## A Integer Array\n",
    "\n",
    "By default all the elements in the array are initialized to 0."
   ]
  },
  {
   "cell_type": "code",
   "execution_count": null,
   "metadata": {
    "dotnet_interactive": {
     "language": "csharp"
    }
   },
   "outputs": [
    {
     "name": "stdout",
     "output_type": "stream",
     "text": [
      "\n",
      "Test case 2 is 0 , 3 is 0 and 4 is 0\r\n"
     ]
    }
   ],
   "source": [
    "int[] test_c = new int[5];\n",
    "Console.WriteLine(\"\\nTest case 2 is {0} , 3 is {1} and 4 is {2}\", test_c[2], test_c[3], test_c[4]);"
   ]
  },
  {
   "cell_type": "code",
   "execution_count": null,
   "metadata": {
    "dotnet_interactive": {
     "language": "csharp"
    }
   },
   "outputs": [
    {
     "name": "stdout",
     "output_type": "stream",
     "text": [
      "\n",
      "The first Case: 59\n",
      "The first Case: -60\n",
      "The first Case: 75\n",
      "The first Case: 32\n",
      "The first Case: -5\r\n"
     ]
    }
   ],
   "source": [
    "int[] test_c_2 = {59, -60, 75, 32, -5};\n",
    "\n",
    "Console.WriteLine(\"\\nThe first Case: {0}\\nThe first Case: {1}\\nThe first Case: {2}\\nThe first Case: {3}\\nThe first Case: {4}\", test_c_2[0], test_c_2[1], test_c_2[2], test_c_2[3], test_c_2[4]);"
   ]
  },
  {
   "cell_type": "code",
   "execution_count": null,
   "metadata": {
    "dotnet_interactive": {
     "language": "csharp"
    }
   },
   "outputs": [
    {
     "name": "stdout",
     "output_type": "stream",
     "text": [
      "\n",
      "Sun\tMon\tTue\tWed\tThu\tFri\tSat\r\n"
     ]
    }
   ],
   "source": [
    "string[] weekDays2 = { \"Sun\", \"Mon\", \"Tue\", \"Wed\", \"Thu\", \"Fri\", \"Sat\" };\n",
    "\n",
    "Console.Write($\"\\n{weekDays2[0]}\");\n",
    "Console.Write($\"\\t{weekDays2[1]}\");\n",
    "Console.Write($\"\\t{weekDays2[2]}\");\n",
    "Console.Write($\"\\t{weekDays2[3]}\");\n",
    "Console.Write($\"\\t{weekDays2[4]}\");\n",
    "Console.Write($\"\\t{weekDays2[5]}\");\n",
    "Console.WriteLine($\"\\t{weekDays2[6]}\");"
   ]
  },
  {
   "cell_type": "code",
   "execution_count": null,
   "metadata": {
    "dotnet_interactive": {
     "language": "csharp"
    }
   },
   "outputs": [
    {
     "name": "stdout",
     "output_type": "stream",
     "text": [
      "Notice what if we just type the name: System.Int32[]\r\n"
     ]
    }
   ],
   "source": [
    "Console.WriteLine($\"Notice what if we just type the name: {test_c}\"); // It shows the array type"
   ]
  }
 ],
 "metadata": {
  "kernelspec": {
   "display_name": ".NET (C#)",
   "language": "C#",
   "name": ".net-csharp"
  },
  "language_info": {
   "file_extension": ".cs",
   "mimetype": "text/x-csharp",
   "name": "C#",
   "pygments_lexer": "csharp",
   "version": "9.0"
  },
  "orig_nbformat": 4
 },
 "nbformat": 4,
 "nbformat_minor": 2
}
