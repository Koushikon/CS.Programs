{
 "cells": [
  {
   "cell_type": "markdown",
   "metadata": {},
   "source": [
    "# Multidimentional Arrays\n",
    "\n",
    "In C# Multi-dimentional arrays are of two types. One is Rectangular and the other is Jagged. In rectangular Arrays, the number of elements in each row is the same. Whereas in Jagged arrays, the number of elements in each row can be different."
   ]
  },
  {
   "cell_type": "markdown",
   "metadata": {},
   "source": [
    "## Rectangular Array in C#\n",
    "\n",
    "Declaring a Rectangular Array looks like this:"
   ]
  },
  {
   "cell_type": "code",
   "execution_count": null,
   "metadata": {
    "dotnet_interactive": {
     "language": "csharp"
    }
   },
   "outputs": [],
   "source": [
    "// 2-D array\n",
    "int[,] a = new int[3, 3] {\n",
    "    {1, 2, 3},\n",
    "    {4, 5, 6},\n",
    "    {7, 8, 9}\n",
    "};\n",
    "\n",
    "// 3-D array\n",
    "int[,,] b = new int[3, 3, 3] {\n",
    "    {{1, 2, 3}, {4, 5, 6}, {7, 8, 9}},\n",
    "    {{1, 2, 3}, {4, 5, 6}, {7, 8, 9}},\n",
    "    {{1, 2, 3}, {4, 5, 6}, {7, 8, 9}}\n",
    "};"
   ]
  },
  {
   "cell_type": "code",
   "execution_count": null,
   "metadata": {
    "dotnet_interactive": {
     "language": "csharp"
    }
   },
   "outputs": [
    {
     "name": "stdout",
     "output_type": "stream",
     "text": [
      "\n",
      "Before changing:\r\n",
      "The 2-D value of a Row 1 Column 1 is: 1\r\n",
      "The 2-D value of a Row 2 Column 2 is: 5\r\n",
      "The 2-D value of a Row 3 Column 3 is: 9\r\n"
     ]
    }
   ],
   "source": [
    "Console.WriteLine(\"\\nBefore changing:\");\n",
    "Console.WriteLine($\"The 2-D value of a Row 1 Column 1 is: {a[0, 0]}\");\n",
    "Console.WriteLine($\"The 2-D value of a Row 2 Column 2 is: {a[1, 1]}\");\n",
    "Console.WriteLine($\"The 2-D value of a Row 3 Column 3 is: {a[2, 2]}\");"
   ]
  },
  {
   "cell_type": "markdown",
   "metadata": {},
   "source": [
    "Taking an input and changing a Row 2 Column 2's and Row 3 Column 3's value with user input."
   ]
  },
  {
   "cell_type": "markdown",
   "metadata": {},
   "source": [
    "- In Rectangular array we specify elements in one indexing [ ] with comma operator. Ex- `[2, 5]`."
   ]
  },
  {
   "cell_type": "markdown",
   "metadata": {},
   "source": [
    "## Jagged Array in C#\n",
    "\n",
    "A Jagged array is an array whose contents are arrays of different sizes. A Jagged array is also called array of arrays. The elements of Jagged array is `referenced types` like each row is the different array and the address of this array is stored in the `Jagged-Array` and by deafault it is initialized to `null`. The number of rows will be fixed after declaration But we can decide what would be the number of columns in each row.\n",
    "\n",
    "Declaring a Jagged Array looks like this:"
   ]
  },
  {
   "cell_type": "code",
   "execution_count": null,
   "metadata": {
    "dotnet_interactive": {
     "language": "csharp"
    }
   },
   "outputs": [],
   "source": [
    "int[][] jagged = new int[3][];\n",
    "\n",
    "jagged[0] = new int[3] { 1, 2, 3 };\n",
    "jagged[1] = new int[4] { 4, 5, 6, 7 };\n",
    "jagged[2] = new int[2] { 8, 9 };\n",
    "\n",
    "// Or declare and initialize in one step\n",
    "int[][] jagged2 = new int[][] {\n",
    "    new int[] { 1, 2, 3 },\n",
    "    new int[] { 4, 5, 6, 7 },\n",
    "    new int[] { 8, 9 }\n",
    "};\n",
    "\n",
    "// Or, this Shorthand syntax\n",
    "int[][] jagged3 = {\n",
    "    new int[] { 1, 2, 3 },\n",
    "    new int[] { 4, 5, 6, 7 },\n",
    "    new int[] { 8, 9 }\n",
    "};"
   ]
  },
  {
   "cell_type": "code",
   "execution_count": null,
   "metadata": {
    "dotnet_interactive": {
     "language": "csharp"
    }
   },
   "outputs": [
    {
     "name": "stdout",
     "output_type": "stream",
     "text": [
      "The 2-D value of a Row 1 Column 1 is: 2\r\n",
      "The 2-D value of a Row 1 Column 1 is: 9\r\n",
      "The 2-D value of a Row 1 Column 1 is: 5\r\n"
     ]
    }
   ],
   "source": [
    "Console.WriteLine($\"The 2-D value of a Row 1 Column 1 is: {jagged[0][1]}\");\n",
    "Console.WriteLine($\"The 2-D value of a Row 1 Column 1 is: {jagged2[2][1]}\");\n",
    "Console.WriteLine($\"The 2-D value of a Row 1 Column 1 is: {jagged3[1][1]}\");"
   ]
  },
  {
   "cell_type": "markdown",
   "metadata": {},
   "source": [
    "In Jagged array `first indexing [ ]` for the array itself elements and the `second indexing [ ]` for each rows elements."
   ]
  },
  {
   "cell_type": "markdown",
   "metadata": {},
   "source": [
    "## OR, We can use both Rectangular and Jagged in one Array"
   ]
  },
  {
   "cell_type": "code",
   "execution_count": null,
   "metadata": {
    "dotnet_interactive": {
     "language": "csharp"
    }
   },
   "outputs": [],
   "source": [
    "int[][,] arr = new int[3][,]{\n",
    "    new int[,] {{2, 2}, {3, 3}},\n",
    "    new int[,] {{5, 5}, {7, 6}},\n",
    "    new int[,] {{8, 8}, {9, 9}}\n",
    "};\n",
    "\n",
    "// Or Shorthand syntax\n",
    "int[][,] arr2 = {\n",
    "    new int[,] {{2, 2}, {3, 3}},\n",
    "    new int[,] {{5, 5}, {7, 6}},\n",
    "    new int[,] {{8, 8}, {9, 9}}\n",
    "};"
   ]
  },
  {
   "cell_type": "code",
   "execution_count": null,
   "metadata": {
    "dotnet_interactive": {
     "language": "csharp"
    }
   },
   "outputs": [
    {
     "name": "stdout",
     "output_type": "stream",
     "text": [
      "7\r\n",
      "7\r\n"
     ]
    }
   ],
   "source": [
    "Console.WriteLine(arr[1][1, 0]);\n",
    "Console.WriteLine(arr2[1][1, 0]);"
   ]
  }
 ],
 "metadata": {
  "kernelspec": {
   "display_name": ".NET (C#)",
   "language": "C#",
   "name": ".net-csharp"
  },
  "language_info": {
   "file_extension": ".cs",
   "mimetype": "text/x-csharp",
   "name": "C#",
   "pygments_lexer": "csharp",
   "version": "9.0"
  },
  "orig_nbformat": 4
 },
 "nbformat": 4,
 "nbformat_minor": 2
}
