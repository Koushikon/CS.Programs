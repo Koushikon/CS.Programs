{
 "cells": [
  {
   "cell_type": "markdown",
   "metadata": {},
   "source": [
    "# C# Array Class\n",
    "\n",
    "[Learn from](https://www.geeksforgeeks.org/c-sharp-array-class/) | \n",
    "[MS Docs](https://docs.microsoft.com/en-us/dotnet/api/system.array?view=net-6.0)"
   ]
  },
  {
   "cell_type": "code",
   "execution_count": null,
   "metadata": {
    "dotnet_interactive": {
     "language": "csharp"
    }
   },
   "outputs": [],
   "source": [
    "char[] single = new char[5] {'A', 'E', 'i', 'o', '4'};\n",
    "int[,] multi = new int[3, 4] {\n",
    "    {1, 2, 3, 5},\n",
    "    {4, 5, 6, 6},\n",
    "    {7, 8, 9, 7},\n",
    "};"
   ]
  },
  {
   "cell_type": "markdown",
   "metadata": {},
   "source": [
    "## Retrive Array Elements and index\n",
    "\n",
    "- `array_name.GetValue(index_no)`\n",
    "- This method returns the value of the array at the specified index.\n",
    "- `array_name.GetLowerBound(dimension_number - 1)`\n",
    "- This method returns the lower bound index no. of the array in the specified dimension.\n",
    "- `array_name.GetUpperBound(dimension_number - 1)`\n",
    "- This method returns the upper bound index no. of the array in the specified dimension."
   ]
  },
  {
   "cell_type": "code",
   "execution_count": null,
   "metadata": {
    "dotnet_interactive": {
     "language": "csharp"
    }
   },
   "outputs": [
    {
     "name": "stdout",
     "output_type": "stream",
     "text": [
      "A E i o 4\r\n",
      "o\r\n"
     ]
    }
   ],
   "source": [
    "Console.WriteLine(string.Join(\" \", single));\n",
    "Console.WriteLine(single.GetValue(3));"
   ]
  },
  {
   "cell_type": "code",
   "execution_count": null,
   "metadata": {
    "dotnet_interactive": {
     "language": "csharp"
    }
   },
   "outputs": [
    {
     "name": "stdout",
     "output_type": "stream",
     "text": [
      "0\r\n",
      "3\r\n"
     ]
    }
   ],
   "source": [
    "Console.WriteLine(multi.GetLowerBound(1));\n",
    "Console.WriteLine(multi.GetUpperBound(1));"
   ]
  },
  {
   "cell_type": "markdown",
   "metadata": {},
   "source": [
    "## Find the index of the element\n",
    "\n",
    "- `Array.IndexOf(array_name, value)`\n",
    "- This method returns the index no. of the first element that matches the specified value.\n",
    "- `Array.LastIndexOf(array_name, value)`\n",
    "- This method returns the index no. of the last element that matches the specified value.\n",
    "- If no element is found then it `returns -1`."
   ]
  },
  {
   "cell_type": "code",
   "execution_count": null,
   "metadata": {
    "dotnet_interactive": {
     "language": "csharp"
    }
   },
   "outputs": [],
   "source": [
    "int[] vowels = {'A', 'E', 'i', 'O', 'O', 'U'};"
   ]
  },
  {
   "cell_type": "code",
   "execution_count": null,
   "metadata": {
    "dotnet_interactive": {
     "language": "csharp"
    }
   },
   "outputs": [
    {
     "name": "stdout",
     "output_type": "stream",
     "text": [
      "3\r\n",
      "4\r\n"
     ]
    }
   ],
   "source": [
    "Console.WriteLine(Array.IndexOf(vowels, 'O'));\n",
    "Console.WriteLine(Array.LastIndexOf(vowels, 'O'));"
   ]
  },
  {
   "cell_type": "markdown",
   "metadata": {},
   "source": [
    "## Resize the Array\n",
    "\n",
    "- `Array.Resize(ref array_name, new_size)`\n",
    "- This method is used to resize the length of the array to the new size. We can resize the 1-dimensional array only."
   ]
  },
  {
   "cell_type": "code",
   "execution_count": null,
   "metadata": {
    "dotnet_interactive": {
     "language": "csharp"
    }
   },
   "outputs": [
    {
     "name": "stdout",
     "output_type": "stream",
     "text": [
      "8\r\n"
     ]
    }
   ],
   "source": [
    "Array.Resize(ref single, 8);\n",
    "Console.WriteLine(single.Length);"
   ]
  },
  {
   "cell_type": "markdown",
   "metadata": {},
   "source": [
    "## Sorting the Array\n",
    "\n",
    "- `Array.Sort(array_name)`\n",
    "- This method sorts the array in ascending order.\n",
    "- `Array.Reverse(array_name)`\n",
    "- This method reverses the order of the elements in the array."
   ]
  },
  {
   "cell_type": "code",
   "execution_count": null,
   "metadata": {
    "dotnet_interactive": {
     "language": "csharp"
    }
   },
   "outputs": [
    {
     "name": "stdout",
     "output_type": "stream",
     "text": [
      "1 2 3 3 5 6 7 9 10\r\n"
     ]
    }
   ],
   "source": [
    "int[] nums = {7, 3, 5, 1, 2, 6, 9, 10, 3};\n",
    "Array.Sort(nums);\n",
    "Console.WriteLine(string.Join(' ', nums));"
   ]
  },
  {
   "cell_type": "code",
   "execution_count": null,
   "metadata": {
    "dotnet_interactive": {
     "language": "csharp"
    }
   },
   "outputs": [
    {
     "name": "stdout",
     "output_type": "stream",
     "text": [
      "10 9 7 6 5 3 3 2 1\r\n"
     ]
    }
   ],
   "source": [
    "Array.Reverse(nums);\n",
    "Console.WriteLine(string.Join(' ', nums));"
   ]
  },
  {
   "cell_type": "markdown",
   "metadata": {},
   "source": [
    "## Conver All Elements in Array and Store in Another Array"
   ]
  },
  {
   "cell_type": "code",
   "execution_count": null,
   "metadata": {
    "dotnet_interactive": {
     "language": "csharp"
    }
   },
   "outputs": [],
   "source": [
    "string[] S_nums = { \"7\", \"3\", \"5\", \"1\", \"2\", \"6\", \"9\", \"10\", \"3\" };"
   ]
  },
  {
   "cell_type": "code",
   "execution_count": null,
   "metadata": {
    "dotnet_interactive": {
     "language": "csharp"
    }
   },
   "outputs": [
    {
     "name": "stdout",
     "output_type": "stream",
     "text": [
      "7 3 5 1 2 6 9 10 3\r\n"
     ]
    }
   ],
   "source": [
    "// Converts all elements in one sweep\n",
    "int[] nums2 = Array.ConvertAll(S_nums, s => Convert.ToInt32(s));\n",
    "\n",
    "Console.WriteLine(string.Join(' ', nums2));"
   ]
  },
  {
   "cell_type": "markdown",
   "metadata": {},
   "source": [
    "## With ForEach Loop"
   ]
  },
  {
   "cell_type": "code",
   "execution_count": null,
   "metadata": {
    "dotnet_interactive": {
     "language": "csharp"
    }
   },
   "outputs": [
    {
     "name": "stdout",
     "output_type": "stream",
     "text": [
      "el: A\tel: E\tel: i\tel: o\tel: 4\tel: \u0000\tel: \u0000\tel: \u0000\t"
     ]
    }
   ],
   "source": [
    "foreach(char c in single) {\n",
    "    Console.Write($\"el: {c}\\t\");\n",
    "}"
   ]
  },
  {
   "cell_type": "markdown",
   "metadata": {},
   "source": [
    "There are few more methods which can be used with array."
   ]
  }
 ],
 "metadata": {
  "kernelspec": {
   "display_name": ".NET (C#)",
   "language": "C#",
   "name": ".net-csharp"
  },
  "language_info": {
   "file_extension": ".cs",
   "mimetype": "text/x-csharp",
   "name": "C#",
   "pygments_lexer": "csharp",
   "version": "9.0"
  },
  "orig_nbformat": 4
 },
 "nbformat": 4,
 "nbformat_minor": 2
}
