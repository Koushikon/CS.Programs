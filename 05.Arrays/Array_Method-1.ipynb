{
 "cells": [
  {
   "cell_type": "markdown",
   "metadata": {},
   "source": [
    "# C# Array Class\n",
    "\n",
    "[Learn from](https://www.geeksforgeeks.org/c-sharp-array-class/) | \n",
    "[MS Docs](https://docs.microsoft.com/en-us/dotnet/api/system.array?view=net-6.0)"
   ]
  },
  {
   "cell_type": "code",
   "execution_count": null,
   "metadata": {
    "dotnet_interactive": {
     "language": "csharp"
    }
   },
   "outputs": [],
   "source": [
    "char[] single = new char[5] {'A', 'E', 'i', 'o', '4'};\n",
    "int[,] multi = new int[3, 4] {\n",
    "    {1, 2, 3, 5},\n",
    "    {4, 5, 6, 6},\n",
    "    {7, 8, 9, 7},\n",
    "};"
   ]
  },
  {
   "cell_type": "markdown",
   "metadata": {},
   "source": [
    "## Array Length\n",
    "\n",
    "- `array_name.Length`\n",
    "- With the `Length` method, we can get the length of the array wheather it single or multi-dimentional.\n",
    "- `array_name.LongLength`\n",
    "- With the `LongLength` method, we can get 64Bit integer that represents the length of the array wheather it single or multi-dimentional."
   ]
  },
  {
   "cell_type": "code",
   "execution_count": null,
   "metadata": {
    "dotnet_interactive": {
     "language": "csharp"
    }
   },
   "outputs": [
    {
     "name": "stdout",
     "output_type": "stream",
     "text": [
      "5\r\n",
      "12\r\n"
     ]
    }
   ],
   "source": [
    "Console.WriteLine(single.Length);\n",
    "Console.WriteLine(multi.Length);"
   ]
  },
  {
   "cell_type": "code",
   "execution_count": null,
   "metadata": {
    "dotnet_interactive": {
     "language": "csharp"
    }
   },
   "outputs": [
    {
     "name": "stdout",
     "output_type": "stream",
     "text": [
      "5\r\n",
      "12\r\n"
     ]
    }
   ],
   "source": [
    "Console.WriteLine(single.LongLength);\n",
    "Console.WriteLine(multi.LongLength);"
   ]
  },
  {
   "cell_type": "markdown",
   "metadata": {},
   "source": [
    "## Rank of the Array\n",
    "\n",
    "- `array_name.Rank`\n",
    "- With the `Rank` method, we can get the rank of the array of its dimentions."
   ]
  },
  {
   "cell_type": "code",
   "execution_count": null,
   "metadata": {
    "dotnet_interactive": {
     "language": "csharp"
    }
   },
   "outputs": [
    {
     "name": "stdout",
     "output_type": "stream",
     "text": [
      "1\r\n",
      "2\r\n"
     ]
    }
   ],
   "source": [
    "Console.WriteLine(single.Rank);\n",
    "Console.WriteLine(multi.Rank);"
   ]
  },
  {
   "cell_type": "code",
   "execution_count": null,
   "metadata": {
    "dotnet_interactive": {
     "language": "csharp"
    }
   },
   "outputs": [
    {
     "name": "stdout",
     "output_type": "stream",
     "text": [
      "1\t2"
     ]
    }
   ],
   "source": [
    "string[][,] light = {\n",
    "    new string[2,2],\n",
    "    new string[2,3]\n",
    "};\n",
    "\n",
    "// For Jagged and Rectangular Arrays Rank\n",
    "Console.Write($\"{light.Rank}\");\n",
    "Console.Write($\"\\t{light[1].Rank}\");"
   ]
  },
  {
   "cell_type": "markdown",
   "metadata": {},
   "source": [
    "\n",
    "## Methods for checking info about Array\n",
    "\n",
    "- `array_name.IsReadOnly`\n",
    "- This method returns the results of the array wheather it is read-only or not.\n",
    "- `array_name.IsFixedSize`\n",
    "- This method returns the results of the array wheather it is fixed size or not.\n",
    "- `Array.Equals(array_name, array_name)`\n",
    "- This method returns the results of wheather both array objects are same or not."
   ]
  },
  {
   "cell_type": "code",
   "execution_count": null,
   "metadata": {
    "dotnet_interactive": {
     "language": "csharp"
    }
   },
   "outputs": [
    {
     "name": "stdout",
     "output_type": "stream",
     "text": [
      "False\r\n",
      "True\r\n",
      "False\r\n"
     ]
    }
   ],
   "source": [
    "Console.WriteLine(multi.IsReadOnly);\n",
    "Console.WriteLine(multi.IsFixedSize);\n",
    "Console.WriteLine(Array.Equals(single, multi));"
   ]
  },
  {
   "cell_type": "code",
   "execution_count": null,
   "metadata": {
    "dotnet_interactive": {
     "language": "csharp"
    }
   },
   "outputs": [
    {
     "name": "stdout",
     "output_type": "stream",
     "text": [
      "True\r\n"
     ]
    }
   ],
   "source": [
    "int[,] summo = multi;\n",
    "Console.WriteLine(Array.Equals(multi, summo));"
   ]
  },
  {
   "cell_type": "markdown",
   "metadata": {},
   "source": [
    "## Makes the Entire Array Read-Only\n",
    "\n",
    "- `Array.AsReadOnly(array_name)`\n",
    "- This method returns a read-only wrapper around the specified array."
   ]
  },
  {
   "cell_type": "code",
   "execution_count": null,
   "metadata": {
    "dotnet_interactive": {
     "language": "csharp"
    }
   },
   "outputs": [
    {
     "name": "stdout",
     "output_type": "stream",
     "text": [
      "Cannot change value because the array is read-only\r\n"
     ]
    }
   ],
   "source": [
    "using System.Collections.Generic; // IList<T>\n",
    "\n",
    "IList<char> List_Char = Array.AsReadOnly(single);\n",
    "\n",
    "try{\n",
    "    List_Char[1] = 'a'; \n",
    "}\n",
    "catch{\n",
    "    Console.WriteLine(\"Cannot change value because the array is read-only\");\n",
    "}"
   ]
  },
  {
   "cell_type": "markdown",
   "metadata": {},
   "source": [
    "## Fewer Operations on Array\n",
    "\n",
    "- `array_name.Clear()`\n",
    "- This method clears out the array to the default value.\n",
    "- `array_name.Empty()`\n",
    "- This method returns an empty array of the same type as the array.\n",
    "- `array_name.GetLength(dimension_number - 1)`\n",
    "- This method returns the length of the array in the specified dimension.\n",
    "- `array_name.GetType()`\n",
    "- This method returns the type of the array."
   ]
  },
  {
   "cell_type": "code",
   "execution_count": null,
   "metadata": {
    "dotnet_interactive": {
     "language": "csharp"
    }
   },
   "outputs": [
    {
     "name": "stdout",
     "output_type": "stream",
     "text": [
      "A \u0000 \u0000 o 4\r\n"
     ]
    }
   ],
   "source": [
    "Array.Clear(single, 1, 2);\n",
    "Console.WriteLine(string.Join(' ', single));"
   ]
  },
  {
   "cell_type": "code",
   "execution_count": null,
   "metadata": {
    "dotnet_interactive": {
     "language": "csharp"
    }
   },
   "outputs": [
    {
     "name": "stdout",
     "output_type": "stream",
     "text": [
      "0\r\n"
     ]
    }
   ],
   "source": [
    "int[] new_arr = new int[] {}; // An empty array\n",
    "Console.WriteLine(new_arr.Length);"
   ]
  },
  {
   "cell_type": "code",
   "execution_count": null,
   "metadata": {
    "dotnet_interactive": {
     "language": "csharp"
    }
   },
   "outputs": [
    {
     "name": "stdout",
     "output_type": "stream",
     "text": [
      "3\r\n",
      "4\r\n"
     ]
    }
   ],
   "source": [
    "Console.WriteLine(multi.GetLength(0)); // Getting Rows Length\n",
    "Console.WriteLine(multi.GetLength(1)); // Getting Columns Length"
   ]
  },
  {
   "cell_type": "code",
   "execution_count": null,
   "metadata": {
    "dotnet_interactive": {
     "language": "csharp"
    }
   },
   "outputs": [
    {
     "name": "stdout",
     "output_type": "stream",
     "text": [
      "System.Char[]\r\n"
     ]
    }
   ],
   "source": [
    "Console.WriteLine(single.GetType());"
   ]
  },
  {
   "cell_type": "markdown",
   "metadata": {},
   "source": [
    "## Find and FindAll Methods\n",
    "\n",
    "- `Array.Exists(array_name, predicate)`\n",
    "- This method returns bool result which matches the condition defined by the predicate.\n",
    "- `Array.Find(array_name, predicate)`\n",
    "- This method returns first result that matches the condition defined by the predicate.\n",
    "- `Array.FindLast(array_name, predicate)`\n",
    "- This method returns last result that matches the condition defined by the predicate.\n",
    "- `Array.FindAll(array_name, predicate)`\n",
    "- This method returns all the results that matches the condition defined by the predicate.\n",
    "- `Array.FindIndex(array_name, predicate)`\n",
    "- This method returns the index no. of the first result that matches the condition defined by the predicate.\n",
    "- `Array.FindLastIndex(array_name, predicate)`\n",
    "- This method returns the index no. of the last result that matches the condition defined by the predicate."
   ]
  },
  {
   "cell_type": "code",
   "execution_count": null,
   "metadata": {
    "dotnet_interactive": {
     "language": "csharp"
    }
   },
   "outputs": [],
   "source": [
    "int[] values = new int[] {700, 600, 532, 499, 228, 440};\n",
    "int lBound = 300;\n",
    "int uBound = 600;"
   ]
  },
  {
   "cell_type": "code",
   "execution_count": null,
   "metadata": {
    "dotnet_interactive": {
     "language": "csharp"
    }
   },
   "outputs": [
    {
     "name": "stdout",
     "output_type": "stream",
     "text": [
      "True\r\n"
     ]
    }
   ],
   "source": [
    "bool Item3 = Array.Exists(values, x => x > lBound && x < uBound);\n",
    "Console.WriteLine(Item3);"
   ]
  },
  {
   "cell_type": "code",
   "execution_count": null,
   "metadata": {
    "dotnet_interactive": {
     "language": "csharp"
    }
   },
   "outputs": [
    {
     "name": "stdout",
     "output_type": "stream",
     "text": [
      "532\r\n"
     ]
    }
   ],
   "source": [
    "int TheItem = Array.Find(values, x => x > lBound && x < uBound);\n",
    "Console.WriteLine(TheItem);"
   ]
  },
  {
   "cell_type": "code",
   "execution_count": null,
   "metadata": {
    "dotnet_interactive": {
     "language": "csharp"
    }
   },
   "outputs": [
    {
     "name": "stdout",
     "output_type": "stream",
     "text": [
      "440\r\n"
     ]
    }
   ],
   "source": [
    "int TheItem = Array.FindLast(values, x => x > lBound && x < uBound);\n",
    "Console.WriteLine(TheItem);"
   ]
  },
  {
   "cell_type": "code",
   "execution_count": null,
   "metadata": {
    "dotnet_interactive": {
     "language": "csharp"
    }
   },
   "outputs": [
    {
     "name": "stdout",
     "output_type": "stream",
     "text": [
      "532  499  440  "
     ]
    }
   ],
   "source": [
    "\n",
    "int[] matchedItems = Array.FindAll(values, x => x > lBound && x < uBound);\n",
    "\n",
    "for (int ctr = 0; ctr < matchedItems.Length; ctr++) {\n",
    "    Console.Write(\"{0}  \", matchedItems[ctr]);\n",
    "}"
   ]
  },
  {
   "cell_type": "code",
   "execution_count": null,
   "metadata": {
    "dotnet_interactive": {
     "language": "csharp"
    }
   },
   "outputs": [
    {
     "name": "stdout",
     "output_type": "stream",
     "text": [
      "532\r\n"
     ]
    }
   ],
   "source": [
    "int Item1 = Array.FindIndex(values, x => x > lBound && x < uBound);\n",
    "Console.WriteLine(values[Item1]);"
   ]
  },
  {
   "cell_type": "code",
   "execution_count": null,
   "metadata": {
    "dotnet_interactive": {
     "language": "csharp"
    }
   },
   "outputs": [
    {
     "name": "stdout",
     "output_type": "stream",
     "text": [
      "440\r\n"
     ]
    }
   ],
   "source": [
    "int Item2 = Array.FindLastIndex(values, x => x > lBound && x < uBound);\n",
    "Console.WriteLine(values[Item2]);"
   ]
  }
 ],
 "metadata": {
  "kernelspec": {
   "display_name": ".NET (C#)",
   "language": "C#",
   "name": ".net-csharp"
  },
  "language_info": {
   "file_extension": ".cs",
   "mimetype": "text/x-csharp",
   "name": "C#",
   "pygments_lexer": "csharp",
   "version": "9.0"
  },
  "orig_nbformat": 4
 },
 "nbformat": 4,
 "nbformat_minor": 2
}
