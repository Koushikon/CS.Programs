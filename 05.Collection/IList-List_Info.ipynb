{
 "cells": [
  {
   "cell_type": "markdown",
   "metadata": {},
   "source": [
    "# IList, ICollection, IEnumerable, List Info"
   ]
  },
  {
   "cell_type": "markdown",
   "metadata": {},
   "source": [
    "Choosing which one to use depends on your specific needs:\n",
    "- Use `IEnumerable` when you only need to iterate over a collection without modifying it.\n",
    "- Use `ICollection` when you need to add or remove elements but don't require indexed access.\n",
    "- Use `IList` when you need indexed access but can work with any type implementing this interface.\n",
    "- Use `List` when you need a dynamic, resizable collection with indexed access and plan to add or remove elements frequently."
   ]
  },
  {
   "cell_type": "code",
   "execution_count": 19,
   "metadata": {
    "dotnet_interactive": {
     "language": "csharp"
    },
    "polyglot_notebook": {
     "kernelName": "csharp"
    },
    "vscode": {
     "languageId": "polyglot-notebook"
    }
   },
   "outputs": [],
   "source": [
    "// With declaring List type we cannot pass the types other than List\n",
    "private void test_List(List<int> list)\n",
    "{\n",
    "    list.Add(1);\n",
    "}"
   ]
  },
  {
   "cell_type": "code",
   "execution_count": 20,
   "metadata": {
    "dotnet_interactive": {
     "language": "csharp"
    },
    "polyglot_notebook": {
     "kernelName": "csharp"
    },
    "vscode": {
     "languageId": "polyglot-notebook"
    }
   },
   "outputs": [],
   "source": [
    "var nums_arr = new int[] { 5, 6, 7 };\n",
    "var nums_lst = new List<int>() { 5, 6, 7 };"
   ]
  },
  {
   "cell_type": "code",
   "execution_count": 21,
   "metadata": {
    "dotnet_interactive": {
     "language": "csharp"
    },
    "polyglot_notebook": {
     "kernelName": "csharp"
    },
    "vscode": {
     "languageId": "polyglot-notebook"
    }
   },
   "outputs": [],
   "source": [
    "// test_List(nums_arr);    // Can't pass an array\n",
    "test_List(nums_lst);"
   ]
  },
  {
   "cell_type": "markdown",
   "metadata": {},
   "source": [
    "- But With `IList<T>`"
   ]
  },
  {
   "cell_type": "code",
   "execution_count": 22,
   "metadata": {
    "dotnet_interactive": {
     "language": "csharp"
    },
    "polyglot_notebook": {
     "kernelName": "csharp"
    },
    "vscode": {
     "languageId": "polyglot-notebook"
    }
   },
   "outputs": [],
   "source": [
    "// With declaring List type we cannot pass the types other than List\n",
    "private void test_IList(IList<int> list)\n",
    "{\n",
    "    list.Add(1);\n",
    "}"
   ]
  },
  {
   "cell_type": "code",
   "execution_count": 23,
   "metadata": {
    "dotnet_interactive": {
     "language": "csharp"
    },
    "polyglot_notebook": {
     "kernelName": "csharp"
    },
    "vscode": {
     "languageId": "polyglot-notebook"
    }
   },
   "outputs": [],
   "source": [
    "// This will give an error in the Runtime,\n",
    "// Because its an array type an we're adding a element to it in the function test_IList\n",
    "// test_IList(nums_arr);\n",
    "\n",
    "test_IList(nums_lst);"
   ]
  },
  {
   "cell_type": "markdown",
   "metadata": {},
   "source": [
    "## IEnumerable:"
   ]
  },
  {
   "cell_type": "code",
   "execution_count": 24,
   "metadata": {
    "dotnet_interactive": {
     "language": "csharp"
    },
    "polyglot_notebook": {
     "kernelName": "csharp"
    },
    "vscode": {
     "languageId": "polyglot-notebook"
    }
   },
   "outputs": [
    {
     "name": "stdout",
     "output_type": "stream",
     "text": [
      "12345"
     ]
    }
   ],
   "source": [
    "IEnumerable<int> numbers = new List<int> { 1, 2, 3, 4, 5 };\n",
    "\n",
    "foreach (var number in numbers)\n",
    "{\n",
    "    Console.Write(number);\n",
    "}"
   ]
  },
  {
   "cell_type": "markdown",
   "metadata": {},
   "source": [
    "## ICollection:"
   ]
  },
  {
   "cell_type": "code",
   "execution_count": 25,
   "metadata": {
    "dotnet_interactive": {
     "language": "csharp"
    },
    "polyglot_notebook": {
     "kernelName": "csharp"
    },
    "vscode": {
     "languageId": "polyglot-notebook"
    }
   },
   "outputs": [],
   "source": [
    "ICollection<string> colors = new List<string> { \"red\", \"green\", \"blue\" };\n",
    "colors.Add(\"yellow\");\n",
    "colors.Remove(\"red\");"
   ]
  },
  {
   "cell_type": "markdown",
   "metadata": {},
   "source": [
    "## IList:"
   ]
  },
  {
   "cell_type": "code",
   "execution_count": 26,
   "metadata": {
    "dotnet_interactive": {
     "language": "csharp"
    },
    "polyglot_notebook": {
     "kernelName": "csharp"
    },
    "vscode": {
     "languageId": "polyglot-notebook"
    }
   },
   "outputs": [],
   "source": [
    "IList<double> grades = new List<double> { 95.5, 88.0, 73.2 };\n",
    "grades[1] = 90.5; // Modify an element by index\n",
    "grades.Insert(2, 85.8); // Insert an element at a specific index\n",
    "grades.RemoveAt(0); // Remove an element by index"
   ]
  },
  {
   "cell_type": "markdown",
   "metadata": {},
   "source": [
    "## List:"
   ]
  },
  {
   "cell_type": "code",
   "execution_count": 27,
   "metadata": {
    "dotnet_interactive": {
     "language": "csharp"
    },
    "polyglot_notebook": {
     "kernelName": "csharp"
    },
    "vscode": {
     "languageId": "polyglot-notebook"
    }
   },
   "outputs": [],
   "source": [
    "public record Person(string Name);\n",
    "\n",
    "List<Person> people = new List<Person>();\n",
    "people.Add(new Person(\"Alice\"));\n",
    "people.Add(new Person(\"Bob\"));\n",
    "people.Remove(new Person(\"Charlie\"));"
   ]
  }
 ],
 "metadata": {
  "language_info": {
   "name": "csharp"
  },
  "orig_nbformat": 4
 },
 "nbformat": 4,
 "nbformat_minor": 2
}
