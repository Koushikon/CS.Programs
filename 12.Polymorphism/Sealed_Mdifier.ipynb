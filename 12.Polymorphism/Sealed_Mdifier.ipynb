{
 "cells": [
  {
   "cell_type": "markdown",
   "metadata": {},
   "source": [
    "# Sealed Modifier in C#\n",
    "\n",
    "[Techopedia](https://cutt.ly/GHLNbDC) | [MS Docs](https://cutt.ly/AHLNRPk)"
   ]
  },
  {
   "cell_type": "markdown",
   "metadata": {},
   "source": [
    "A `sealed` class, in `C#`, is a class that cannot be inherited by any class but can be instantiated.\n",
    "\n",
    "The design intent of a sealed class is to indicate that the class is specialized and there is no need to extend it to provide any additional functionality through inheritance to override its behavior. A sealed class is often used to encapsulate a logic that needs to be used across the program but without any alteration to it.\n",
    "\n",
    "A `sealed` class is mostly used for security reasons by preventing unintended derivation by which the derived class may corrupt the implementation provided in the sealed class. As the sealed class cannot form a base class, calls to sealed classes are slightly faster because they enable certain runtime optimizations such as invocation of virtual member functions on instances of sealed class into non-virtual invocations. Sealed class helps in versioning by not breaking compatibility while changing a class from sealed type to unsealed.\n",
    "\n",
    "Some of the key classes in the .NET framework library are designed as `sealed` classes, mainly to `limit the extensibility of these classes`."
   ]
  },
  {
   "cell_type": "markdown",
   "metadata": {},
   "source": [
    "- Prevents derivation of classes or overriding of methods\n",
    "\n",
    "Similar to the `abstract` modifier it can be applied to a class or class member. If applied to a `class`, it prevents the class from being derived. If applied to a class `member`, it prevents the member from being overridden."
   ]
  },
  {
   "cell_type": "code",
   "execution_count": null,
   "metadata": {
    "dotnet_interactive": {
     "language": "csharp"
    },
    "vscode": {
     "languageId": "dotnet-interactive.csharp"
    }
   },
   "outputs": [],
   "source": [
    "public abstract class Shape {\n",
    "    public virtual void Draw(){}\n",
    "}\n",
    "\n",
    "public class Circle : Shape {\n",
    "    public override void Draw() {\n",
    "        Console.WriteLine(\"Draw a circle.\");\n",
    "    }\n",
    "}"
   ]
  },
  {
   "cell_type": "markdown",
   "metadata": {},
   "source": [
    "We can apply the `sealed` modifier to Circle class. By doing so we cannot create a class derived from Circle. Or, we can apply the `sealed` modifier to the `Draw` method. By doing so we cannot override the `Draw` method in the derived class.\n",
    "\n",
    "Note that `sealed` modifier can only be applied to methods that are overriding the virtual methods of base class. So if we're not overriding a method that is `virtual` in base class there is no need to apply the `sealed` modifier."
   ]
  },
  {
   "cell_type": "markdown",
   "metadata": {},
   "source": [
    "## Why do we need `sealed` modifier?"
   ]
  },
  {
   "cell_type": "markdown",
   "metadata": {},
   "source": [
    "- `sealed` classes are slightly faster because of some Run-time optimizations.\n",
    "\n",
    "Also if we're going to apply `sealed` to our classes for a little optimization, we're going mess up with inheritance hierarchy and that can effect the design and development of the application. But if we're absolutely sure that we're not going to derive any class from our sealed classes, we can apply the `sealed` modifier to them. like `string` class is defined as sealed class in .NET framework.\n",
    "\n",
    "We cannot extend the `string` class. But if we want to extend it we use extension methods to do so."
   ]
  }
 ],
 "metadata": {
  "kernelspec": {
   "display_name": ".NET (C#)",
   "language": "C#",
   "name": ".net-csharp"
  },
  "language_info": {
   "file_extension": ".cs",
   "mimetype": "text/x-csharp",
   "name": "C#",
   "pygments_lexer": "csharp",
   "version": "9.0"
  },
  "orig_nbformat": 4
 },
 "nbformat": 4,
 "nbformat_minor": 2
}
