{
 "cells": [
  {
   "cell_type": "markdown",
   "metadata": {},
   "source": [
    "# Method Overriding\n",
    "\n",
    "[GFG](https://www.geeksforgeeks.org/c-sharp-method-overriding/)"
   ]
  },
  {
   "cell_type": "markdown",
   "metadata": {},
   "source": [
    "Using 3 types of keyboard we can achive Method Overriding:\n",
    "\n",
    "- Virtual / Override\n",
    "- base\n",
    "\n",
    "Method overriding is simply modifying the implementation of a inherited method. When we use inheritance there are times we may want to modify the implementation of a method that we inherited from a parent class."
   ]
  },
  {
   "cell_type": "markdown",
   "metadata": {},
   "source": [
    "### Method Override With using virtual and override keywords"
   ]
  },
  {
   "cell_type": "code",
   "execution_count": null,
   "metadata": {
    "dotnet_interactive": {
     "language": "csharp"
    },
    "vscode": {
     "languageId": "dotnet-interactive.csharp"
    }
   },
   "outputs": [],
   "source": [
    "public class Base_1 {\n",
    "    public virtual void Print() { // with Virtual keyword in the base method\n",
    "        Console.WriteLine(\"Base Method\");\n",
    "    }\n",
    "}\n",
    "\n",
    "public class Derived_1 : Base_1 {\n",
    "    public override void Print() { // with Override keyword in the derived method\n",
    "        Console.WriteLine(\"Derived Method\");\n",
    "    }\n",
    "}"
   ]
  },
  {
   "cell_type": "code",
   "execution_count": null,
   "metadata": {
    "dotnet_interactive": {
     "language": "csharp"
    },
    "vscode": {
     "languageId": "dotnet-interactive.csharp"
    }
   },
   "outputs": [
    {
     "name": "stdout",
     "output_type": "stream",
     "text": [
      "Base Method\r\n",
      "Derived Method\r\n",
      "Derived Method\r\n"
     ]
    }
   ],
   "source": [
    "Base_1 b1 = new Base_1();\n",
    "b1.Print();\n",
    "\n",
    "// Make a Derived object of derived type\n",
    "Derived_1 d1 = new Derived_1();\n",
    "d1.Print();\n",
    "\n",
    "// Make a Derived object of base type\n",
    "Base_1 b2 = new Derived_1();\n",
    "b2.Print();"
   ]
  },
  {
   "cell_type": "markdown",
   "metadata": {},
   "source": [
    "### Method Override Without using virtual and override keywords"
   ]
  },
  {
   "cell_type": "code",
   "execution_count": null,
   "metadata": {
    "dotnet_interactive": {
     "language": "csharp"
    },
    "vscode": {
     "languageId": "dotnet-interactive.csharp"
    }
   },
   "outputs": [],
   "source": [
    "public class Base_2 {\n",
    "    public void Print() { // with Virtual keyword in the base method\n",
    "        Console.WriteLine(\"Base Method\");\n",
    "    }\n",
    "}\n",
    "\n",
    "public class Derived_2 : Base_2 {\n",
    "    new public void Print() { // with Override keyword in the derived method\n",
    "        Console.WriteLine(\"Derived Method\");\n",
    "    }\n",
    "}"
   ]
  },
  {
   "cell_type": "code",
   "execution_count": null,
   "metadata": {
    "dotnet_interactive": {
     "language": "csharp"
    },
    "vscode": {
     "languageId": "dotnet-interactive.csharp"
    }
   },
   "outputs": [
    {
     "name": "stdout",
     "output_type": "stream",
     "text": [
      "Base Method\r\n",
      "Derived Method\r\n",
      "Base Method\r\n"
     ]
    }
   ],
   "source": [
    "Base_2 b1 = new Base_2();\n",
    "b1.Print();\n",
    "\n",
    "// Make a Derived object of derived type\n",
    "Derived_2 d1 = new Derived_2();\n",
    "d1.Print();\n",
    "\n",
    "// Make a Derived object of base type\n",
    "Base_2 b2 = new Derived_2();\n",
    "b2.Print(); // This calls Base clas Print() method"
   ]
  },
  {
   "cell_type": "markdown",
   "metadata": {},
   "source": [
    "#### Explain the following code:\n",
    "\n",
    "In this program, the object `b2` invokes base Class method two times and call the method Print() of class baseClass. To avoid this problem we use virtual and override keyword."
   ]
  },
  {
   "cell_type": "markdown",
   "metadata": {},
   "source": [
    "### Use of base keyword in method overriding"
   ]
  },
  {
   "cell_type": "code",
   "execution_count": null,
   "metadata": {
    "dotnet_interactive": {
     "language": "csharp"
    },
    "vscode": {
     "languageId": "dotnet-interactive.csharp"
    }
   },
   "outputs": [],
   "source": [
    "public class Base_3 {\n",
    "    public virtual void Print() { // with Virtual keyword in the base method\n",
    "        Console.WriteLine(\"Base Method\");\n",
    "    }\n",
    "}\n",
    "\n",
    "public class Derived_3 : Base_3 {\n",
    "    public override void Print() { // with Override keyword in the derived method\n",
    "        base.Print(); // This calls Base class Print() method\n",
    "        Console.WriteLine(\"Derived Method\");\n",
    "    }\n",
    "}"
   ]
  },
  {
   "cell_type": "code",
   "execution_count": null,
   "metadata": {
    "dotnet_interactive": {
     "language": "csharp"
    },
    "vscode": {
     "languageId": "dotnet-interactive.csharp"
    }
   },
   "outputs": [
    {
     "name": "stdout",
     "output_type": "stream",
     "text": [
      "Base Method\r\n",
      "Base Method\r\n",
      "Derived Method\r\n",
      "Base Method\r\n",
      "Derived Method\r\n"
     ]
    }
   ],
   "source": [
    "Base_3 b1 = new Base_3();\n",
    "b1.Print();\n",
    "\n",
    "// Make a Derived object of derived type\n",
    "Derived_3 d1 = new Derived_3();\n",
    "d1.Print();\n",
    "\n",
    "// Make a Derived object of base type\n",
    "Base_3 b2 = new Derived_3();\n",
    "b2.Print();"
   ]
  }
 ],
 "metadata": {
  "kernelspec": {
   "display_name": ".NET (C#)",
   "language": "C#",
   "name": ".net-csharp"
  },
  "language_info": {
   "file_extension": ".cs",
   "mimetype": "text/x-csharp",
   "name": "C#",
   "pygments_lexer": "csharp",
   "version": "9.0"
  },
  "orig_nbformat": 4
 },
 "nbformat": 4,
 "nbformat_minor": 2
}
