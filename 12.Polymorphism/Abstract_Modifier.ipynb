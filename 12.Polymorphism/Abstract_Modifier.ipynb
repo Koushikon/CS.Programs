{
 "cells": [
  {
   "cell_type": "markdown",
   "metadata": {},
   "source": [
    "# Abstract Modifier in C#\n",
    "\n",
    "[Programiz](https://www.programiz.com/csharp-programming/abstract-class) | \n",
    "[MS Docs](https://docs.microsoft.com/en-us/dotnet/csharp/language-reference/keywords/abstract)"
   ]
  },
  {
   "cell_type": "markdown",
   "metadata": {},
   "source": [
    "The `abstract` modifier indicates that the thing being modified has a missing or incomplete implementation. The abstract modifier can be used with classes, methods, properties, indexers, and events. Use the abstract modifier in a class declaration to indicate that a class is intended only to be a base class of other classes, not instantiated on its own. Members marked as abstract must be implemented by non-abstract classes that derive from the abstract class.\n",
    "\n",
    "- indicates that a class or member is missing implementation."
   ]
  },
  {
   "cell_type": "code",
   "execution_count": null,
   "metadata": {
    "dotnet_interactive": {
     "language": "csharp"
    },
    "vscode": {
     "languageId": "dotnet-interactive.csharp"
    }
   },
   "outputs": [],
   "source": [
    "public class Base {\n",
    "    public virtual void Print() { }\n",
    "}\n",
    "\n",
    "public class Derived : Base {\n",
    "    public override void Print() {\n",
    "        Console.WriteLine(\"Derived Method\");\n",
    "    }\n",
    "}"
   ]
  },
  {
   "cell_type": "markdown",
   "metadata": {},
   "source": [
    "Here we have a problem, The problem is its hard to define the implementation of a shape without knowing the type of shape is it Circle ,Triangle or Rectangle. Because the concept of Shape `is to abstract`. In situations like this better to use `abstract` modifier."
   ]
  },
  {
   "cell_type": "code",
   "execution_count": null,
   "metadata": {
    "dotnet_interactive": {
     "language": "csharp"
    },
    "vscode": {
     "languageId": "dotnet-interactive.csharp"
    }
   },
   "outputs": [],
   "source": [
    "public abstract class Base {\n",
    "    public abstract void Print();\n",
    "}\n",
    "\n",
    "public class Derived : Base {\n",
    "    public override void Print() {\n",
    "        Console.WriteLine(\"Derived Method\");\n",
    "    }\n",
    "}"
   ]
  },
  {
   "cell_type": "markdown",
   "metadata": {},
   "source": [
    "Notice that here `Draw()` method in Base class doesn't have any implementation its just a declaration. When we declare a method or property as abstract the class that contains it must be declared as `abstract` as well.\n",
    "\n",
    "With the declaration we're telling its missing implementation and the implementation needs to be provided by the `Derived` classes. Inside the `Derived` class we simply override the abstract methods of `Base` class.\n",
    "\n",
    "Rules:\n",
    "- An `abstract` member do not include Implementation.\n",
    "- If the member is `abstract` then the class that contains it must be declared as `abstract` as well.\n",
    "- Must implement all abstract members in the `Derived` class. otherwise it will throw an error.\n",
    "- `abstract` classes can not be instantiated. If you try to instantiate an `abstract` class you will get an error."
   ]
  },
  {
   "cell_type": "markdown",
   "metadata": {},
   "source": [
    "## Why to use abstract class?"
   ]
  },
  {
   "cell_type": "markdown",
   "metadata": {},
   "source": [
    "When we want to provide some common behavior while forsing other developers to follow your design. like `System.IO.Stream` is a abstract class."
   ]
  }
 ],
 "metadata": {
  "kernelspec": {
   "display_name": ".NET (C#)",
   "language": "C#",
   "name": ".net-csharp"
  },
  "language_info": {
   "file_extension": ".cs",
   "mimetype": "text/x-csharp",
   "name": "C#",
   "pygments_lexer": "csharp",
   "version": "9.0"
  },
  "orig_nbformat": 4
 },
 "nbformat": 4,
 "nbformat_minor": 2
}
