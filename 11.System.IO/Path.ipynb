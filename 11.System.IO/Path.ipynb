{
 "cells": [
  {
   "cell_type": "markdown",
   "metadata": {},
   "source": [
    "# Path class in C#\n",
    "\n",
    "[MS Docs](https://docs.microsoft.com/en-us/dotnet/api/system.io.path?view=net-6.0)"
   ]
  },
  {
   "cell_type": "markdown",
   "metadata": {},
   "source": [
    "## Explanation\n",
    "\n",
    "Performs operations on String instances that contain file or directory path information. These operations are performed in a cross-platform manner. Inheritance: `Object -> Path`"
   ]
  },
  {
   "cell_type": "code",
   "execution_count": null,
   "metadata": {
    "dotnet_interactive": {
     "language": "csharp"
    }
   },
   "outputs": [],
   "source": [
    "using System.IO;"
   ]
  },
  {
   "cell_type": "markdown",
   "metadata": {},
   "source": [
    "## Few Path Methods\n",
    "\n",
    "GetFileName Method:\n",
    "- `Path.GetFileName(string_path)`\n",
    "- This method returns the file name and extension of the specified path string.\n",
    "\n",
    "GetExtension Method:\n",
    "- `path.GetExtension(string_path)`\n",
    "- This method returns the extension of the specified path string.\n",
    "\n",
    "GetFileNameWithoutExtension Method:\n",
    "- `Path.GetFileNameWithoutExtension(string_path)`\n",
    "- This method returns the file name of the specified path string without the extension.\n",
    "\n",
    "GetDirectoryName Method:\n",
    "- `GetDirectoryName(string_path)`\n",
    "- This method returns the directory information for the specified path string."
   ]
  },
  {
   "cell_type": "code",
   "execution_count": null,
   "metadata": {
    "dotnet_interactive": {
     "language": "csharp"
    }
   },
   "outputs": [
    {
     "name": "stdout",
     "output_type": "stream",
     "text": [
      "File name: New.xlsx\r\n",
      "File extention: .xlsx\r\n",
      "File name without extention: New\r\n",
      "Directory name: D:\\\r\n"
     ]
    }
   ],
   "source": [
    "string path1 = @\"D:\\New.xlsx\";\n",
    "Console.WriteLine(\"File name: {0}\", Path.GetFileName(path1));\n",
    "Console.WriteLine(\"File extention: {0}\", Path.GetExtension(path1));\n",
    "Console.WriteLine(\"File name without extention: {0}\", Path.GetFileNameWithoutExtension(path1));\n",
    "Console.WriteLine(\"Directory name: {0}\", Path.GetDirectoryName(path1));"
   ]
  },
  {
   "cell_type": "markdown",
   "metadata": {},
   "source": [
    "## Few Path Methods\n",
    "\n",
    "GetRelativePath Method:\n",
    "- `Path.GetRelativePath(string_path, string_base)`\n",
    "- This method returns the relative path from the base path to the destination path.\n",
    "\n",
    "GetPathRoot Method:\n",
    "- `Path.GetPathRoot(string_path)`\n",
    "- Returns the root directory of the specified path."
   ]
  },
  {
   "cell_type": "code",
   "execution_count": null,
   "metadata": {
    "dotnet_interactive": {
     "language": "csharp"
    }
   },
   "outputs": [
    {
     "name": "stdout",
     "output_type": "stream",
     "text": [
      "Relative Path: Temp\\MyTest.txt\r\n"
     ]
    }
   ],
   "source": [
    "path1 = @\"C:\\Windows\\Temp\\MyTest.txt\";\n",
    "var p1 = Path.GetRelativePath(@\"C:\\Windows\\\", path1);\n",
    "Console.WriteLine(\"Relative Path: {0}\", p1);"
   ]
  },
  {
   "cell_type": "code",
   "execution_count": null,
   "metadata": {
    "dotnet_interactive": {
     "language": "csharp"
    }
   },
   "outputs": [
    {
     "name": "stdout",
     "output_type": "stream",
     "text": [
      "C:\\\r\n"
     ]
    }
   ],
   "source": [
    "Console.WriteLine(Path.GetPathRoot(path1));"
   ]
  },
  {
   "cell_type": "markdown",
   "metadata": {},
   "source": [
    "## Path HasExtension Method\n",
    "\n",
    "- `Path.HasExtension(string_path)`\n",
    "- Returns a value indicating whether the specified path string contains an extension or not."
   ]
  },
  {
   "cell_type": "code",
   "execution_count": null,
   "metadata": {
    "dotnet_interactive": {
     "language": "csharp"
    }
   },
   "outputs": [
    {
     "name": "stdout",
     "output_type": "stream",
     "text": [
      "True\r\n",
      "False\r\n"
     ]
    }
   ],
   "source": [
    "Console.WriteLine(Path.HasExtension(path1));\n",
    "path1 = @\"C:\\Windows\\Temp\\MyTest\";\n",
    "Console.WriteLine(Path.HasExtension(path1));"
   ]
  },
  {
   "cell_type": "markdown",
   "metadata": {},
   "source": [
    "## Path GetTempPath Method\n",
    "\n",
    "- `Path.GetTempPath()`\n",
    "- Returns the path of the current temporary directory."
   ]
  },
  {
   "cell_type": "code",
   "execution_count": null,
   "metadata": {
    "dotnet_interactive": {
     "language": "csharp"
    }
   },
   "outputs": [
    {
     "name": "stdout",
     "output_type": "stream",
     "text": [
      "C:\\Users\\koush\\AppData\\Local\\Temp\\\r\n"
     ]
    }
   ],
   "source": [
    "Console.WriteLine(Path.GetTempPath());"
   ]
  }
 ],
 "metadata": {
  "kernelspec": {
   "display_name": ".NET (C#)",
   "language": "C#",
   "name": ".net-csharp"
  },
  "language_info": {
   "file_extension": ".cs",
   "mimetype": "text/x-csharp",
   "name": "C#",
   "pygments_lexer": "csharp",
   "version": "9.0"
  },
  "orig_nbformat": 4
 },
 "nbformat": 4,
 "nbformat_minor": 2
}
