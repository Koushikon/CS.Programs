{
 "cells": [
  {
   "cell_type": "markdown",
   "metadata": {},
   "source": [
    "## Directory Class in C#\n",
    "\n",
    "[MS Docs](https://docs.microsoft.com/en-us/dotnet/api/system.io.directory?view=net-6.0)"
   ]
  },
  {
   "cell_type": "markdown",
   "metadata": {},
   "source": [
    "## Explaination\n",
    "\n",
    "Directory class is a `static methods` for creating, moving, and enumerating through directories and subdirectories. This class cannot be inherited. DirectoryInfo class provides instance methods for creating, moving, and enumerating through directories and subdirectories. Its the same as Directory class but with Instance methods."
   ]
  },
  {
   "cell_type": "code",
   "execution_count": null,
   "metadata": {
    "dotnet_interactive": {
     "language": "csharp"
    }
   },
   "outputs": [],
   "source": [
    "using System.IO;"
   ]
  },
  {
   "cell_type": "markdown",
   "metadata": {},
   "source": [
    "## Directory Create Method\n",
    "\n",
    "- `Directory.CreateDirectory(string_path)`\n",
    "- Creates all the directories in a specified path."
   ]
  },
  {
   "cell_type": "code",
   "execution_count": null,
   "metadata": {
    "dotnet_interactive": {
     "language": "csharp"
    }
   },
   "outputs": [
    {
     "name": "stdout",
     "output_type": "stream",
     "text": [
      "C:\\Windows\\Temp\\First\r\n"
     ]
    }
   ],
   "source": [
    "Directory.CreateDirectory(@\"C:\\Windows\\Temp\\First\");\n",
    "DirectoryInfo di = Directory.CreateDirectory(@\"C:\\Windows\\Temp\\First\");\n",
    "\n",
    "Console.WriteLine(di);"
   ]
  },
  {
   "cell_type": "markdown",
   "metadata": {},
   "source": [
    "## Directory Delete Method\n",
    "\n",
    "- `Directory.Delete(string_path, Boolean)`\n",
    "- Deletes the specified directory and, if indicated, any subdirectories and files in the directory."
   ]
  },
  {
   "cell_type": "code",
   "execution_count": null,
   "metadata": {
    "dotnet_interactive": {
     "language": "csharp"
    }
   },
   "outputs": [],
   "source": [
    "Directory.Delete(@\"C:\\Windows\\Temp\\First\");\n",
    "\n",
    "// Delete all nested directories and files\n",
    "Directory.Delete(@\"C:\\Windows\\Temp\\One\", true);"
   ]
  },
  {
   "cell_type": "markdown",
   "metadata": {},
   "source": [
    "## Dictionary Exists Method\n",
    "\n",
    "- `Directory.Exists(string_path)`\n",
    "- Determines whether the given path refers to an existing directory on disk."
   ]
  },
  {
   "cell_type": "code",
   "execution_count": null,
   "metadata": {
    "dotnet_interactive": {
     "language": "csharp"
    }
   },
   "outputs": [
    {
     "name": "stdout",
     "output_type": "stream",
     "text": [
      "False\r\n"
     ]
    }
   ],
   "source": [
    "Console.WriteLine(Directory.Exists(@\"C:\\Windows\\Temp\\One\"));"
   ]
  },
  {
   "cell_type": "markdown",
   "metadata": {},
   "source": [
    "## Directory Move Method\n",
    "\n",
    "- `Directory.Move(string_sourceDirName, string_destDirName)`\n",
    "- Moves a file or a directory and its contents to a new location."
   ]
  },
  {
   "cell_type": "code",
   "execution_count": null,
   "metadata": {
    "dotnet_interactive": {
     "language": "csharp"
    }
   },
   "outputs": [],
   "source": [
    "Directory.Move(@\"C:\\TT\", @\"C:\\Windows\\Temp\\TT\");"
   ]
  },
  {
   "cell_type": "markdown",
   "metadata": {},
   "source": [
    "## Directory GetCurrentDirectory Method\n",
    "\n",
    "- `Directory.GetCurrentDirectory();`\n",
    "- This method returns the path of the current directory."
   ]
  },
  {
   "cell_type": "code",
   "execution_count": null,
   "metadata": {
    "dotnet_interactive": {
     "language": "csharp"
    }
   },
   "outputs": [
    {
     "name": "stdout",
     "output_type": "stream",
     "text": [
      "d:\\Conversation\\CSharp.Programs\\12.System_IO\r\n"
     ]
    }
   ],
   "source": [
    "Console.WriteLine(Directory.GetCurrentDirectory());"
   ]
  },
  {
   "cell_type": "markdown",
   "metadata": {},
   "source": [
    "## Directory GetFiles Method\n",
    "\n",
    "- `Directory.GetFiles(string_path, string_searchPattern, SearchOption_searchOption)`\n",
    "- Returns the names of files (including their paths) that match the specified search pattern in the specified directory, using a value to determine whether to search subdirectories."
   ]
  },
  {
   "cell_type": "code",
   "execution_count": null,
   "metadata": {
    "dotnet_interactive": {
     "language": "csharp"
    }
   },
   "outputs": [
    {
     "name": "stdout",
     "output_type": "stream",
     "text": [
      "C:\\Windows\\Temp\\TT\\Diagram.vsdx\n",
      "C:\\Windows\\Temp\\TT\\Music.txt\n",
      "C:\\Windows\\Temp\\TT\\Words.rtf\r\n"
     ]
    }
   ],
   "source": [
    "var files = Directory.GetFiles(@\"C:\\Windows\\Temp\\TT\");\n",
    "\n",
    "Console.WriteLine(string.Join('\\n', files));"
   ]
  },
  {
   "cell_type": "markdown",
   "metadata": {},
   "source": [
    "## Directory GetLogicalDrives Method\n",
    "\n",
    "- `Directory.GetLogicalDrives();`\n",
    "- Retrieves the names of the logical drives on this computer in the form `<drive letter>:\\`."
   ]
  },
  {
   "cell_type": "code",
   "execution_count": null,
   "metadata": {
    "dotnet_interactive": {
     "language": "csharp"
    }
   },
   "outputs": [
    {
     "name": "stdout",
     "output_type": "stream",
     "text": [
      "C:\\ D:\\ E:\\ F:\\\r\n"
     ]
    }
   ],
   "source": [
    "Console.WriteLine(string.Join(' ', Directory.GetLogicalDrives()));"
   ]
  }
 ],
 "metadata": {
  "kernelspec": {
   "display_name": ".NET (C#)",
   "language": "C#",
   "name": ".net-csharp"
  },
  "language_info": {
   "file_extension": ".cs",
   "mimetype": "text/x-csharp",
   "name": "C#",
   "pygments_lexer": "csharp",
   "version": "9.0"
  },
  "orig_nbformat": 4
 },
 "nbformat": 4,
 "nbformat_minor": 2
}
