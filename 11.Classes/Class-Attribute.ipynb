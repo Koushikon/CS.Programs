{
 "cells": [
  {
   "cell_type": "markdown",
   "metadata": {},
   "source": [
    "## C# Class Attribute"
   ]
  },
  {
   "cell_type": "code",
   "execution_count": null,
   "metadata": {
    "dotnet_interactive": {
     "language": "csharp"
    }
   },
   "outputs": [],
   "source": [
    "public class Order { }"
   ]
  },
  {
   "cell_type": "markdown",
   "metadata": {},
   "source": [
    "## Initialization\n",
    "\n",
    "```C#\n",
    "public class Customer {\n",
    "    List<Order> orders;\n",
    "\n",
    "    public Customer() {\n",
    "        orders = new List<Order>();\n",
    "    }\n",
    "}\n",
    "```\n",
    "\n",
    "To initializing fields there's another thought: We should use Constructor only when we need to initialize fields based on the values passed from the outside.\n",
    "\n",
    "But in this we're initializing orders field without any external values. So, There's another way to do this."
   ]
  },
  {
   "cell_type": "code",
   "execution_count": null,
   "metadata": {
    "dotnet_interactive": {
     "language": "csharp"
    }
   },
   "outputs": [],
   "source": [
    "public class Customer {\n",
    "    List<Order> orders = new List<Order>(); // Initialize every time on object creation\n",
    "}"
   ]
  },
  {
   "cell_type": "markdown",
   "metadata": {},
   "source": [
    "## Readonly Fields"
   ]
  },
  {
   "cell_type": "markdown",
   "metadata": {},
   "source": [
    "The `readonly` keyword is a `modifier` that can be used in four contexts:\n",
    "\n",
    "In a field declaration, `readonly` indicates that assignment to the field can only occur as part of the declaration or in a `constructor` in the same class. A `readonly` field can be assigned and reassigned multiple times within the field declaration and constructor.\n",
    "\n",
    "We can declare a Field with `readonly` modifier to make sure that field is only `assigned once`. So, in that case that field has be initialize directly like `Above code` or in constructor.\n",
    "\n",
    "We use `readonly` to make some kind of `safety` on our Application, improve `Robustness`. So, we don't accidently change the value of the field."
   ]
  },
  {
   "cell_type": "code",
   "execution_count": null,
   "metadata": {
    "dotnet_interactive": {
     "language": "csharp"
    }
   },
   "outputs": [],
   "source": [
    "public class Person {\n",
    "    string name;\n",
    "    public readonly List<Order> Orders = new List<Order>(); // Initialize only once\n",
    "\n",
    "    public Person(string p_name) {\n",
    "        this.name = p_name;\n",
    "    }\n",
    "\n",
    "    public void Promote() {\n",
    "        // Orders = new List<Order>(); // Can't assign more than once\n",
    "    }\n",
    "}"
   ]
  },
  {
   "cell_type": "code",
   "execution_count": null,
   "metadata": {
    "dotnet_interactive": {
     "language": "csharp"
    }
   },
   "outputs": [
    {
     "name": "stdout",
     "output_type": "stream",
     "text": [
      "Size of Orders List: 1\r\n"
     ]
    }
   ],
   "source": [
    "var person = new Person(\"Bob\");\n",
    "person.Orders.Add(new Order());\n",
    "\n",
    "Console.WriteLine($\"Size of Orders List: {person.Orders.Count}\");"
   ]
  }
 ],
 "metadata": {
  "kernelspec": {
   "display_name": ".NET (C#)",
   "language": "C#",
   "name": ".net-csharp"
  },
  "language_info": {
   "file_extension": ".cs",
   "mimetype": "text/x-csharp",
   "name": "C#",
   "pygments_lexer": "csharp",
   "version": "9.0"
  },
  "orig_nbformat": 4
 },
 "nbformat": 4,
 "nbformat_minor": 2
}
