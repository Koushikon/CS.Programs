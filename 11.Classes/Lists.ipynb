{
 "cells": [
  {
   "cell_type": "markdown",
   "metadata": {},
   "source": [
    "# List Data Structure in C#\n",
    "\n",
    "Arrays have a `fixed size` which means that they can only hold a certain number of elements. But there are situations where you need to store a collection of elements in a flexible way. When we don't know the number of elements ahead of time, we can use a List. Its `Dynamic Size` in nature.\n",
    "\n",
    "- Lists are a data structure that can hold multiple values of the same type.\n",
    "- Lists are ordered, and can be accessed by index.\n",
    "- When we are working with Generic Types, we need to specify the type inside the angle brackets.\n",
    "- `List<type_name> list_name = new List<type_name>();`\n",
    "- We can create a List of any type Primitive or Non-Primitive.\n",
    "- For List we have to include the `System.Collections.Generic` namespace."
   ]
  },
  {
   "cell_type": "code",
   "execution_count": null,
   "metadata": {
    "dotnet_interactive": {
     "language": "csharp"
    }
   },
   "outputs": [],
   "source": [
    "using System.Collections.Generic; // for List<>"
   ]
  },
  {
   "cell_type": "code",
   "execution_count": null,
   "metadata": {
    "dotnet_interactive": {
     "language": "csharp"
    }
   },
   "outputs": [],
   "source": [
    "var numbers = new List<int>();\n",
    "List<int> numbers2 = new List<int>() {9, 10, 12};\n",
    "List<int> numbers3 = new List<int>() {5, 7, 9, 8};"
   ]
  },
  {
   "cell_type": "markdown",
   "metadata": {},
   "source": [
    "## Add Elements to List\n",
    "\n",
    "- `Add(elemeny)`\n",
    "- This method adds an element to the end of the list.\n",
    "- `AddRange(array_list_name)`\n",
    "- This method adds a range of elements to the end of the list."
   ]
  },
  {
   "cell_type": "code",
   "execution_count": null,
   "metadata": {
    "dotnet_interactive": {
     "language": "csharp"
    }
   },
   "outputs": [],
   "source": [
    "numbers3.Add(11);\n",
    "numbers3.AddRange(numbers2);\n",
    "numbers3.AddRange(new int[] {55, 56, 57});"
   ]
  },
  {
   "cell_type": "code",
   "execution_count": null,
   "metadata": {
    "dotnet_interactive": {
     "language": "csharp"
    }
   },
   "outputs": [
    {
     "name": "stdout",
     "output_type": "stream",
     "text": [
      "5 7 9 8 11 9 10 12 55 56 57\r\n"
     ]
    }
   ],
   "source": [
    "Console.WriteLine(string.Join(' ', numbers3));"
   ]
  },
  {
   "cell_type": "markdown",
   "metadata": {},
   "source": [
    "## Iterate through List"
   ]
  },
  {
   "cell_type": "code",
   "execution_count": null,
   "metadata": {
    "dotnet_interactive": {
     "language": "csharp"
    }
   },
   "outputs": [
    {
     "name": "stdout",
     "output_type": "stream",
     "text": [
      "5  7  9  8  11  9  10  12  55  56  57  "
     ]
    }
   ],
   "source": [
    "foreach(int num in numbers3)\n",
    "{\n",
    "    Console.Write(\"{0}  \", num);\n",
    "}"
   ]
  },
  {
   "cell_type": "markdown",
   "metadata": {},
   "source": [
    "## Find Elements index no.\n",
    "\n",
    "- `list_name.IndexOf(element)`\n",
    "- `list_name.IndexOf(element, start_index)`\n",
    "- `list_name.IndexOf(element, start_index, count)`\n",
    "- This method returns the index of the first occurrence of the specified element in the list.\n",
    "- This methods has three overloads. first one takes only `element` as argument, second one takes `element and start_index` as argument and third one takes `element, start_index and count` (No. of element we we'll be searching on) as argument."
   ]
  },
  {
   "cell_type": "code",
   "execution_count": null,
   "metadata": {
    "dotnet_interactive": {
     "language": "csharp"
    }
   },
   "outputs": [
    {
     "name": "stdout",
     "output_type": "stream",
     "text": [
      "Index is 7  \r\n",
      "Index is -1  \r\n",
      "Index is 8  \r\n"
     ]
    }
   ],
   "source": [
    "Console.WriteLine(\"Index is {0}  \", numbers3.IndexOf(12));\n",
    "Console.WriteLine(\"Index is {0}  \", numbers3.IndexOf(7, 4));\n",
    "Console.WriteLine(\"Index is {0}  \", numbers3.IndexOf(55, 6, 3));"
   ]
  },
  {
   "cell_type": "markdown",
   "metadata": {},
   "source": [
    "The `LastIndexOf()` is similar to `IndexOf()` but it searches the list from the end.\n",
    "\n",
    "- `LastIndexOf(element)`\n",
    "- `LastIndexOf(element, start_index)`\n",
    "- `LastIndexOf(element, start_index, count)`\n",
    "- This method returns the index of the last occurrence of the specified element in the list."
   ]
  },
  {
   "cell_type": "code",
   "execution_count": null,
   "metadata": {
    "dotnet_interactive": {
     "language": "csharp"
    }
   },
   "outputs": [
    {
     "name": "stdout",
     "output_type": "stream",
     "text": [
      "Index is 4  \r\n",
      "Index is -1  \r\n",
      "Index is 4  \r\n"
     ]
    }
   ],
   "source": [
    "Console.WriteLine(\"Index is {0}  \",numbers3.LastIndexOf(11));\n",
    "Console.WriteLine(\"Index is {0}  \",numbers3.LastIndexOf(55, 4));\n",
    "Console.WriteLine(\"Index is {0}  \",numbers3.LastIndexOf(11, 6, 3));"
   ]
  },
  {
   "cell_type": "markdown",
   "metadata": {},
   "source": [
    "## No. of elements in List"
   ]
  },
  {
   "cell_type": "code",
   "execution_count": null,
   "metadata": {
    "dotnet_interactive": {
     "language": "csharp"
    }
   },
   "outputs": [
    {
     "name": "stdout",
     "output_type": "stream",
     "text": [
      "Total elements 11 \r\n"
     ]
    }
   ],
   "source": [
    "Console.WriteLine(\"Total elements {0} \", numbers3.Count);"
   ]
  },
  {
   "cell_type": "markdown",
   "metadata": {},
   "source": [
    "## Remove Elements from List"
   ]
  },
  {
   "cell_type": "code",
   "execution_count": null,
   "metadata": {
    "dotnet_interactive": {
     "language": "csharp"
    }
   },
   "outputs": [
    {
     "name": "stdout",
     "output_type": "stream",
     "text": [
      "5 7 9 8 11 9 10 12 55 56 57\r\n",
      "5 7 9 8 11 9 10 12 56 57\r\n"
     ]
    }
   ],
   "source": [
    "Console.WriteLine(string.Join(' ', numbers3));\n",
    "numbers3.Remove(55);\n",
    "Console.WriteLine(string.Join(' ', numbers3));"
   ]
  },
  {
   "cell_type": "markdown",
   "metadata": {},
   "source": [
    "### Remove Duplicate Elements\n",
    "\n",
    "- We shouldn't use `foreach` loop to remove elements from a list. It will cause an error sometimes."
   ]
  },
  {
   "cell_type": "code",
   "execution_count": null,
   "metadata": {
    "dotnet_interactive": {
     "language": "csharp"
    }
   },
   "outputs": [
    {
     "name": "stdout",
     "output_type": "stream",
     "text": [
      "5 7 9 8 9 10 12 56 57\r\n"
     ]
    }
   ],
   "source": [
    "for(int i = 0; i < numbers3.Count; i++)\n",
    "{\n",
    "    if (numbers3[i] == 11)\n",
    "        numbers3.Remove(numbers3[i]); // 11 should be removed\n",
    "}\n",
    "Console.WriteLine(string.Join(' ', numbers3));"
   ]
  },
  {
   "cell_type": "markdown",
   "metadata": {},
   "source": [
    "## Clear out the elements in List"
   ]
  },
  {
   "cell_type": "code",
   "execution_count": null,
   "metadata": {
    "dotnet_interactive": {
     "language": "csharp"
    }
   },
   "outputs": [
    {
     "name": "stdout",
     "output_type": "stream",
     "text": [
      "0\r\n"
     ]
    }
   ],
   "source": [
    "numbers3.Clear();\n",
    "Console.WriteLine(numbers3.Count);"
   ]
  }
 ],
 "metadata": {
  "kernelspec": {
   "display_name": ".NET (C#)",
   "language": "C#",
   "name": ".net-csharp"
  },
  "language_info": {
   "file_extension": ".cs",
   "mimetype": "text/x-csharp",
   "name": "C#",
   "pygments_lexer": "csharp",
   "version": "9.0"
  },
  "orig_nbformat": 4
 },
 "nbformat": 4,
 "nbformat_minor": 2
}
