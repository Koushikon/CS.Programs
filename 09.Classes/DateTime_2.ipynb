{
 "cells": [
  {
   "cell_type": "markdown",
   "metadata": {
    "dotnet_interactive": {
     "language": "csharp"
    },
    "polyglot_notebook": {
     "kernelName": "csharp"
    }
   },
   "source": [
    "# C# DateTime struct"
   ]
  },
  {
   "cell_type": "code",
   "execution_count": null,
   "metadata": {
    "dotnet_interactive": {
     "language": "csharp"
    },
    "vscode": {
     "languageId": "polyglot-notebook"
    }
   },
   "outputs": [],
   "source": [
    "using System;\n",
    "\n",
    "DateTime dt = new DateTime(2015, 1, 1);"
   ]
  },
  {
   "cell_type": "code",
   "execution_count": null,
   "metadata": {
    "dotnet_interactive": {
     "language": "csharp"
    },
    "vscode": {
     "languageId": "polyglot-notebook"
    }
   },
   "outputs": [],
   "source": [
    "var now = DateTime.Now;\n",
    "var today = DateTime.Today;\n",
    "\n",
    "Console.WriteLine($\"DateTime Now: {now}\\nToday: {today}\");"
   ]
  },
  {
   "cell_type": "code",
   "execution_count": null,
   "metadata": {
    "dotnet_interactive": {
     "language": "csharp"
    },
    "vscode": {
     "languageId": "polyglot-notebook"
    }
   },
   "outputs": [],
   "source": [
    "var tommorow = now.AddDays(1);\n",
    "var yesterday = now.AddDays(-1);\n",
    "\n",
    "Console.WriteLine($\"Tomorrow: {tommorow}\\nYesterday: {yesterday}\");"
   ]
  },
  {
   "cell_type": "code",
   "execution_count": null,
   "metadata": {
    "dotnet_interactive": {
     "language": "csharp"
    },
    "vscode": {
     "languageId": "polyglot-notebook"
    }
   },
   "outputs": [],
   "source": [
    "Console.Write(now.Day + \" \");\n",
    "Console.Write(now.Month + \" \");\n",
    "Console.Write(now.Year + \" \");\n",
    "Console.Write(now.Minute + \" \");\n",
    "Console.Write(now.Hour + \" \");\n",
    "Console.Write(now.Minute + \" \");\n",
    "Console.Write(now.Second + \" \");"
   ]
  },
  {
   "cell_type": "code",
   "execution_count": null,
   "metadata": {
    "dotnet_interactive": {
     "language": "csharp"
    },
    "vscode": {
     "languageId": "polyglot-notebook"
    }
   },
   "outputs": [],
   "source": [
    "Console.WriteLine(now.ToLongDateString());\n",
    "Console.WriteLine(now.ToShortDateString());\n",
    "Console.WriteLine(now.ToLongTimeString());\n",
    "Console.WriteLine(now.ToShortTimeString());"
   ]
  },
  {
   "cell_type": "markdown",
   "metadata": {
    "dotnet_interactive": {
     "language": "csharp"
    },
    "polyglot_notebook": {
     "kernelName": "csharp"
    }
   },
   "source": [
    "- To Print all Date & Time\n",
    "- C# DateTime Format Specifiers [MS Docs](https://docs.microsoft.com/en-us/dotnet/standard/base-types/custom-date-and-time-format-strings)"
   ]
  },
  {
   "cell_type": "code",
   "execution_count": null,
   "metadata": {
    "dotnet_interactive": {
     "language": "csharp"
    },
    "vscode": {
     "languageId": "polyglot-notebook"
    }
   },
   "outputs": [],
   "source": [
    "Console.WriteLine(now.ToString());\n",
    "Console.WriteLine(now.ToString(\"yy-dd-mm | HH:mm\"))"
   ]
  },
  {
   "cell_type": "markdown",
   "metadata": {
    "dotnet_interactive": {
     "language": "csharp"
    },
    "polyglot_notebook": {
     "kernelName": "csharp"
    }
   },
   "source": [
    "## TimeSpan Struct\n",
    "\n",
    "To Create a TimeSpan in C# we can use this Syntax:\n",
    "\n",
    "- `TimeSpan timespan_name = new TimeSpan(days, hours, minutes, seconds, milliseconds)`;\n",
    "- OR, We can use More Readable Syntax:\n",
    "- `TimeSpan timespan_name = TimeSpan.FromDays(days);`\n",
    "- `TimeSpan timespan_name = TimeSpan.FromHours(hours);`"
   ]
  },
  {
   "cell_type": "code",
   "execution_count": null,
   "metadata": {
    "dotnet_interactive": {
     "language": "csharp"
    },
    "vscode": {
     "languageId": "polyglot-notebook"
    }
   },
   "outputs": [],
   "source": [
    "var ts1 = new TimeSpan(1, 2, 3);\n",
    "var ts2 = new TimeSpan(1, 0, 0);"
   ]
  },
  {
   "cell_type": "code",
   "execution_count": null,
   "metadata": {
    "dotnet_interactive": {
     "language": "csharp"
    },
    "vscode": {
     "languageId": "polyglot-notebook"
    }
   },
   "outputs": [],
   "source": [
    "var ts3 = TimeSpan.FromDays(1);\n",
    "var ts4 = TimeSpan.FromHours(3);\n",
    "var ts5 = TimeSpan.FromMinutes(3);\n",
    "\n",
    "Console.WriteLine($\"{ts3}\\t{ts4}\\t{ts5}\");"
   ]
  },
  {
   "cell_type": "code",
   "execution_count": null,
   "metadata": {
    "dotnet_interactive": {
     "language": "csharp"
    },
    "vscode": {
     "languageId": "polyglot-notebook"
    }
   },
   "outputs": [],
   "source": [
    "Console.WriteLine(\"Minites: \" + ts1.Hours);\n",
    "Console.WriteLine(\"Minites: \" + ts1.Minutes);\n",
    "Console.WriteLine(\"Minites: \" + ts1.TotalMinutes);"
   ]
  },
  {
   "cell_type": "markdown",
   "metadata": {
    "dotnet_interactive": {
     "language": "csharp"
    },
    "polyglot_notebook": {
     "kernelName": "csharp"
    }
   },
   "source": [
    "### Subtracting Values as TimeSpan"
   ]
  },
  {
   "cell_type": "code",
   "execution_count": null,
   "metadata": {
    "dotnet_interactive": {
     "language": "csharp"
    },
    "vscode": {
     "languageId": "polyglot-notebook"
    }
   },
   "outputs": [],
   "source": [
    "var start = DateTime.Now;\n",
    "var end = DateTime.Now.AddMinutes(7);\n",
    "var duration = end - start;\n",
    "\n",
    "Console.WriteLine($\"Full Duration: {duration}\\nDuration of Minite: {duration.Minutes}\");"
   ]
  },
  {
   "cell_type": "code",
   "execution_count": null,
   "metadata": {
    "dotnet_interactive": {
     "language": "csharp"
    },
    "vscode": {
     "languageId": "polyglot-notebook"
    }
   },
   "outputs": [],
   "source": [
    "var ts6 = new TimeSpan(5, 4, 3);\n",
    "var ts7 = ts6.Add(TimeSpan.FromMinutes(9));\n",
    "var ts8 = ts7.Subtract(TimeSpan.FromMinutes(5));\n",
    "\n",
    "Console.WriteLine($\"{ts6}\\n{ts7}\\n{ts8}\");"
   ]
  },
  {
   "cell_type": "markdown",
   "metadata": {
    "dotnet_interactive": {
     "language": "csharp"
    },
    "polyglot_notebook": {
     "kernelName": "csharp"
    }
   },
   "source": [
    "### ToString() Method"
   ]
  },
  {
   "cell_type": "code",
   "execution_count": null,
   "metadata": {
    "dotnet_interactive": {
     "language": "csharp"
    },
    "vscode": {
     "languageId": "polyglot-notebook"
    }
   },
   "outputs": [],
   "source": [
    "Console.WriteLine(ts8.ToString());"
   ]
  },
  {
   "cell_type": "markdown",
   "metadata": {
    "dotnet_interactive": {
     "language": "csharp"
    },
    "polyglot_notebook": {
     "kernelName": "csharp"
    }
   },
   "source": [
    "## Parse Method\n",
    "\n",
    "- String to TimeSpan Parsing\n",
    "- Its like `int.Parse()` method"
   ]
  },
  {
   "cell_type": "code",
   "execution_count": null,
   "metadata": {
    "dotnet_interactive": {
     "language": "csharp"
    },
    "vscode": {
     "languageId": "polyglot-notebook"
    }
   },
   "outputs": [],
   "source": [
    "var news_time = TimeSpan.Parse(\"1.2:3:4\");\n",
    "Console.WriteLine($\"Full TimeSpan: {news_time}\\nDays: {news_time.Days}\\nMinutes: {news_time.Minutes}\");"
   ]
  },
  {
   "cell_type": "markdown",
   "metadata": {
    "dotnet_interactive": {
     "language": "csharp"
    },
    "polyglot_notebook": {
     "kernelName": "csharp"
    }
   },
   "source": [
    "## Comparing Two Dates"
   ]
  },
  {
   "cell_type": "code",
   "execution_count": null,
   "metadata": {
    "dotnet_interactive": {
     "language": "csharp"
    },
    "vscode": {
     "languageId": "polyglot-notebook"
    }
   },
   "outputs": [],
   "source": [
    "DateTime date1 = new DateTime(2008, 7, 1, 12, 0, 0);\n",
    "DateTime date2 = new DateTime(2009, 8, 1, 12, 0, 0);\n",
    "\n",
    "int result = DateTime.Compare(date1, date2);\n",
    "string relationship;\n",
    "\n",
    "if (result < 0)\n",
    "   relationship = \"is earlier than\";\n",
    "else if (result == 0)\n",
    "   relationship = \"is the same time as\";\n",
    "else\n",
    "   relationship = \"is later than\";\n",
    "\n",
    "Console.WriteLine(relationship);"
   ]
  }
 ],
 "metadata": {
  "kernelspec": {
   "display_name": ".NET (C#)",
   "language": "C#",
   "name": ".net-csharp"
  },
  "polyglot_notebook": {
   "kernelInfo": {
    "defaultKernelName": "csharp",
    "items": [
     {
      "aliases": [
       "c#",
       "C#"
      ],
      "languageName": "C#",
      "name": "csharp"
     },
     {
      "aliases": [],
      "name": ".NET"
     },
     {
      "aliases": [
       "f#",
       "F#"
      ],
      "languageName": "F#",
      "name": "fsharp"
     },
     {
      "aliases": [],
      "languageName": "HTML",
      "name": "html"
     },
     {
      "aliases": [],
      "languageName": "KQL",
      "name": "kql"
     },
     {
      "aliases": [],
      "languageName": "Mermaid",
      "name": "mermaid"
     },
     {
      "aliases": [
       "powershell"
      ],
      "languageName": "PowerShell",
      "name": "pwsh"
     },
     {
      "aliases": [],
      "languageName": "SQL",
      "name": "sql"
     },
     {
      "aliases": [],
      "name": "value"
     },
     {
      "aliases": [
       "frontend"
      ],
      "name": "vscode"
     }
    ]
   }
  }
 },
 "nbformat": 4,
 "nbformat_minor": 2
}
