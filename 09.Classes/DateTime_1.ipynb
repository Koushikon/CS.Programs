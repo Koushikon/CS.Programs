{
 "cells": [
  {
   "cell_type": "markdown",
   "metadata": {
    "dotnet_interactive": {
     "language": "csharp"
    },
    "polyglot_notebook": {
     "kernelName": "csharp"
    }
   },
   "source": [
    "# C# DateTime struct\n",
    "\n",
    "To work with date and time in C# we could create an object of DateTime struc using the new keyword. The following in every object creation have some default values:\n",
    "\n",
    "[Learn from](https://www.tutorialsteacher.com/csharp/csharp-datetime) | \n",
    "[MS Docs](https://docs.microsoft.com/en-us/dotnet/api/system.datetime?view=net-6.0)"
   ]
  },
  {
   "cell_type": "code",
   "execution_count": null,
   "metadata": {
    "dotnet_interactive": {
     "language": "csharp"
    },
    "vscode": {
     "languageId": "polyglot-notebook"
    }
   },
   "outputs": [],
   "source": [
    "DateTime dt = new DateTime();\n",
    "Console.WriteLine(dt);"
   ]
  },
  {
   "cell_type": "markdown",
   "metadata": {
    "dotnet_interactive": {
     "language": "csharp"
    },
    "polyglot_notebook": {
     "kernelName": "csharp"
    }
   },
   "source": [
    "## Declaring DateTime object with value"
   ]
  },
  {
   "cell_type": "code",
   "execution_count": null,
   "metadata": {
    "dotnet_interactive": {
     "language": "csharp"
    },
    "vscode": {
     "languageId": "polyglot-notebook"
    }
   },
   "outputs": [],
   "source": [
    "DateTime dt1 = new DateTime(2010, 12, 21);\n",
    "DateTime dt2 = new DateTime(2010, 12, 21, 15, 25, 30);\n",
    "DateTime dt3 = new DateTime(2010, 12, 21, 15, 25, 30, DateTimeKind.Utc);\n",
    "\n",
    "Console.WriteLine($\"1: {dt1}\\n2: {dt2}\\n3: {dt3}\");"
   ]
  },
  {
   "cell_type": "markdown",
   "metadata": {
    "dotnet_interactive": {
     "language": "csharp"
    },
    "polyglot_notebook": {
     "kernelName": "csharp"
    }
   },
   "source": [
    "- DateTimeKind has three properties `Unspecified`, `Local` and `Utc`.\n",
    "- DateTimeKind has the default value of Unspecified.\n",
    "\n",
    "We cannot provide an unkown date or time. If we do out of range exception will be thrown."
   ]
  },
  {
   "cell_type": "code",
   "execution_count": null,
   "metadata": {
    "dotnet_interactive": {
     "language": "csharp"
    },
    "vscode": {
     "languageId": "polyglot-notebook"
    }
   },
   "outputs": [],
   "source": [
    "try{\n",
    "    DateTime dt4 = new DateTime(2010, 14, 21, 15, 25, 75);\n",
    "} // Invalid month and second\n",
    "catch(ArgumentOutOfRangeException ex){\n",
    "    Console.WriteLine(ex.Message);\n",
    "}"
   ]
  },
  {
   "cell_type": "markdown",
   "metadata": {
    "dotnet_interactive": {
     "language": "csharp"
    },
    "polyglot_notebook": {
     "kernelName": "csharp"
    }
   },
   "source": [
    "## From Ola Time\n",
    "\n",
    "The DateTime value type represents dates and times with values ranging from `00:00:00 (midnight), January 1, 0001` Anno Domini (Common Era) through `11:59:59 P.M., December 31, 9999` A.D. (C.E.) in the Gregorian calendar.\n",
    "\n",
    "Time values are measured in 100-nanosecond units called ticks. A particular date is the number of ticks since `12:00 midnight, January 1, 0001` A.D. (C.E.) in the `Gregorian Calendar`. The number excludes ticks that would be added by leap seconds. For example, a ticks value of `31241376000000000L` represents the date `Friday, January 01, 0100 12:00:00` midnight. A `DateTime` value is always expressed in the context of an explicit or default calendar."
   ]
  },
  {
   "cell_type": "code",
   "execution_count": null,
   "metadata": {
    "dotnet_interactive": {
     "language": "csharp"
    },
    "vscode": {
     "languageId": "polyglot-notebook"
    }
   },
   "outputs": [],
   "source": [
    "DateTime dt5 = new DateTime(636370000000000000);\n",
    "Console.WriteLine(dt5);\n",
    "Console.WriteLine(DateTime.MinValue.Ticks);\n",
    "Console.WriteLine(DateTime.MaxValue.Ticks);"
   ]
  },
  {
   "cell_type": "markdown",
   "metadata": {
    "dotnet_interactive": {
     "language": "csharp"
    },
    "polyglot_notebook": {
     "kernelName": "csharp"
    }
   },
   "source": [
    "## DateTime Static Fields"
   ]
  },
  {
   "cell_type": "code",
   "execution_count": null,
   "metadata": {
    "dotnet_interactive": {
     "language": "csharp"
    },
    "vscode": {
     "languageId": "polyglot-notebook"
    }
   },
   "outputs": [],
   "source": [
    "Console.WriteLine(DateTime.Now);\n",
    "Console.WriteLine(DateTime.Today);\n",
    "Console.WriteLine(DateTime.UtcNow);\n",
    "\n",
    "Console.WriteLine(DateTime.MinValue);\n",
    "Console.WriteLine(DateTime.MaxValue);"
   ]
  },
  {
   "cell_type": "markdown",
   "metadata": {
    "dotnet_interactive": {
     "language": "csharp"
    },
    "polyglot_notebook": {
     "kernelName": "csharp"
    }
   },
   "source": [
    "## TimeSpan in DateTime"
   ]
  },
  {
   "cell_type": "code",
   "execution_count": null,
   "metadata": {
    "dotnet_interactive": {
     "language": "csharp"
    },
    "vscode": {
     "languageId": "polyglot-notebook"
    }
   },
   "outputs": [],
   "source": [
    "DateTime dt6 = new DateTime(2015, 12, 31);\n",
    "\n",
    "Console.WriteLine($\"Date: {dt6}\");"
   ]
  },
  {
   "cell_type": "markdown",
   "metadata": {
    "dotnet_interactive": {
     "language": "csharp"
    },
    "polyglot_notebook": {
     "kernelName": "csharp"
    }
   },
   "source": [
    "### Add Date to the DateTime\n",
    "\n",
    "TimeSpan is represented as Day, Hour, Minute and Second."
   ]
  },
  {
   "cell_type": "code",
   "execution_count": null,
   "metadata": {
    "dotnet_interactive": {
     "language": "csharp"
    },
    "vscode": {
     "languageId": "polyglot-notebook"
    }
   },
   "outputs": [],
   "source": [
    "TimeSpan ts = new TimeSpan(26, 15, 30);\n",
    "\n",
    "DateTime dt7 = dt6.Add(ts); // Add timespan to date\n",
    "Console.WriteLine($\"Time in Days: {ts}\\nDate: {dt7}\");"
   ]
  },
  {
   "cell_type": "markdown",
   "metadata": {
    "dotnet_interactive": {
     "language": "csharp"
    },
    "polyglot_notebook": {
     "kernelName": "csharp"
    }
   },
   "source": [
    "### Substract Date from the DateTime\n",
    "\n",
    "Subtraction of two dates results in TimeSpan."
   ]
  },
  {
   "cell_type": "code",
   "execution_count": null,
   "metadata": {
    "dotnet_interactive": {
     "language": "csharp"
    },
    "vscode": {
     "languageId": "polyglot-notebook"
    }
   },
   "outputs": [],
   "source": [
    "DateTime dt8 = new DateTime(2015, 12, 31);\n",
    "DateTime dt9 = new DateTime(2016, 1, 7);\n",
    "\n",
    "TimeSpan result = dt9.Subtract(dt8); // Subtract date from date\n",
    "Console.WriteLine($\"Date: {result}\");"
   ]
  },
  {
   "cell_type": "markdown",
   "metadata": {
    "dotnet_interactive": {
     "language": "csharp"
    },
    "polyglot_notebook": {
     "kernelName": "csharp"
    }
   },
   "source": [
    "## Logical Operators"
   ]
  },
  {
   "cell_type": "code",
   "execution_count": null,
   "metadata": {
    "dotnet_interactive": {
     "language": "csharp"
    },
    "vscode": {
     "languageId": "polyglot-notebook"
    }
   },
   "outputs": [],
   "source": [
    "DateTime dt10 = new DateTime(2015, 12, 31);\n",
    "DateTime dt11 = new DateTime(2016, 1, 7, 15, 25, 30);\n",
    "TimeSpan ts1 = new TimeSpan(10, 12, 30, 30);\n",
    "\n",
    "Console.WriteLine(dt10 + ts1); // Add timespan certain to date\n",
    "Console.WriteLine(dt11 - dt10); // Subtract date from date\n",
    "Console.WriteLine(dt11 == dt10); // Compare dates\n",
    "Console.WriteLine(dt11 != dt10); // Compare dates\n",
    "Console.WriteLine(dt11 > dt10); // Compare dates\n",
    "Console.WriteLine(dt11 >= dt10); // Compare dates\n",
    "Console.WriteLine(dt11 < dt10); // Compare dates\n",
    "Console.WriteLine(dt11 <= dt10); // Compare dates"
   ]
  },
  {
   "cell_type": "markdown",
   "metadata": {
    "dotnet_interactive": {
     "language": "csharp"
    },
    "polyglot_notebook": {
     "kernelName": "csharp"
    }
   },
   "source": [
    "## Converting string to DateTime object\n",
    "\n",
    "To Convert string to DateTime object we can use `Parse(), ParseExact(), TryParse(), TryParseExact()` methods. The `Parse()` and `ParseExact()` method returns an exception if the string is not in the correct format. But The `TryParse()` and `TryParseExact()` method returns false if the string is not in the correct format."
   ]
  },
  {
   "cell_type": "code",
   "execution_count": null,
   "metadata": {
    "dotnet_interactive": {
     "language": "csharp"
    },
    "vscode": {
     "languageId": "polyglot-notebook"
    }
   },
   "outputs": [],
   "source": [
    "var str = \"5/12/2022\";\n",
    "DateTime dt12 = new DateTime();\n",
    "\n",
    "var IsVilid = DateTime.TryParse(str, out dt12);\n",
    "\n",
    "if(IsVilid)\n",
    "    Console.WriteLine($\"String: {str}\\tDate: {dt12}\");\n",
    "else\n",
    "    Console.WriteLine($\"Invalid date\");"
   ]
  }
 ],
 "metadata": {
  "kernelspec": {
   "display_name": ".NET (C#)",
   "language": "C#",
   "name": ".net-csharp"
  },
  "polyglot_notebook": {
   "kernelInfo": {
    "defaultKernelName": "csharp",
    "items": [
     {
      "aliases": [
       "c#",
       "C#"
      ],
      "languageName": "C#",
      "name": "csharp"
     },
     {
      "aliases": [],
      "name": ".NET"
     },
     {
      "aliases": [
       "f#",
       "F#"
      ],
      "languageName": "F#",
      "name": "fsharp"
     },
     {
      "aliases": [],
      "languageName": "HTML",
      "name": "html"
     },
     {
      "aliases": [],
      "languageName": "KQL",
      "name": "kql"
     },
     {
      "aliases": [],
      "languageName": "Mermaid",
      "name": "mermaid"
     },
     {
      "aliases": [
       "powershell"
      ],
      "languageName": "PowerShell",
      "name": "pwsh"
     },
     {
      "aliases": [],
      "languageName": "SQL",
      "name": "sql"
     },
     {
      "aliases": [],
      "name": "value"
     },
     {
      "aliases": [
       "frontend"
      ],
      "name": "vscode"
     }
    ]
   }
  }
 },
 "nbformat": 4,
 "nbformat_minor": 2
}
