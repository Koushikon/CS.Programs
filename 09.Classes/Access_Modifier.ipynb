{
 "cells": [
  {
   "cell_type": "markdown",
   "metadata": {},
   "source": [
    "# Access Modifiers in C#"
   ]
  },
  {
   "cell_type": "markdown",
   "metadata": {},
   "source": [
    "Access modifier is a way to control to a class and/or its members. We define access modifiers to create safety in our programs. Encapsulate the data which is not concerns to the user.\n",
    "\n",
    "- Public\n",
    "- Private\n",
    "- Protected\n",
    "- Internal\n",
    "- Protected Internal"
   ]
  },
  {
   "cell_type": "code",
   "execution_count": null,
   "metadata": {
    "dotnet_interactive": {
     "language": "csharp"
    },
    "vscode": {
     "languageId": "dotnet-interactive.csharp"
    }
   },
   "outputs": [],
   "source": [
    "public class Boom {\n",
    "    private string Music = \"Chal gouri\";\n",
    "}\n",
    "\n",
    "var song_1 = new Boom();\n",
    "// song_1.Music = \"Bol bom\"; // Won't compile because Music is private member."
   ]
  },
  {
   "cell_type": "markdown",
   "metadata": {},
   "source": [
    "Sometime we need this kind of access code level in our Application. That's the Object Oriented Programming.\n",
    "\n",
    "- Encapsulation / Information Hiding\n",
    "- Inheritance\n",
    "- Polymorphisim\n",
    "\n",
    "Encapsulation: In a restrurant, we have several roles cashiers, manager, chef, waiters etc. and all of these roles colaborate with each other to provide us a better service. But in here everyone's job is different like Chef's job is to make food, Waiters jobs is to serve the food to the customers and Manager's job is to manage the resturant. So, here waiter don't tell the chef how to make food or manager don't tell the waiter how to serve the food. Everyone behave according to their role.\n",
    "\n",
    "In Software Development, We want to develop our classes such that each class is respondible for one thing and Hide some of the infomation of how they do certain task from other classes. So, we want to encapsulate some field and method details from the other classes. In practice -\n",
    "\n",
    "- Define `Fields as private`.\n",
    "- Provide `getter / setter methods` as public.\n",
    "- With setter method we can set the value of the field.\n",
    "- With getter method we can get the value of the field.\n",
    "- `private` fields should start with `underscore (_)` anf then followed by the name of the field in `camelCase`. like - `_shop, _age` etc.\n",
    "\n",
    "In Object Oriented perspective we want to follow the principle of Encapsulation which suggests that objects should hide their implementation details and reveal what they can do is supposed to How they do (Methods getter and setter)."
   ]
  },
  {
   "cell_type": "code",
   "execution_count": null,
   "metadata": {
    "dotnet_interactive": {
     "language": "csharp"
    },
    "vscode": {
     "languageId": "dotnet-interactive.csharp"
    }
   },
   "outputs": [],
   "source": [
    "public class Person {\n",
    "    private DateTime _birthDate;\n",
    "\n",
    "    public void setDOB(DateTime birthDate) {\n",
    "        this._birthDate = birthDate;\n",
    "    }\n",
    "    public DateTime getDOB() {\n",
    "        return _birthDate;\n",
    "    }\n",
    "}"
   ]
  },
  {
   "cell_type": "code",
   "execution_count": null,
   "metadata": {
    "dotnet_interactive": {
     "language": "csharp"
    },
    "vscode": {
     "languageId": "dotnet-interactive.csharp"
    }
   },
   "outputs": [
    {
     "name": "stdout",
     "output_type": "stream",
     "text": [
      "22-08-2002 00:00:00\r\n"
     ]
    }
   ],
   "source": [
    "var person_1 = new Person();\n",
    "person_1.setDOB(new DateTime(2002, 8, 22)); // John\n",
    "Console.WriteLine(person_1.getDOB());"
   ]
  }
 ],
 "metadata": {
  "kernelspec": {
   "display_name": ".NET (C#)",
   "language": "C#",
   "name": ".net-csharp"
  },
  "language_info": {
   "file_extension": ".cs",
   "mimetype": "text/x-csharp",
   "name": "C#",
   "pygments_lexer": "csharp",
   "version": "9.0"
  },
  "orig_nbformat": 4
 },
 "nbformat": 4,
 "nbformat_minor": 2
}
