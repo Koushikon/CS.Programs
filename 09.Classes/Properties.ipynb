{
 "cells": [
  {
   "cell_type": "markdown",
   "metadata": {
    "dotnet_interactive": {
     "language": "csharp"
    },
    "polyglot_notebook": {
     "kernelName": "csharp"
    }
   },
   "source": [
    "# C# Properties\n",
    "\n",
    "[C# Corner](https://www.c-sharpcorner.com/article/understanding-properties-in-C-Sharp/) | \n",
    "[MS Docs](https://docs.microsoft.com/en-us/dotnet/csharp/programming-guide/classes-and-structs/properties)"
   ]
  },
  {
   "cell_type": "markdown",
   "metadata": {
    "dotnet_interactive": {
     "language": "csharp"
    },
    "polyglot_notebook": {
     "kernelName": "csharp"
    }
   },
   "source": [
    "Property in C# is a member of a class that provides a flexible mechanism for classes to expose private fields. Internally, C# properties are special methods called `accessors`. A C# property have two accessors, `get property accessor` and `set property accessor`. A get accessor returns a property value, and a set accessor assigns a new value. The `value` keyword represents the value of a property.\n",
    "\n",
    "Properties in C# and .NET have various access levels that is defined by an access modifier. Properties can be `read-write`, `read-only`, or `write-only`. The `read-write property` implements both, a get and a set accessor. A `write-only property` implements a set accessor, but no get accessor. A `read-only property` implements a get accessor, but no set accessor."
   ]
  },
  {
   "cell_type": "code",
   "execution_count": null,
   "metadata": {
    "dotnet_interactive": {
     "language": "csharp"
    },
    "vscode": {
     "languageId": "polyglot-notebook"
    }
   },
   "outputs": [],
   "source": [
    "public class Person {\n",
    "    private DateTime _birthDate;\n",
    "\n",
    "    public void setDOB(DateTime birthDate) {\n",
    "        this._birthDate = birthDate;\n",
    "    }\n",
    "    public DateTime getDOB() {\n",
    "        return _birthDate;\n",
    "    }\n",
    "}\n",
    "\n",
    "var person_1 = new Person();\n",
    "person_1.setDOB(new DateTime(2002, 8, 22)); // John\n",
    "Console.WriteLine(person_1.getDOB());"
   ]
  },
  {
   "cell_type": "markdown",
   "metadata": {
    "dotnet_interactive": {
     "language": "csharp"
    },
    "polyglot_notebook": {
     "kernelName": "csharp"
    }
   },
   "source": [
    "Now with Properties with can achive the same result with less code in our class `Person`.\n",
    "\n",
    "A property is a class member that encapsulates a `getter / setter` for accessing a field. We use Property to create a `getter / setter` with less code."
   ]
  },
  {
   "cell_type": "code",
   "execution_count": null,
   "metadata": {
    "dotnet_interactive": {
     "language": "csharp"
    },
    "vscode": {
     "languageId": "polyglot-notebook"
    }
   },
   "outputs": [],
   "source": [
    "public class Person {\n",
    "    private DateTime _birthDate;\n",
    "\n",
    "    public DateTime BirthDate {\n",
    "        get { return _birthDate; }\n",
    "        set { _birthDate = value; }\n",
    "    }\n",
    "}\n",
    "\n",
    "var person_1 = new Person();\n",
    "person_1.BirthDate = new DateTime(2002, 8, 22); // Setting the value like of an public class member\n",
    "Console.WriteLine(person_1.BirthDate);  // Getting the value like of an public class member"
   ]
  },
  {
   "cell_type": "markdown",
   "metadata": {
    "dotnet_interactive": {
     "language": "csharp"
    },
    "polyglot_notebook": {
     "kernelName": "csharp"
    }
   },
   "source": [
    "And we could use Auto-Implemented Properties to create a `getter / setter` with much less code. With this code C# compiler internally creates a private field, getter and setter method for the property."
   ]
  },
  {
   "cell_type": "code",
   "execution_count": null,
   "metadata": {
    "dotnet_interactive": {
     "language": "csharp"
    },
    "vscode": {
     "languageId": "polyglot-notebook"
    }
   },
   "outputs": [],
   "source": [
    "public class Person {\n",
    "    public DateTime BirthDate { get; set; }\n",
    "}\n",
    "\n",
    "var person_1 = new Person();\n",
    "person_1.BirthDate = new DateTime(2002, 8, 22);\n",
    "Console.WriteLine(person_1.BirthDate);"
   ]
  },
  {
   "cell_type": "markdown",
   "metadata": {
    "dotnet_interactive": {
     "language": "csharp"
    },
    "polyglot_notebook": {
     "kernelName": "csharp"
    }
   },
   "source": [
    "### IL DASM CODE (Compiled C# Code)"
   ]
  },
  {
   "cell_type": "markdown",
   "metadata": {
    "dotnet_interactive": {
     "language": "csharp"
    },
    "polyglot_notebook": {
     "kernelName": "csharp"
    }
   },
   "source": [
    "We can see the C# Compiled code with `IL DASM` (Intermiate Language Disassembler) on Visual Studio:\n",
    "\n",
    "1. Goto Solution Explorer\n",
    "2. Right click on the Project name\n",
    "3. Open Command Prompt\n",
    "4. Go inside `Bin\\Debug` folder\n",
    "5. Locate the <project_name>.exe file\n",
    "6. Run the command `ildasm <project_name>.exe`\n",
    "7. It Opens the IL DASM window.\n",
    "\n",
    "Now Goto the <project_name> file colapse it and Find the `Person` class and inside the class we'll find the `Fields, Constructors, Methods `etc. double click on any Field or method and we can see the code inside."
   ]
  },
  {
   "cell_type": "code",
   "execution_count": null,
   "metadata": {
    "dotnet_interactive": {
     "language": "csharp"
    },
    "vscode": {
     "languageId": "polyglot-notebook"
    }
   },
   "outputs": [],
   "source": [
    "public class Person {\n",
    "    public DateTime BirthDate { get; set; }\n",
    "\n",
    "    public int Age {\n",
    "        get {\n",
    "            var ts = DateTime.Now - BirthDate;\n",
    "            return ts.Days / 365;\n",
    "        }\n",
    "\n",
    "    }\n",
    "}\n",
    "\n",
    "var person_1 = new Person();\n",
    "person_1.BirthDate = new DateTime(1998, 7, 4);\n",
    "Console.WriteLine(person_1.Age);\n",
    "\n",
    "person_1.BirthDate = new DateTime(1995, 7, 4);\n",
    "Console.WriteLine(person_1.Age);"
   ]
  },
  {
   "cell_type": "markdown",
   "metadata": {
    "dotnet_interactive": {
     "language": "csharp"
    },
    "polyglot_notebook": {
     "kernelName": "csharp"
    }
   },
   "source": [
    "### Visual Studio Class Shortcuts\n",
    "\n",
    "- `prop` - Class Property\n",
    "- `ctor` - Class Constructor"
   ]
  },
  {
   "cell_type": "markdown",
   "metadata": {
    "dotnet_interactive": {
     "language": "csharp"
    },
    "polyglot_notebook": {
     "kernelName": "csharp"
    }
   },
   "source": [
    "With above approach we set the person's birthdate multiple times but that shouldn't be possible. This way every persons `Birthdate can be set only once` at the time of creation. So, to do that we can write the code as below:"
   ]
  },
  {
   "cell_type": "code",
   "execution_count": null,
   "metadata": {
    "dotnet_interactive": {
     "language": "csharp"
    },
    "vscode": {
     "languageId": "polyglot-notebook"
    }
   },
   "outputs": [],
   "source": [
    "public class Person {\n",
    "    public DateTime BirthDate { get; private set; }\n",
    "    \n",
    "    public Person (DateTime birthDate) {\n",
    "        this.BirthDate = birthDate;\n",
    "    }\n",
    "\n",
    "    public int Age {\n",
    "        get {\n",
    "            var ts = DateTime.Now - BirthDate;\n",
    "            return ts.Days / 365;\n",
    "        }\n",
    "        // Only the getter method\n",
    "    }\n",
    "}\n",
    "\n",
    "var person_1 = new Person(new DateTime(1998, 7, 4));\n",
    "Console.WriteLine(person_1.Age);"
   ]
  },
  {
   "cell_type": "code",
   "execution_count": null,
   "metadata": {
    "dotnet_interactive": {
     "language": "csharp"
    },
    "vscode": {
     "languageId": "polyglot-notebook"
    }
   },
   "outputs": [],
   "source": [
    "class Person\n",
    "{\n",
    "    private string _name;\n",
    "\n",
    "    // We can also write logic inside our getter and setter method\n",
    "    public string name {\n",
    "        get { return _name; }\n",
    "        set {\n",
    "            _name = (value == null) ?\n",
    "                \"Namee\" : value;\n",
    "        }\n",
    "    }\n",
    "}\n",
    "\n",
    "var person_1 = new Person();\n",
    "person_1.name = \"Bikram\";\n",
    "Console.WriteLine(person_1.name);"
   ]
  }
 ],
 "metadata": {
  "kernelspec": {
   "display_name": ".NET (C#)",
   "language": "C#",
   "name": ".net-csharp"
  },
  "polyglot_notebook": {
   "kernelInfo": {
    "defaultKernelName": "csharp",
    "items": [
     {
      "aliases": [
       "c#",
       "C#"
      ],
      "languageName": "C#",
      "name": "csharp"
     },
     {
      "aliases": [],
      "name": ".NET"
     },
     {
      "aliases": [
       "f#",
       "F#"
      ],
      "languageName": "F#",
      "name": "fsharp"
     },
     {
      "aliases": [],
      "languageName": "HTML",
      "name": "html"
     },
     {
      "aliases": [],
      "languageName": "KQL",
      "name": "kql"
     },
     {
      "aliases": [],
      "languageName": "Mermaid",
      "name": "mermaid"
     },
     {
      "aliases": [
       "powershell"
      ],
      "languageName": "PowerShell",
      "name": "pwsh"
     },
     {
      "aliases": [],
      "languageName": "SQL",
      "name": "sql"
     },
     {
      "aliases": [],
      "name": "value"
     },
     {
      "aliases": [
       "frontend"
      ],
      "name": "vscode"
     }
    ]
   }
  }
 },
 "nbformat": 4,
 "nbformat_minor": 2
}
