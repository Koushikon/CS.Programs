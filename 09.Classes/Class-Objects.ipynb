{
 "cells": [
  {
   "cell_type": "markdown",
   "metadata": {},
   "source": [
    "# Classes in C#"
   ]
  },
  {
   "cell_type": "markdown",
   "metadata": {},
   "source": [
    "## Declaring class in C#"
   ]
  },
  {
   "cell_type": "markdown",
   "metadata": {},
   "source": [
    "Syntax:\n",
    "```C#\n",
    "<access_modifier> class <class_name>\n",
    "{\n",
    "    // class members\n",
    "}\n",
    "```"
   ]
  },
  {
   "cell_type": "code",
   "execution_count": null,
   "metadata": {
    "dotnet_interactive": {
     "language": "csharp"
    },
    "vscode": {
     "languageId": "csharp"
    }
   },
   "outputs": [],
   "source": [
    "public class Person {\n",
    "    // Declaring Non-static Members\n",
    "    int Age = 0; // Person's Age\n",
    "    public int Count = 0;\n",
    "\n",
    "    public void Intro(/* Parameter list */) { // Person's Intro Method\n",
    "        Console.WriteLine(\"Person's Age is \" + Age);\n",
    "    }\n",
    "\n",
    "    // Declaring static Members\n",
    "    public static string Name = \"\"; // Person's name\n",
    "\n",
    "    public static void show() {\n",
    "        Console.WriteLine(\"Person's Name is \" + Name);\n",
    "    }\n",
    "}"
   ]
  },
  {
   "cell_type": "markdown",
   "metadata": {},
   "source": [
    "## Create Object of Class"
   ]
  },
  {
   "cell_type": "markdown",
   "metadata": {},
   "source": [
    "Syntax:\n",
    "```C#\n",
    "<class_name> obj = new <class_name>();\n",
    "```"
   ]
  },
  {
   "cell_type": "code",
   "execution_count": null,
   "metadata": {
    "dotnet_interactive": {
     "language": "csharp"
    },
    "vscode": {
     "languageId": "csharp"
    }
   },
   "outputs": [],
   "source": [
    "Person who = new Person(); // Person's class instance"
   ]
  },
  {
   "cell_type": "markdown",
   "metadata": {},
   "source": [
    "## Class Members:"
   ]
  },
  {
   "cell_type": "markdown",
   "metadata": {},
   "source": [
    "- Instance Members and\n",
    "- Static Members\n",
    "\n",
    "These Both types of members can be declared them:\n",
    "- Fields\n",
    "- Constructors\n",
    "- Methods\n",
    "- Properties\n",
    "\n",
    "### Why use static members?\n",
    "\n",
    "- To represent concepts that are singleton.\n",
    "- `DateTime.Now`\n",
    "- `Console.WriteLine()`"
   ]
  },
  {
   "cell_type": "markdown",
   "metadata": {},
   "source": [
    "## Accessing Non-static Class Members"
   ]
  },
  {
   "cell_type": "code",
   "execution_count": null,
   "metadata": {
    "dotnet_interactive": {
     "language": "csharp"
    },
    "vscode": {
     "languageId": "csharp"
    }
   },
   "outputs": [
    {
     "name": "stdout",
     "output_type": "stream",
     "text": [
      "Person's Age is 0\r\n"
     ]
    }
   ],
   "source": [
    "Person whos = new Person(); // Person's class instance\n",
    "whos.Intro(); // Accessing Person's Intro Method\n",
    "\n",
    "// We can't access Age becase it's private data member of Person class\n",
    "// whos.Age = 20;\n",
    "\n",
    "// But surely we can access Count becase it's Public\n",
    "whos.Count = 7;"
   ]
  },
  {
   "cell_type": "markdown",
   "metadata": {},
   "source": [
    "## Accessing static Class Members"
   ]
  },
  {
   "cell_type": "code",
   "execution_count": null,
   "metadata": {
    "dotnet_interactive": {
     "language": "csharp"
    },
    "vscode": {
     "languageId": "csharp"
    }
   },
   "outputs": [
    {
     "name": "stdout",
     "output_type": "stream",
     "text": [
      "Person's Name is John\r\n"
     ]
    }
   ],
   "source": [
    "Person.Name = \"John\"; // static members can be accessed diretly\n",
    "Person.show();"
   ]
  },
  {
   "cell_type": "markdown",
   "metadata": {},
   "source": [
    "## C# Constructor Syntax:"
   ]
  },
  {
   "cell_type": "markdown",
   "metadata": {},
   "source": [
    "- More than one contructor with `same name but different signature` is called `Constructor Overloading`.\n",
    "- A `signature` is what uniquely identifies a method. that is its `return type`, `types and names of parameter list`.\n",
    "- We `Overload constructors` to make initialization of class members easier. Sometime we don't know the parameter value so we don't pass it. Other time we know the value so we do pass it.\n",
    "\n",
    "```C#\n",
    "<access_modifier> class <class_name>\n",
    "{\n",
    "    <access_modifier> <class_name>(/* Constructor Parameters */)\n",
    "    {\n",
    "        // Constructor Body\n",
    "    }\n",
    "}\n",
    "```"
   ]
  },
  {
   "cell_type": "code",
   "execution_count": null,
   "metadata": {
    "dotnet_interactive": {
     "language": "csharp"
    },
    "vscode": {
     "languageId": "csharp"
    }
   },
   "outputs": [],
   "source": [
    "public class Plane {\n",
    "    string Name;\n",
    "\n",
    "    // Default Constructor\n",
    "    public Plane() {   // ...1\n",
    "        Name = \"\";\n",
    "    }\n",
    "\n",
    "    // Parameterized Constructor\n",
    "    public Plane(string name) {    //...2\n",
    "        this.Name = name; // this keyword refers to current object\n",
    "    }\n",
    "}"
   ]
  },
  {
   "cell_type": "code",
   "execution_count": null,
   "metadata": {
    "dotnet_interactive": {
     "language": "csharp"
    },
    "vscode": {
     "languageId": "csharp"
    }
   },
   "outputs": [],
   "source": [
    "var indigo = new Plane(); // calling default constructor\n",
    "\n",
    "var boeing = new Plane(\"Boeing\"); // calling parameterized constructor"
   ]
  },
  {
   "cell_type": "markdown",
   "metadata": {},
   "source": [
    "## Object Initialization"
   ]
  },
  {
   "cell_type": "markdown",
   "metadata": {},
   "source": [
    "Without using any Constructor, we can initialize the class members using Object Initializer.\n",
    "\n",
    "Syntax:\n",
    "```C#\n",
    "<class_name> obj = new <class_name>()\n",
    "{\n",
    "    <class_member> = <value>\n",
    "};\n",
    "```"
   ]
  },
  {
   "cell_type": "code",
   "execution_count": null,
   "metadata": {
    "dotnet_interactive": {
     "language": "csharp"
    },
    "vscode": {
     "languageId": "csharp"
    }
   },
   "outputs": [],
   "source": [
    "public class Person {\n",
    "    public string Name;\n",
    "    public int Age;\n",
    "    public string Phone;\n",
    "    public string Address;\n",
    "    public DateTime DOB;\n",
    "}"
   ]
  },
  {
   "cell_type": "code",
   "execution_count": null,
   "metadata": {
    "dotnet_interactive": {
     "language": "csharp"
    },
    "vscode": {
     "languageId": "csharp"
    }
   },
   "outputs": [
    {
     "name": "stdout",
     "output_type": "stream",
     "text": [
      "Name: John\n",
      "Age: 20\n",
      "Phone: 1234567890\n",
      "DOB: 01-01-1990 00:00:00\r\n"
     ]
    }
   ],
   "source": [
    "var p1 = new Person { // Object Initializer\n",
    "    Name = \"John\",\n",
    "    Age = 20,\n",
    "    Phone = \"1234567890\",\n",
    "    DOB = new DateTime(1990, 1, 1)\n",
    "};\n",
    "\n",
    "var result = $\"Name: {p1.Name}\\nAge: {p1.Age}\\nPhone: {p1.Phone}\\nDOB: {p1.DOB}\";\n",
    "Console.WriteLine(result);"
   ]
  },
  {
   "cell_type": "code",
   "execution_count": null,
   "metadata": {
    "dotnet_interactive": {
     "language": "csharp"
    },
    "vscode": {
     "languageId": "csharp"
    }
   },
   "outputs": [],
   "source": []
  }
 ],
 "metadata": {
  "kernelspec": {
   "display_name": ".NET (C#)",
   "language": "C#",
   "name": ".net-csharp"
  },
  "language_info": {
   "file_extension": ".cs",
   "mimetype": "text/x-csharp",
   "name": "C#",
   "pygments_lexer": "csharp",
   "version": "9.0"
  },
  "orig_nbformat": 4
 },
 "nbformat": 4,
 "nbformat_minor": 2
}
