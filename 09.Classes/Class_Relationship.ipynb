{
 "cells": [
  {
   "cell_type": "markdown",
   "metadata": {},
   "source": [
    "# Inheritance in C#"
   ]
  },
  {
   "cell_type": "markdown",
   "metadata": {},
   "source": [
    "Syntax:\n",
    "\n",
    "```CSharp\n",
    "public class Base {\n",
    "    // Class codes\n",
    "}\n",
    "\n",
    "public class Derived : Base {\n",
    "    // Class codes\n",
    "}\n",
    "```\n",
    "\n",
    "Inheritance Code Example:"
   ]
  },
  {
   "cell_type": "code",
   "execution_count": null,
   "metadata": {
    "dotnet_interactive": {
     "language": "csharp"
    },
    "vscode": {
     "languageId": "dotnet-interactive.csharp"
    }
   },
   "outputs": [],
   "source": [
    "public class Presentation {\n",
    "    public int Height { get; set; }\n",
    "    public int Width { get; set; }\n",
    "\n",
    "    public void Copy() {\n",
    "        Console.WriteLine(\"Object copied to Clipboard.\");\n",
    "    }\n",
    "\n",
    "    public void Duplicate() {\n",
    "        Console.WriteLine(\"Object is duplicated.\");\n",
    "    }\n",
    "}"
   ]
  },
  {
   "cell_type": "code",
   "execution_count": null,
   "metadata": {
    "dotnet_interactive": {
     "language": "csharp"
    },
    "vscode": {
     "languageId": "dotnet-interactive.csharp"
    }
   },
   "outputs": [],
   "source": [
    "public class Text : Presentation {\n",
    "    public int FontSize { get; set; }\n",
    "    public string FontName { get; set; }\n",
    "\n",
    "    public void AddHyperlink(string url) {\n",
    "        Console.WriteLine($\"Hyperlink added. {url}\");\n",
    "    }\n",
    "}"
   ]
  },
  {
   "cell_type": "markdown",
   "metadata": {},
   "source": [
    "Main Class"
   ]
  },
  {
   "cell_type": "code",
   "execution_count": null,
   "metadata": {
    "dotnet_interactive": {
     "language": "csharp"
    },
    "vscode": {
     "languageId": "dotnet-interactive.csharp"
    }
   },
   "outputs": [
    {
     "name": "stdout",
     "output_type": "stream",
     "text": [
      "Object copied to Clipboard.\r\n"
     ]
    }
   ],
   "source": [
    "var text = new Text();\n",
    "// Now text obj have both base class and derived class properties\n",
    "text.Width = 101;\n",
    "text.Copy();"
   ]
  },
  {
   "cell_type": "markdown",
   "metadata": {},
   "source": [
    "# Composition in C#"
   ]
  },
  {
   "cell_type": "markdown",
   "metadata": {},
   "source": [
    "Composition Code Example:"
   ]
  },
  {
   "cell_type": "code",
   "execution_count": null,
   "metadata": {
    "dotnet_interactive": {
     "language": "csharp"
    },
    "vscode": {
     "languageId": "dotnet-interactive.csharp"
    }
   },
   "outputs": [],
   "source": [
    "public class Logger {\n",
    "    public void Log(string message) {\n",
    "        Console.WriteLine(message);\n",
    "    }\n",
    "}"
   ]
  },
  {
   "cell_type": "code",
   "execution_count": null,
   "metadata": {
    "dotnet_interactive": {
     "language": "csharp"
    },
    "vscode": {
     "languageId": "dotnet-interactive.csharp"
    }
   },
   "outputs": [],
   "source": [
    "public class DBMigrator {\n",
    "    private readonly Logger _logger;\n",
    "\n",
    "    public DBMigrator(Logger logger) {\n",
    "        _logger = logger;\n",
    "    }\n",
    "\n",
    "    public void Migrate() {\n",
    "        _logger.Log(\"We are migrating.\");\n",
    "    }\n",
    "}"
   ]
  },
  {
   "cell_type": "code",
   "execution_count": null,
   "metadata": {
    "dotnet_interactive": {
     "language": "csharp"
    },
    "vscode": {
     "languageId": "dotnet-interactive.csharp"
    }
   },
   "outputs": [],
   "source": [
    "public class Installer {\n",
    "    private readonly Logger _logger;\n",
    "\n",
    "    public Installer(Logger logger) {\n",
    "        _logger = logger;\n",
    "    }\n",
    "\n",
    "    public void Install() {\n",
    "        _logger.Log(\"Its installing.\");\n",
    "    }\n",
    "}"
   ]
  },
  {
   "cell_type": "markdown",
   "metadata": {},
   "source": [
    "Main Class"
   ]
  },
  {
   "cell_type": "code",
   "execution_count": null,
   "metadata": {
    "dotnet_interactive": {
     "language": "csharp"
    },
    "vscode": {
     "languageId": "dotnet-interactive.csharp"
    }
   },
   "outputs": [
    {
     "name": "stdout",
     "output_type": "stream",
     "text": [
      "We are migrating.\r\n",
      "Its installing.\r\n"
     ]
    }
   ],
   "source": [
    "var migrator = new DBMigrator(new Logger());\n",
    "migrator.Migrate();\n",
    "\n",
    "// Or\n",
    "var logger = new Logger();\n",
    "var installer = new Installer(logger);\n",
    "installer.Install();\n"
   ]
  }
 ],
 "metadata": {
  "kernelspec": {
   "display_name": ".NET (C#)",
   "language": "C#",
   "name": ".net-csharp"
  },
  "language_info": {
   "file_extension": ".cs",
   "mimetype": "text/x-csharp",
   "name": "C#",
   "pygments_lexer": "csharp",
   "version": "9.0"
  },
  "orig_nbformat": 4
 },
 "nbformat": 4,
 "nbformat_minor": 2
}
