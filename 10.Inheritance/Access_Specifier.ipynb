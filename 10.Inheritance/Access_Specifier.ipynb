{
 "cells": [
  {
   "cell_type": "markdown",
   "metadata": {},
   "source": [
    "# Access Specifier in C#\n",
    "\n",
    "[MS Docs](https://docs.microsoft.com/en-us/dotnet/csharp/programming-guide/classes-and-structs/access-modifiers)"
   ]
  },
  {
   "cell_type": "markdown",
   "metadata": {},
   "source": [
    "- `public`: The type or member can be accessed by any other code in the same assembly or another assembly that references it. The accessibility level of public members of a type is controlled by the accessibility level of the type itself.\n",
    "- `private`: The type or member can be accessed only by code in the same `class` or `struct`.\n",
    "- `protected`: The type or member can be accessed only by code in the same `class`, or in a `class` that is derived from that `class`.\n",
    "- `internal`: The type or member can be accessed by any code in the same assembly, but not from another assembly. In other words, `internal` types or members can be accessed from code that is part of the same compilation.\n",
    "- `protected internal`: The type or member can be accessed by any code in the assembly in which it's declared, or from within a derived `class` in another assembly.\n",
    "- `private protected`: The type or member can be accessed by types derived from the `class` that are declared within its containing assembly."
   ]
  },
  {
   "cell_type": "markdown",
   "metadata": {},
   "source": [
    "## Summary table"
   ]
  },
  {
   "cell_type": "markdown",
   "metadata": {},
   "source": [
    "| Caller's location | public | protected internal | protected | internal | private protected | private |\n",
    "| ------------------ | ------ | ------------------- | -------- | ------- | ---------------- | ----- |\n",
    "| Within the class | ✔️️ | ✔️ | ✔️ | ✔️ | ✔️ | ✔️ |\n",
    "| Derived class (same assembly) | ✔️ | ✔️ | ✔️ | ✔️ | ✔️ | ❌ |\n",
    "| Non-derived class (same assembly) | ✔️ |✔️ | ❌ | ✔️ | ❌ | ❌ |\n",
    "| Derived class (different assembly) | ✔️ | ✔️ | ✔️ | ❌ | ❌ | ❌ |\n",
    "| Non-derived class (different assembly) | ✔️ | ❌ | ❌ | ❌ | ❌ | ❌ |"
   ]
  },
  {
   "cell_type": "code",
   "execution_count": null,
   "metadata": {
    "dotnet_interactive": {
     "language": "csharp"
    },
    "vscode": {
     "languageId": "dotnet-interactive.csharp"
    }
   },
   "outputs": [],
   "source": [
    "public class User {\n",
    "    public int rollno { get; set; }\n",
    "    public string name { get; set; }\n",
    "}\n",
    "\n",
    "User u1 = new User();\n",
    "u1.rollno = 1;\n",
    "u1.name = \"John\";"
   ]
  },
  {
   "cell_type": "code",
   "execution_count": null,
   "metadata": {
    "dotnet_interactive": {
     "language": "csharp"
    },
    "vscode": {
     "languageId": "dotnet-interactive.csharp"
    }
   },
   "outputs": [],
   "source": [
    "public class Person {\n",
    "    protected int rollno { get; set; }\n",
    "    public string name { get; set; }\n",
    "}\n",
    "\n",
    "public class Hero : Person {\n",
    "    public bool hasSword { get; set; }\n",
    "}\n",
    "\n",
    "Hero h1 = new Hero();\n",
    "// h1.rollno = 17; // Can't be accessable\n",
    "h1.name = \"ShowTime\";\n",
    "h1.hasSword = true;"
   ]
  }
 ],
 "metadata": {
  "kernelspec": {
   "display_name": ".NET (C#)",
   "language": "C#",
   "name": ".net-csharp"
  },
  "language_info": {
   "file_extension": ".cs",
   "mimetype": "text/x-csharp",
   "name": "C#",
   "pygments_lexer": "csharp",
   "version": "9.0"
  },
  "orig_nbformat": 4
 },
 "nbformat": 4,
 "nbformat_minor": 2
}
