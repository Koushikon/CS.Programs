{
 "cells": [
  {
   "cell_type": "markdown",
   "metadata": {},
   "source": [
    "# Upcasting and Downcasting in C#\n",
    "\n",
    "[CSharp Corner](https://www.c-sharpcorner.com/blogs/is-and-as-keywords-in-c-sharp)"
   ]
  },
  {
   "cell_type": "markdown",
   "metadata": {},
   "source": [
    "- Conversion from a derived class to a base class is called `upcasting`.\n",
    "- Conversion from a base class to a derived class is called `downcasting`.\n",
    "- The `as` and `is` keywords."
   ]
  },
  {
   "cell_type": "code",
   "execution_count": null,
   "metadata": {
    "dotnet_interactive": {
     "language": "csharp"
    },
    "vscode": {
     "languageId": "dotnet-interactive.csharp"
    }
   },
   "outputs": [],
   "source": [
    "using System;"
   ]
  },
  {
   "cell_type": "code",
   "execution_count": null,
   "metadata": {
    "dotnet_interactive": {
     "language": "csharp"
    },
    "vscode": {
     "languageId": "dotnet-interactive.csharp"
    }
   },
   "outputs": [],
   "source": [
    "public class Shape { }\n",
    "\n",
    "public class Circle : Shape { }"
   ]
  },
  {
   "cell_type": "code",
   "execution_count": null,
   "metadata": {
    "dotnet_interactive": {
     "language": "csharp"
    },
    "vscode": {
     "languageId": "dotnet-interactive.csharp"
    }
   },
   "outputs": [],
   "source": [
    "Circle circle = new Circle();\n",
    "Shape shape = circle; // Implicit Upcasted to Base Class"
   ]
  },
  {
   "cell_type": "code",
   "execution_count": null,
   "metadata": {
    "dotnet_interactive": {
     "language": "csharp"
    },
    "vscode": {
     "languageId": "dotnet-interactive.csharp"
    }
   },
   "outputs": [],
   "source": [
    "Circle anCircle = (Circle)shape; // Explicit Downcasted to Derived Class"
   ]
  },
  {
   "cell_type": "code",
   "execution_count": null,
   "metadata": {
    "dotnet_interactive": {
     "language": "csharp"
    },
    "vscode": {
     "languageId": "dotnet-interactive.csharp"
    }
   },
   "outputs": [],
   "source": [
    "public class Car : Shape { }"
   ]
  },
  {
   "cell_type": "code",
   "execution_count": null,
   "metadata": {
    "dotnet_interactive": {
     "language": "csharp"
    },
    "vscode": {
     "languageId": "dotnet-interactive.csharp"
    }
   },
   "outputs": [
    {
     "name": "stdout",
     "output_type": "stream",
     "text": [
      "Invalid Cast Error.\r\n"
     ]
    }
   ],
   "source": [
    "try {\n",
    "    Car car = (Car)shape; // throws an InvalidCastException\n",
    "}\n",
    "catch (InvalidCastException) {\n",
    "    Console.WriteLine(\"Invalid Cast Error.\");\n",
    "}"
   ]
  },
  {
   "cell_type": "markdown",
   "metadata": {},
   "source": [
    "Casting can throw `InvalidCastException`.But if we try to cast it to another type it will throw exception."
   ]
  },
  {
   "cell_type": "markdown",
   "metadata": {},
   "source": [
    "## The as keyword"
   ]
  },
  {
   "cell_type": "markdown",
   "metadata": {},
   "source": [
    "1. `as` is a keyword used for conversion from one type to another. The type can be a reference or nullable.\n",
    "2. `as` keyword checks the compatibility of one object type with another object type. In case of compatible, it will return the value of the new object type otherwise, null will be returned.\n",
    "3. If the conversion from one type to another type fails, then it will `return a null value instead of raising an exception`. So, the return value can be null also.\n",
    "4. We cannot perform conversion of value types (int, double, char, bool) and user-defined types.\n",
    "5. The return type should be the reference or nullable type. Since the returned value can be null and as we know value types cannot contain null, value types cannot be used.\n",
    "6. `as` improves the performance and it is `safe for casting`.\n",
    "\n",
    "Syntax of `as` keyword\n",
    "\n",
    "```CSharp\n",
    "    Expression as dataType;\n",
    "```"
   ]
  },
  {
   "cell_type": "code",
   "execution_count": null,
   "metadata": {
    "dotnet_interactive": {
     "language": "csharp"
    },
    "vscode": {
     "languageId": "dotnet-interactive.csharp"
    }
   },
   "outputs": [],
   "source": [
    "Car car = shape as Car;\n",
    "if (car != null) {\n",
    "    Console.WriteLine(\"Downcasted to Car.\");\n",
    "}"
   ]
  },
  {
   "cell_type": "markdown",
   "metadata": {},
   "source": [
    "## The is keyword"
   ]
  },
  {
   "cell_type": "markdown",
   "metadata": {},
   "source": [
    "1. `is` keyword checks whether the conversion from one object type to another object type is compatible or not.\n",
    "2. It returns true if the conversion is compatible, else returns false.\n",
    "3. `is` evaluates compatibility at runtime.\n",
    "4. `is` keyword can also check compatibility of value types (`int, double, char, bool`) and user-defined types.\n",
    "5. The syntax of 'is' keyword is,\n",
    "\n",
    "```CSharp\n",
    "    Boolean result = object_type_to is object_type_From;  \n",
    "```\n",
    "\n",
    "Here, 'object_type_to' is the object type which is to be check with object type 'object_type_From'. 'result' is the variable of bool type."
   ]
  },
  {
   "cell_type": "code",
   "execution_count": null,
   "metadata": {
    "dotnet_interactive": {
     "language": "csharp"
    },
    "vscode": {
     "languageId": "dotnet-interactive.csharp"
    }
   },
   "outputs": [
    {
     "name": "stdout",
     "output_type": "stream",
     "text": [
      "2nd - Its True.\r\n"
     ]
    }
   ],
   "source": [
    "if (shape is Car) {\n",
    "    Console.WriteLine(\"1st - Its True.\");\n",
    "}\n",
    "\n",
    "if (anCircle is Circle) {\n",
    "    Console.WriteLine(\"2nd - Its True.\");\n",
    "}"
   ]
  }
 ],
 "metadata": {
  "kernelspec": {
   "display_name": ".NET (C#)",
   "language": "C#",
   "name": ".net-csharp"
  },
  "language_info": {
   "file_extension": ".cs",
   "mimetype": "text/x-csharp",
   "name": "C#",
   "pygments_lexer": "csharp",
   "version": "9.0"
  },
  "orig_nbformat": 4
 },
 "nbformat": 4,
 "nbformat_minor": 2
}
