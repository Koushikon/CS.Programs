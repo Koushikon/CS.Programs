{
 "cells": [
  {
   "cell_type": "markdown",
   "metadata": {},
   "source": [
    "# Boxing & Unboxing"
   ]
  },
  {
   "cell_type": "markdown",
   "metadata": {},
   "source": [
    "Types in C#\n",
    "\n",
    "- Value Types\n",
    "- Reference Types"
   ]
  },
  {
   "cell_type": "markdown",
   "metadata": {},
   "source": [
    "## Value Types"
   ]
  },
  {
   "cell_type": "markdown",
   "metadata": {},
   "source": [
    "- are stored on the stack has short life-cycle. When they out of scope the memory is freed.\n",
    "- Example:\n",
    "    - All primitive types: byte, int, bool, double, char, float.\n",
    "    - The struct type."
   ]
  },
  {
   "cell_type": "markdown",
   "metadata": {},
   "source": [
    "## Reference Types"
   ]
  },
  {
   "cell_type": "markdown",
   "metadata": {},
   "source": [
    "- are stored in Heap.\n",
    "- Example:\n",
    "    - Any classes (Object, Array, String, DBMigrator etc.)"
   ]
  },
  {
   "cell_type": "markdown",
   "metadata": {},
   "source": [
    "## Boxing"
   ]
  },
  {
   "cell_type": "markdown",
   "metadata": {},
   "source": [
    "- The process of converting a value type instance to an object reference."
   ]
  },
  {
   "cell_type": "code",
   "execution_count": null,
   "metadata": {
    "dotnet_interactive": {
     "language": "csharp"
    },
    "vscode": {
     "languageId": "dotnet-interactive.csharp"
    }
   },
   "outputs": [],
   "source": [
    "int Number = 10;\n",
    "object obj1 = Number;\n",
    "\n",
    "// Or,\n",
    "object obj2 = 10;"
   ]
  },
  {
   "cell_type": "markdown",
   "metadata": {},
   "source": [
    "Here this value gets boxed by CLR instead of the stack. When Boxing happens the CLR allocates memory on the heap then creates a referencein the Stack that points to the memory allocated on the heap. Now the value type instance is stored in the heap."
   ]
  },
  {
   "cell_type": "markdown",
   "metadata": {},
   "source": [
    "## Unboxing"
   ]
  },
  {
   "cell_type": "markdown",
   "metadata": {},
   "source": [
    "Unboxing is a opposite process of Boxing. The process of converting an object reference to a value type instance."
   ]
  },
  {
   "cell_type": "code",
   "execution_count": null,
   "metadata": {
    "dotnet_interactive": {
     "language": "csharp"
    },
    "vscode": {
     "languageId": "dotnet-interactive.csharp"
    }
   },
   "outputs": [],
   "source": [
    "object obj3 = 10;\n",
    "int Number = (int)obj3;"
   ]
  },
  {
   "cell_type": "markdown",
   "metadata": {},
   "source": [
    "In this example we have a object assigned to 10 then `Boxing` happens. So, when we cast that object to an integer `Unboxing` happens."
   ]
  },
  {
   "cell_type": "markdown",
   "metadata": {},
   "source": [
    "## Boxing / Unboxing"
   ]
  },
  {
   "cell_type": "markdown",
   "metadata": {},
   "source": [
    "- Both have performance impact. Because of that extra objct creation.\n",
    "- We should avoid boxing and unboxing if possible."
   ]
  }
 ],
 "metadata": {
  "kernelspec": {
   "display_name": ".NET (C#)",
   "language": "C#",
   "name": ".net-csharp"
  },
  "language_info": {
   "file_extension": ".cs",
   "mimetype": "text/x-csharp",
   "name": "C#",
   "pygments_lexer": "csharp",
   "version": "9.0"
  },
  "orig_nbformat": 4
 },
 "nbformat": 4,
 "nbformat_minor": 2
}
