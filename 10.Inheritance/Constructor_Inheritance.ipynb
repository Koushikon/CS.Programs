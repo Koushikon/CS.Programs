{
 "cells": [
  {
   "cell_type": "markdown",
   "metadata": {},
   "source": [
    "# Constructor Inheritance\n",
    "\n",
    "- Base class constructors are `always executed first`.\n",
    "- Base class constructors are `not inherited`.\n",
    "\n",
    "So, In a derived class we need to re-define the constructors."
   ]
  },
  {
   "cell_type": "code",
   "execution_count": null,
   "metadata": {
    "dotnet_interactive": {
     "language": "csharp"
    },
    "vscode": {
     "languageId": "dotnet-interactive.csharp"
    }
   },
   "outputs": [],
   "source": [
    "public class Vehicle {\n",
    "    private string _registrationNumber;\n",
    "\n",
    "    /*\n",
    "    public Vehicle() {\n",
    "        _registrationNumber = string.Empty;\n",
    "    }*/\n",
    "\n",
    "    public Vehicle(string registrationNumber) {\n",
    "        _registrationNumber = registrationNumber;\n",
    "        Console.WriteLine(\"Prints: {0}\", _registrationNumber);\n",
    "    }\n",
    "}"
   ]
  },
  {
   "cell_type": "code",
   "execution_count": null,
   "metadata": {
    "dotnet_interactive": {
     "language": "csharp"
    },
    "vscode": {
     "languageId": "dotnet-interactive.csharp"
    }
   },
   "outputs": [],
   "source": [
    "public class Car : Vehicle {\n",
    "    public Car(string registrationNumber = \"\") : base(registrationNumber) {\n",
    "\n",
    "        // Here Initialize fields specific to the Car class\n",
    "        // _registrationNumber = registrationNumber;\n",
    "    }\n",
    "}"
   ]
  },
  {
   "cell_type": "code",
   "execution_count": null,
   "metadata": {
    "dotnet_interactive": {
     "language": "csharp"
    },
    "vscode": {
     "languageId": "dotnet-interactive.csharp"
    }
   },
   "outputs": [
    {
     "name": "stdout",
     "output_type": "stream",
     "text": [
      "Prints: CR1\r\n"
     ]
    }
   ],
   "source": [
    "Car cr1 = new Car(\"CR1\"); // with base keyword calling the 1-Args constructor of the base class"
   ]
  },
  {
   "cell_type": "code",
   "execution_count": null,
   "metadata": {
    "dotnet_interactive": {
     "language": "csharp"
    },
    "vscode": {
     "languageId": "dotnet-interactive.csharp"
    }
   },
   "outputs": [
    {
     "name": "stdout",
     "output_type": "stream",
     "text": [
      "Prints: \r\n"
     ]
    }
   ],
   "source": [
    "// with Default parameters we don't have to provide a No-Args Constructor explicitly.\n",
    "Car cr2 = new Car();"
   ]
  },
  {
   "cell_type": "markdown",
   "metadata": {},
   "source": [
    "Here in this example, We have initialize the Base class first and then the derived class. But with No way accessing the private member `_registrationNumber` we will get an Error.\n",
    "\n",
    "with `base` keyword, we are calling the Base class 1-Args constructor with right parameters.\n",
    "\n",
    "Also, If we provide an `Default constructor` in the Base class, Then it will be called every time we create Derived object."
   ]
  }
 ],
 "metadata": {
  "kernelspec": {
   "display_name": ".NET (C#)",
   "language": "C#",
   "name": ".net-csharp"
  },
  "language_info": {
   "file_extension": ".cs",
   "mimetype": "text/x-csharp",
   "name": "C#",
   "pygments_lexer": "csharp",
   "version": "9.0"
  },
  "orig_nbformat": 4
 },
 "nbformat": 4,
 "nbformat_minor": 2
}
