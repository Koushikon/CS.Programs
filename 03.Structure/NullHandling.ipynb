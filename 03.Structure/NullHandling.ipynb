{
 "cells": [
  {
   "attachments": {},
   "cell_type": "markdown",
   "metadata": {},
   "source": [
    "# Null Handling in C#"
   ]
  },
  {
   "attachments": {},
   "cell_type": "markdown",
   "metadata": {},
   "source": [
    "## Declare `nullable` value and reference Types"
   ]
  },
  {
   "cell_type": "code",
   "execution_count": 1,
   "metadata": {
    "dotnet_interactive": {
     "language": "csharp"
    },
    "polyglot_notebook": {
     "kernelName": "csharp"
    },
    "vscode": {
     "languageId": "polyglot-notebook"
    }
   },
   "outputs": [],
   "source": [
    "int? width = 15; // nullable value type\n",
    "string? height = null; // nullable reference type"
   ]
  },
  {
   "attachments": {},
   "cell_type": "markdown",
   "metadata": {},
   "source": [
    "## Null Coalescing Operator `??`\n",
    "\n",
    "The null coalescing operator in C# is denoted by two question marks (??) and is used to provide a default value for a nullable value type or reference type if the value is null."
   ]
  },
  {
   "cell_type": "code",
   "execution_count": 1,
   "metadata": {
    "dotnet_interactive": {
     "language": "csharp"
    },
    "polyglot_notebook": {
     "kernelName": "csharp"
    },
    "vscode": {
     "languageId": "polyglot-notebook"
    }
   },
   "outputs": [
    {
     "name": "stdout",
     "output_type": "stream",
     "text": [
      "100\n",
      "50\n"
     ]
    }
   ],
   "source": [
    "int? nullableValue = null;\n",
    "int result = nullableValue ?? 100;  // result will be 100 because nullableValue is null\n",
    "Console.WriteLine(result);\n",
    "\n",
    "nullableValue = 50;\n",
    "result = nullableValue ?? 100;     // result will be 50 because nullableValue is not null\n",
    "Console.WriteLine(result);"
   ]
  },
  {
   "attachments": {},
   "cell_type": "markdown",
   "metadata": {},
   "source": [
    "## Null-coalescing assignment operator `??=`\n",
    "\n",
    "The null-coalescing assignment operator `??=` is a shorthand operator in C# that assigns the value on its right-hand side to a variable on its left-hand side only if the variable is null. If the variable already has a value, the operator does not assign a new value. It combines the null-coalescing operator `??` and the assignment operator `=` in a single operation, making the code more concise and readable."
   ]
  },
  {
   "cell_type": "code",
   "execution_count": 2,
   "metadata": {
    "dotnet_interactive": {
     "language": "csharp"
    },
    "polyglot_notebook": {
     "kernelName": "csharp"
    },
    "vscode": {
     "languageId": "polyglot-notebook"
    }
   },
   "outputs": [
    {
     "name": "stdout",
     "output_type": "stream",
     "text": [
      "50\n",
      "50\n"
     ]
    }
   ],
   "source": [
    "string name = null;\n",
    "\n",
    "name ??= \"Jimmy\";\n",
    "Console.WriteLine(result);\n",
    "\n",
    "name ??= \"Tarun\";\n",
    "Console.WriteLine(result);"
   ]
  },
  {
   "attachments": {},
   "cell_type": "markdown",
   "metadata": {},
   "source": [
    "## Conditional Operator `?:`\n",
    "\n",
    "The conditional operator `? :` is a shorthand way of writing an `if-else` statement in C#. It is also known as the ternary operator because it takes three operands.\n",
    "\n",
    "The `condition` is evaluated to a Boolean value. If it is true, the `true_expression` is executed, otherwise the `false_expression` is executed. The `true_expression` and `false_expression` can be any valid expression, including method calls, variable assignments, or other operators."
   ]
  },
  {
   "cell_type": "code",
   "execution_count": 3,
   "metadata": {
    "dotnet_interactive": {
     "language": "csharp"
    },
    "polyglot_notebook": {
     "kernelName": "csharp"
    },
    "vscode": {
     "languageId": "polyglot-notebook"
    }
   },
   "outputs": [
    {
     "name": "stdout",
     "output_type": "stream",
     "text": [
      "Veer\r\n"
     ]
    }
   ],
   "source": [
    "string name = null;\n",
    "string result = (name != null) ? name : \"Veer\";\n",
    "Console.WriteLine(result);"
   ]
  },
  {
   "attachments": {},
   "cell_type": "markdown",
   "metadata": {},
   "source": [
    "## Null-Forgiving Operator `!.`\n",
    "\n",
    "The Null-forgiving operator `!.` is a new feature introduced in `C# 8.0` that allows developers to indicate that a certain expression is guaranteed to not be null, even though the compiler might not be able to verify it. The operator is represented by an exclamation mark followed by a dot `!.`, and it can be used to access a member of an object without the need for null-checking. If the expression to the left of the null-forgiving operator is null, a NullReferenceException will be thrown at runtime. This operator can help make code more concise and readable, but it should be used with caution since it can result in runtime exceptions if used incorrectly."
   ]
  },
  {
   "cell_type": "code",
   "execution_count": 4,
   "metadata": {
    "dotnet_interactive": {
     "language": "csharp"
    },
    "polyglot_notebook": {
     "kernelName": "csharp"
    },
    "vscode": {
     "languageId": "polyglot-notebook"
    }
   },
   "outputs": [
    {
     "ename": "Error",
     "evalue": "System.NullReferenceException: Object reference not set to an instance of an object.\r\n   at Submission#5.<<Initialize>>d__0.MoveNext()\r\n--- End of stack trace from previous location ---\r\n   at Microsoft.CodeAnalysis.Scripting.ScriptExecutionState.RunSubmissionsAsync[TResult](ImmutableArray`1 precedingExecutors, Func`2 currentExecutor, StrongBox`1 exceptionHolderOpt, Func`2 catchExceptionOpt, CancellationToken cancellationToken)",
     "output_type": "error",
     "traceback": [
      "System.NullReferenceException: Object reference not set to an instance of an object.\r\n",
      "   at Submission#5.<<Initialize>>d__0.MoveNext()\r\n",
      "--- End of stack trace from previous location ---\r\n",
      "   at Microsoft.CodeAnalysis.Scripting.ScriptExecutionState.RunSubmissionsAsync[TResult](ImmutableArray`1 precedingExecutors, Func`2 currentExecutor, StrongBox`1 exceptionHolderOpt, Func`2 catchExceptionOpt, CancellationToken cancellationToken)"
     ]
    }
   ],
   "source": [
    "string name = null!;\n",
    "int length = name.Length;\n",
    "Console.WriteLine(length);"
   ]
  },
  {
   "attachments": {},
   "cell_type": "markdown",
   "metadata": {},
   "source": [
    "## Using `is` operator or `==`\n",
    "\n",
    "The `is` operator in C# is used to determine whether an object or expression is of a certain type. It returns a boolean value indicating whether the object or expression can be cast to the specified type. If the object or expression is null, the `is` operator always returns false. The syntax of the `is` operator is as follows:\n",
    "\n",
    "Alternatively, We can use `==` operator to compare the values\n",
    "\n",
    "If we need to perform type checking, use the `is` operator. If we need to compare values for equality, use the `==` operator. In terms of performance, both operators are generally fast enough that their performance is unlikely to be a bottleneck in most applications."
   ]
  },
  {
   "cell_type": "code",
   "execution_count": 5,
   "metadata": {
    "dotnet_interactive": {
     "language": "csharp"
    },
    "polyglot_notebook": {
     "kernelName": "csharp"
    },
    "vscode": {
     "languageId": "polyglot-notebook"
    }
   },
   "outputs": [
    {
     "name": "stdout",
     "output_type": "stream",
     "text": [
      "Its officially null\n",
      "Its officially null\n"
     ]
    }
   ],
   "source": [
    "string name = null;\n",
    "\n",
    "if (name is null)\n",
    "{\n",
    "    Console.WriteLine(\"Its officially null\");\n",
    "}\n",
    "\n",
    "if(name == null)\n",
    "{\n",
    "    Console.WriteLine(\"Its officially null\");\n",
    "}"
   ]
  },
  {
   "attachments": {},
   "cell_type": "markdown",
   "metadata": {},
   "source": [
    "## ArgumentNullException"
   ]
  },
  {
   "cell_type": "code",
   "execution_count": 7,
   "metadata": {
    "dotnet_interactive": {
     "language": "csharp"
    },
    "polyglot_notebook": {
     "kernelName": "csharp"
    },
    "vscode": {
     "languageId": "polyglot-notebook"
    }
   },
   "outputs": [
    {
     "name": "stdout",
     "output_type": "stream",
     "text": [
      "Box Toy\r\n"
     ]
    },
    {
     "ename": "Error",
     "evalue": "System.ArgumentNullException: Value cannot be null. (Parameter 'fname')\r\n   at Submission#8.GetName(String fname, String lname)\r\n   at Submission#8.<<Initialize>>d__0.MoveNext()\r\n--- End of stack trace from previous location ---\r\n   at Microsoft.CodeAnalysis.Scripting.ScriptExecutionState.RunSubmissionsAsync[TResult](ImmutableArray`1 precedingExecutors, Func`2 currentExecutor, StrongBox`1 exceptionHolderOpt, Func`2 catchExceptionOpt, CancellationToken cancellationToken)",
     "output_type": "error",
     "traceback": [
      "System.ArgumentNullException: Value cannot be null. (Parameter 'fname')\r\n",
      "   at Submission#8.GetName(String fname, String lname)\r\n",
      "   at Submission#8.<<Initialize>>d__0.MoveNext()\r\n",
      "--- End of stack trace from previous location ---\r\n",
      "   at Microsoft.CodeAnalysis.Scripting.ScriptExecutionState.RunSubmissionsAsync[TResult](ImmutableArray`1 precedingExecutors, Func`2 currentExecutor, StrongBox`1 exceptionHolderOpt, Func`2 catchExceptionOpt, CancellationToken cancellationToken)"
     ]
    }
   ],
   "source": [
    "GetName(\"Box\", \"Toy\");\n",
    "GetName(null, null); // Gives error\n",
    "\n",
    "void GetName(string fname, string lname)\n",
    "{\n",
    "    if (fname == null)\n",
    "    {\n",
    "        throw new ArgumentNullException(nameof(fname));\n",
    "    }\n",
    "\n",
    "    // With null Parameter checks in C# 10 - Shorthand Syntax\n",
    "    ArgumentNullException.ThrowIfNull(lname);\n",
    "\n",
    "    Console.WriteLine($\"{fname} {lname}\");\n",
    "}"
   ]
  }
 ],
 "metadata": {
  "language_info": {
   "name": "csharp"
  },
  "orig_nbformat": 4
 },
 "nbformat": 4,
 "nbformat_minor": 2
}
