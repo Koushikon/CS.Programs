{
 "cells": [
  {
   "cell_type": "markdown",
   "metadata": {
    "dotnet_interactive": {
     "language": "csharp"
    },
    "polyglot_notebook": {
     "kernelName": "csharp"
    }
   },
   "source": [
    "# Methods in C#"
   ]
  },
  {
   "cell_type": "markdown",
   "metadata": {
    "dotnet_interactive": {
     "language": "csharp"
    },
    "polyglot_notebook": {
     "kernelName": "csharp"
    }
   },
   "source": [
    "## Signature of Methods"
   ]
  },
  {
   "cell_type": "markdown",
   "metadata": {
    "dotnet_interactive": {
     "language": "csharp"
    },
    "polyglot_notebook": {
     "kernelName": "csharp"
    }
   },
   "source": [
    "- Name\n",
    "- Number and Type of Parameters"
   ]
  },
  {
   "cell_type": "code",
   "execution_count": null,
   "metadata": {
    "dotnet_interactive": {
     "language": "csharp"
    },
    "vscode": {
     "languageId": "polyglot-notebook"
    }
   },
   "outputs": [],
   "source": [
    "public class Point {\n",
    "    public void Move(int x, int y) {\n",
    "        // Method body\n",
    "    }\n",
    "}"
   ]
  },
  {
   "cell_type": "markdown",
   "metadata": {
    "dotnet_interactive": {
     "language": "csharp"
    },
    "polyglot_notebook": {
     "kernelName": "csharp"
    }
   },
   "source": [
    "## Method Overloading"
   ]
  },
  {
   "cell_type": "markdown",
   "metadata": {
    "dotnet_interactive": {
     "language": "csharp"
    },
    "polyglot_notebook": {
     "kernelName": "csharp"
    }
   },
   "source": [
    "- Having a method with same name but different signature is called method overloading.\n",
    "- With this technique make this easier for the consumer of the class to choose the right method to call."
   ]
  },
  {
   "cell_type": "code",
   "execution_count": null,
   "metadata": {
    "dotnet_interactive": {
     "language": "csharp"
    },
    "vscode": {
     "languageId": "polyglot-notebook"
    }
   },
   "outputs": [],
   "source": [
    "public class Point {\n",
    "    public int X, Y;\n",
    "    public int Speed;\n",
    "\n",
    "    public Point(int x, int y) {\n",
    "        this.X = x;\n",
    "        this.Y = y;\n",
    "    }\n",
    "\n",
    "    public void Move(int x = 0, int y = 0) {    // ...1\n",
    "        this.X= x;\n",
    "        this.Y= y;\n",
    "    }\n",
    "\n",
    "    public void Move(Point Location) {  // ...2\n",
    "        if (Location == null)\n",
    "            throw new ArgumentNullException(\"Location\", \"Has null value.\");\n",
    "            \n",
    "        Move(Location.X, Location.Y);\n",
    "    }\n",
    "\n",
    "    public void Move(int speed, Point Location) {   // ...3\n",
    "        Move(Location.X, Location.Y);\n",
    "        this.Speed = speed;\n",
    "    }\n",
    "}"
   ]
  },
  {
   "cell_type": "code",
   "execution_count": null,
   "metadata": {
    "dotnet_interactive": {
     "language": "csharp"
    },
    "vscode": {
     "languageId": "polyglot-notebook"
    }
   },
   "outputs": [],
   "source": [
    "try {\n",
    "    var pt1 = new Point(10, 12);\n",
    "\n",
    "    pt1.Move(new Point(4, 5));  // Calls Move 2\n",
    "    Console.WriteLine($\"{pt1.X}, {pt1.Y}\");\n",
    "\n",
    "    pt1.Move();  // Calls Move 2\n",
    "    Console.WriteLine($\"{pt1.X}, {pt1.Y}\");\n",
    "\n",
    "    pt1.Move(15, new Point(11, 22));  // Calls Move 3\n",
    "    Console.WriteLine($\"{pt1.Speed}, {pt1.X}, {pt1.Y}\");\n",
    "} catch(Exception) {\n",
    "    Console.WriteLine(\"Error occurred.\");\n",
    "}"
   ]
  },
  {
   "cell_type": "markdown",
   "metadata": {
    "dotnet_interactive": {
     "language": "csharp"
    },
    "polyglot_notebook": {
     "kernelName": "csharp"
    }
   },
   "source": [
    "### Calculator class Overload  Methods \n",
    "\n",
    "```C#\n",
    "public class Calculator {\n",
    "    public int Add(int n1, int n2) { }\n",
    "    public int Add(int n1, int n2, int n3) { }\n",
    "    public int Add(int n1, int n2, int n3, int n4) { }\n",
    "    ...\n",
    "}\n",
    "```\n",
    "\n",
    "So we can see its growing and its not the efficient way to Overload the Add method. There's better ways:"
   ]
  },
  {
   "cell_type": "code",
   "execution_count": null,
   "metadata": {
    "dotnet_interactive": {
     "language": "csharp"
    },
    "vscode": {
     "languageId": "polyglot-notebook"
    }
   },
   "outputs": [],
   "source": [
    "public class Calculator {\n",
    "    // Use of Array\n",
    "    public int Add(int[] nums) { return 0; }\n",
    "}\n",
    "\n",
    "var calculator = new Calculator();\n",
    "\n",
    "// Every time we pass we create an array then pass that\n",
    "// So, there's a simpler way\n",
    "var result = calculator.Add(new int[] {1, 2, 3});"
   ]
  },
  {
   "cell_type": "markdown",
   "metadata": {
    "dotnet_interactive": {
     "language": "csharp"
    },
    "polyglot_notebook": {
     "kernelName": "csharp"
    }
   },
   "source": [
    "## The Params Modifier"
   ]
  },
  {
   "cell_type": "markdown",
   "metadata": {
    "dotnet_interactive": {
     "language": "csharp"
    },
    "polyglot_notebook": {
     "kernelName": "csharp"
    }
   },
   "source": [
    "By using the `params` keyword, you can specify a method parameter that takes a `variable number of arguments`. The parameter type must be a `single-dimensional array`.\n",
    "\n",
    "No additional parameters are permitted after the params keyword in a method declaration, and `only one params keyword is permitted` in a method declaration."
   ]
  },
  {
   "cell_type": "code",
   "execution_count": null,
   "metadata": {
    "dotnet_interactive": {
     "language": "csharp"
    },
    "vscode": {
     "languageId": "polyglot-notebook"
    }
   },
   "outputs": [],
   "source": [
    "public class Calculator {\n",
    "    // Use of Array\n",
    "    public int Add(params int[] nums) { return 0; }\n",
    "}\n",
    "\n",
    "var calculator = new Calculator();\n",
    "// The simpler way\n",
    "var result1 = calculator.Add(new int[] {1, 2, 3, 4 , 5}); // We can use both array or params\n",
    "var result2 = calculator.Add(1, 2, 3, 4 , 5); // Its like python *args keyword"
   ]
  },
  {
   "cell_type": "markdown",
   "metadata": {
    "dotnet_interactive": {
     "language": "csharp"
    },
    "polyglot_notebook": {
     "kernelName": "csharp"
    }
   },
   "source": [
    "## The ref Modified"
   ]
  },
  {
   "cell_type": "markdown",
   "metadata": {
    "dotnet_interactive": {
     "language": "csharp"
    },
    "polyglot_notebook": {
     "kernelName": "csharp"
    }
   },
   "source": [
    "The `ref` keyword indicates that a value is `passed by reference`. It is used in four different contexts:\n",
    "\n",
    "- In a method signature and in a `method call`, to `pass an argument` to a method by reference. For more information, see Passing an argument by reference.\n",
    "- In a method signature, to `return a value` to the caller `by reference`. For more information, see Reference return values.\n",
    "- In a `member body`, to indicate that a reference return value is `stored locally as a reference that the caller intends to modify`. Or to indicate that a local `variable accesses another value by reference`. For more information, see Ref locals.\n",
    "- In a `struct declaration`, to declare a `ref struct` or a `readonly ref struct`. For more information, see the ref struct section of the Structure types article."
   ]
  },
  {
   "cell_type": "code",
   "execution_count": null,
   "metadata": {
    "dotnet_interactive": {
     "language": "csharp"
    },
    "vscode": {
     "languageId": "polyglot-notebook"
    }
   },
   "outputs": [],
   "source": [
    "public void MyMethod(int A) {   // Declaring a value type\n",
    "    A += 8;\n",
    "}\n",
    "\n",
    "var A = 2;\n",
    "MyMethod(A);    // Pass by value\n",
    "Console.WriteLine(A);   // 2"
   ]
  },
  {
   "cell_type": "markdown",
   "metadata": {
    "dotnet_interactive": {
     "language": "csharp"
    },
    "polyglot_notebook": {
     "kernelName": "csharp"
    }
   },
   "source": [
    "- Here in above code i want to change the value of original `\"A\"`, But it `wasn't changing`. So, in this type of situation, we can use `ref modifier`."
   ]
  },
  {
   "cell_type": "code",
   "execution_count": null,
   "metadata": {
    "dotnet_interactive": {
     "language": "csharp"
    },
    "vscode": {
     "languageId": "polyglot-notebook"
    }
   },
   "outputs": [],
   "source": [
    "public void Count(ref int num) { // Declaring a reference type\n",
    "    num += 8;\n",
    "}\n",
    "\n",
    "var num = 2;\n",
    "Count(ref num); // Pass by reference\n",
    "Console.WriteLine(num);   // 10"
   ]
  },
  {
   "cell_type": "markdown",
   "metadata": {
    "dotnet_interactive": {
     "language": "csharp"
    },
    "polyglot_notebook": {
     "kernelName": "csharp"
    }
   },
   "source": [
    "## The out Modifier"
   ]
  },
  {
   "cell_type": "markdown",
   "metadata": {
    "dotnet_interactive": {
     "language": "csharp"
    },
    "polyglot_notebook": {
     "kernelName": "csharp"
    }
   },
   "source": [
    "The `out keyword` causes arguments to be passed by reference. It makes the formal parameter an alias for the argument, which must be a variable. In other words, any operation on the parameter is made on the argument. It is like the `ref keyword`, except that ref requires that the variable be initialized before it is passed. It is also like the `in keyword`, except that in does not allow the called method to modify the argument value.\n",
    "\n",
    "To use an `out` parameter, both the `method definition` and the `calling method` must `explicitly use the out keyword`. For example:\n",
    "\n",
    "- Dev say: only use `out` when really needed in `interop type scenarios`. In all other cases, simply do not use `out`. [Source](https://stackoverflow.com/questions/413218/best-practice-of-using-the-out-keyword-in-c-sharp)"
   ]
  },
  {
   "cell_type": "code",
   "execution_count": null,
   "metadata": {
    "dotnet_interactive": {
     "language": "csharp"
    },
    "vscode": {
     "languageId": "polyglot-notebook"
    }
   },
   "outputs": [],
   "source": [
    "int res = 0;\n",
    "OutExample(out res);    // \"out\" return a reference type\n",
    "Console.WriteLine(res); // value is now 44\n",
    "\n",
    "void OutExample(out int num)    // \"out\" pass the value of num to caller\n",
    "{\n",
    "    num = 44;\n",
    "}"
   ]
  }
 ],
 "metadata": {
  "kernelspec": {
   "display_name": ".NET (C#)",
   "language": "C#",
   "name": ".net-csharp"
  },
  "polyglot_notebook": {
   "kernelInfo": {
    "defaultKernelName": "csharp",
    "items": [
     {
      "aliases": [
       "c#",
       "C#"
      ],
      "languageName": "C#",
      "name": "csharp"
     },
     {
      "aliases": [],
      "name": ".NET"
     },
     {
      "aliases": [
       "f#",
       "F#"
      ],
      "languageName": "F#",
      "name": "fsharp"
     },
     {
      "aliases": [],
      "languageName": "HTML",
      "name": "html"
     },
     {
      "aliases": [],
      "languageName": "KQL",
      "name": "kql"
     },
     {
      "aliases": [],
      "languageName": "Mermaid",
      "name": "mermaid"
     },
     {
      "aliases": [
       "powershell"
      ],
      "languageName": "PowerShell",
      "name": "pwsh"
     },
     {
      "aliases": [],
      "languageName": "SQL",
      "name": "sql"
     },
     {
      "aliases": [],
      "name": "value"
     },
     {
      "aliases": [
       "frontend"
      ],
      "name": "vscode"
     }
    ]
   }
  }
 },
 "nbformat": 4,
 "nbformat_minor": 2
}
