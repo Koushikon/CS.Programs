{
 "cells": [
  {
   "cell_type": "markdown",
   "metadata": {
    "dotnet_interactive": {
     "language": "csharp"
    },
    "polyglot_notebook": {
     "kernelName": "csharp"
    }
   },
   "source": [
    "# C# String Methods\n",
    "\n",
    "[GFG](https://www.geeksforgeeks.org/c-sharp-string-class/) | \n",
    "[MS Docs](https://docs.microsoft.com/en-us/dotnet/api/system.string?view=net-6.0)"
   ]
  },
  {
   "cell_type": "markdown",
   "metadata": {
    "dotnet_interactive": {
     "language": "csharp"
    },
    "polyglot_notebook": {
     "kernelName": "csharp"
    }
   },
   "source": [
    "## Insert, Remove and Replace String Parts"
   ]
  },
  {
   "cell_type": "code",
   "execution_count": null,
   "metadata": {
    "dotnet_interactive": {
     "language": "csharp"
    },
    "vscode": {
     "languageId": "polyglot-notebook"
    }
   },
   "outputs": [],
   "source": [
    "String old = \"Panja\";\n",
    "Console.WriteLine(\"The original string: '{0}'\", old);\n",
    "old = old.Insert(5, \" Bro\");\n",
    "Console.WriteLine(\"The changed string: '{0}'\", old);"
   ]
  },
  {
   "cell_type": "code",
   "execution_count": null,
   "metadata": {
    "dotnet_interactive": {
     "language": "csharp"
    },
    "vscode": {
     "languageId": "polyglot-notebook"
    }
   },
   "outputs": [],
   "source": [
    "String old = \"Panjaaaa\";\n",
    "Console.WriteLine($\"The original string: '{old}'\");\n",
    "\n",
    "old = old.Remove(5, 3);\n",
    "Console.WriteLine($\"The changed string: '{old}'\");"
   ]
  },
  {
   "cell_type": "code",
   "execution_count": null,
   "metadata": {
    "dotnet_interactive": {
     "language": "csharp"
    },
    "vscode": {
     "languageId": "polyglot-notebook"
    }
   },
   "outputs": [],
   "source": [
    "String old = \"Panja\";\n",
    "Console.WriteLine($\"The original string: '{old}'\");\n",
    "\n",
    "old = old.Replace(\"n\", \"77\");\n",
    "Console.WriteLine($\"The original string: '{old}'\");"
   ]
  },
  {
   "cell_type": "markdown",
   "metadata": {
    "dotnet_interactive": {
     "language": "csharp"
    },
    "polyglot_notebook": {
     "kernelName": "csharp"
    }
   },
   "source": [
    "### Intern(String) Method\n",
    "\n",
    "- Retrieves the system’s reference to the specified String."
   ]
  },
  {
   "cell_type": "code",
   "execution_count": null,
   "metadata": {
    "dotnet_interactive": {
     "language": "csharp"
    },
    "vscode": {
     "languageId": "polyglot-notebook"
    }
   },
   "outputs": [],
   "source": [
    "string s1 = \"less\";\n",
    "string s3 = \"Shoe\" + String.Intern(s1);\n",
    "Console.WriteLine($\"{s1} {s3}\");"
   ]
  },
  {
   "cell_type": "markdown",
   "metadata": {
    "dotnet_interactive": {
     "language": "csharp"
    },
    "polyglot_notebook": {
     "kernelName": "csharp"
    }
   },
   "source": [
    "## Formatting String\n",
    "\n",
    "Syntax:\n",
    "- `strin_name = String.Format();`\n",
    "- Converts the value of objects to strings based on the formats specified and inserts them into another string.\n",
    "- [Formatting Docs](https://docs.microsoft.com/en-us/dotnet/api/system.string.format?view=net-6.0)"
   ]
  },
  {
   "cell_type": "code",
   "execution_count": null,
   "metadata": {
    "dotnet_interactive": {
     "language": "csharp"
    },
    "vscode": {
     "languageId": "polyglot-notebook"
    }
   },
   "outputs": [],
   "source": [
    "string str = String.Format(\"At {0}, the temperature is {1}°C.\", DateTime.Now, 20.4);\n",
    "Console.WriteLine(str);\n",
    "\n",
    "str = String.Format(\"It is now {0:d} at {0:t}\", DateTime.Now);\n",
    "Console.WriteLine(str);"
   ]
  },
  {
   "cell_type": "code",
   "execution_count": null,
   "metadata": {
    "dotnet_interactive": {
     "language": "csharp"
    },
    "vscode": {
     "languageId": "polyglot-notebook"
    }
   },
   "outputs": [],
   "source": [
    "using System.Text;\n",
    "\n",
    "int[] years = { 2013, 2014, 2015, 20012 };\n",
    "int[] population = { 1025632, 1105967, 1148203, 11482030 };\n",
    "\n",
    "var sb = new StringBuilder();\n",
    "for (int i = 0; i < years.Length; i++)\n",
    "    sb.Append(String.Format(\"{0,6} {1,15:N0}\\n\", years[i], population[i]));\n",
    "\n",
    "Console.WriteLine(sb);"
   ]
  },
  {
   "cell_type": "markdown",
   "metadata": {
    "dotnet_interactive": {
     "language": "csharp"
    },
    "polyglot_notebook": {
     "kernelName": "csharp"
    }
   },
   "source": [
    "## String Padding Methods\n",
    "\n",
    "- `str_name.PadLeft(Int32 totalWidth, Char paddingChar);`\n",
    "- This Function pads a string on the left side with a specified Unicode character.\n",
    "- `str_name.PadRight(Int32 totalWidth, Char paddingChar);`\n",
    "- This Function pads a string on the right side with a specified Unicode character."
   ]
  },
  {
   "cell_type": "code",
   "execution_count": null,
   "metadata": {
    "dotnet_interactive": {
     "language": "csharp"
    },
    "vscode": {
     "languageId": "polyglot-notebook"
    }
   },
   "outputs": [],
   "source": [
    "str = \"forty-two\";\n",
    "char pad = '.';\n",
    "\n",
    "Console.WriteLine(str.PadLeft(15));\n",
    "Console.WriteLine(str.PadLeft(15, pad));\n",
    "Console.WriteLine(str.PadLeft(2, pad));"
   ]
  },
  {
   "cell_type": "code",
   "execution_count": null,
   "metadata": {
    "dotnet_interactive": {
     "language": "csharp"
    },
    "vscode": {
     "languageId": "polyglot-notebook"
    }
   },
   "outputs": [],
   "source": [
    "str = \"forty-two\";\n",
    "pad = '.';\n",
    "\n",
    "Console.WriteLine(str.PadRight(15));\n",
    "Console.WriteLine(str.PadRight(15, pad));"
   ]
  },
  {
   "cell_type": "markdown",
   "metadata": {
    "dotnet_interactive": {
     "language": "csharp"
    },
    "polyglot_notebook": {
     "kernelName": "csharp"
    }
   },
   "source": [
    "## C# Substring Method\n",
    "\n",
    "- `str_name.Substring(Int32 startIndex, Int32 length);`\n",
    "- This Method returns a new string that is a substring of this instance."
   ]
  },
  {
   "cell_type": "code",
   "execution_count": null,
   "metadata": {
    "dotnet_interactive": {
     "language": "csharp"
    },
    "vscode": {
     "languageId": "polyglot-notebook"
    }
   },
   "outputs": [],
   "source": [
    "str = \"The quick brown fox jumps over the lazy dog.\";\n",
    "\n",
    "string new_str = str.Substring(20);\n",
    "Console.WriteLine(new_str);\n",
    "\n",
    "new_str = str.Substring(20, 5);\n",
    "Console.WriteLine(new_str);"
   ]
  },
  {
   "cell_type": "markdown",
   "metadata": {
    "dotnet_interactive": {
     "language": "csharp"
    },
    "polyglot_notebook": {
     "kernelName": "csharp"
    }
   },
   "source": [
    "## C# Trim Methods\n",
    "\n",
    "- `string_name.Trim(char[] trimChars);`\n",
    "- This Method removes the specified characters from the beginning And end of this instance and stores the result in a new string.\n",
    "- `string_name.TrimStart(char[] trimChars);`\n",
    "- This Method removes the specified characters from the beginning of this instance.\n",
    "- `string_name.TrimEnd(char[] trimChars);`\n",
    "- This Method removes the specified characters from the end of this instance."
   ]
  },
  {
   "cell_type": "code",
   "execution_count": null,
   "metadata": {
    "dotnet_interactive": {
     "language": "csharp"
    },
    "vscode": {
     "languageId": "polyglot-notebook"
    }
   },
   "outputs": [],
   "source": [
    "char[] symbols = {'*', ' ', '\\''};\n",
    "string name = \"*'*'* Much Ado About Nothing *'*'*\";\n",
    "string result = name.Trim(symbols);\n",
    "\n",
    "Console.WriteLine(result);"
   ]
  },
  {
   "cell_type": "code",
   "execution_count": null,
   "metadata": {
    "dotnet_interactive": {
     "language": "csharp"
    },
    "vscode": {
     "languageId": "polyglot-notebook"
    }
   },
   "outputs": [],
   "source": [
    "char[]  symbols = {'*', ' ', '\\''};\n",
    "string name = \"*'*'* Much Ado About Nothing *'*'*\";\n",
    "string result = name.TrimStart(symbols);\n",
    "\n",
    "Console.WriteLine(result);"
   ]
  },
  {
   "cell_type": "code",
   "execution_count": null,
   "metadata": {
    "dotnet_interactive": {
     "language": "csharp"
    },
    "vscode": {
     "languageId": "polyglot-notebook"
    }
   },
   "outputs": [],
   "source": [
    "char[] symbols = {'*', ' ', '\\''};\n",
    "string name = \"*'*'* Much Ado About Nothing *'*'*\";\n",
    "string result = name.TrimEnd(symbols);\n",
    "\n",
    "Console.WriteLine(result);"
   ]
  },
  {
   "cell_type": "markdown",
   "metadata": {
    "dotnet_interactive": {
     "language": "csharp"
    },
    "polyglot_notebook": {
     "kernelName": "csharp"
    }
   },
   "source": [
    "## String Upper and Lower Case Methods\n",
    "\n",
    "- `string_name.ToLower();`\n",
    "- `string_name.ToUpper();`"
   ]
  },
  {
   "cell_type": "code",
   "execution_count": null,
   "metadata": {
    "dotnet_interactive": {
     "language": "csharp"
    },
    "vscode": {
     "languageId": "polyglot-notebook"
    }
   },
   "outputs": [],
   "source": [
    "name = \"bing\";\n",
    "Console.WriteLine(name.ToUpper());\n",
    "\n",
    "name = \"BING\";\n",
    "Console.WriteLine(name.ToLower());"
   ]
  },
  {
   "cell_type": "markdown",
   "metadata": {
    "dotnet_interactive": {
     "language": "csharp"
    },
    "polyglot_notebook": {
     "kernelName": "csharp"
    }
   },
   "source": [
    "## IsNullOrEmpty and IsNullOrWhiteSpace Mehthods in C#\n",
    "\n",
    "- `string.IsNullOrEmpty(string str);`\n",
    "- `string.IsNullOrWhiteSpace(string str);`"
   ]
  },
  {
   "cell_type": "code",
   "execution_count": null,
   "metadata": {
    "dotnet_interactive": {
     "language": "csharp"
    },
    "vscode": {
     "languageId": "polyglot-notebook"
    }
   },
   "outputs": [],
   "source": [
    "if(string.IsNullOrEmpty(\"\") && string.IsNullOrEmpty(null))\n",
    "    Console.WriteLine(\"Both are null or empty.\"); // But it doesn't count Whitespaces\n",
    "\n",
    "if(string.IsNullOrEmpty(\"\") && string.IsNullOrEmpty(null) && string.IsNullOrWhiteSpace(\" \"))\n",
    "    Console.WriteLine(\"Both are null or empty ow whitespace Value.\"); // Best to use this Method"
   ]
  }
 ],
 "metadata": {
  "kernelspec": {
   "display_name": ".NET (C#)",
   "language": "C#",
   "name": ".net-csharp"
  },
  "polyglot_notebook": {
   "kernelInfo": {
    "defaultKernelName": "csharp",
    "items": [
     {
      "aliases": [
       "c#",
       "C#"
      ],
      "languageName": "C#",
      "name": "csharp"
     },
     {
      "aliases": [],
      "name": ".NET"
     },
     {
      "aliases": [
       "f#",
       "F#"
      ],
      "languageName": "F#",
      "name": "fsharp"
     },
     {
      "aliases": [],
      "languageName": "HTML",
      "name": "html"
     },
     {
      "aliases": [],
      "languageName": "KQL",
      "name": "kql"
     },
     {
      "aliases": [],
      "languageName": "Mermaid",
      "name": "mermaid"
     },
     {
      "aliases": [
       "powershell"
      ],
      "languageName": "PowerShell",
      "name": "pwsh"
     },
     {
      "aliases": [],
      "languageName": "SQL",
      "name": "sql"
     },
     {
      "aliases": [],
      "name": "value"
     },
     {
      "aliases": [
       "frontend"
      ],
      "name": "vscode"
     }
    ]
   }
  }
 },
 "nbformat": 4,
 "nbformat_minor": 2
}
