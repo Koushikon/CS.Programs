{
 "cells": [
  {
   "cell_type": "markdown",
   "metadata": {},
   "source": [
    "# C# String Methods\n",
    "\n",
    "[GFG](https://www.geeksforgeeks.org/c-sharp-string-class/) | \n",
    "[MS Docs](https://docs.microsoft.com/en-us/dotnet/api/system.string?view=net-6.0)"
   ]
  },
  {
   "cell_type": "code",
   "execution_count": null,
   "metadata": {
    "dotnet_interactive": {
     "language": "csharp"
    }
   },
   "outputs": [],
   "source": [
    "string  name = \"Jam\";"
   ]
  },
  {
   "cell_type": "markdown",
   "metadata": {},
   "source": [
    "## Copy one string to another"
   ]
  },
  {
   "cell_type": "code",
   "execution_count": null,
   "metadata": {
    "dotnet_interactive": {
     "language": "csharp"
    }
   },
   "outputs": [
    {
     "name": "stdout",
     "output_type": "stream",
     "text": [
      "Jam\r\n",
      "Jimmy\r\n"
     ]
    }
   ],
   "source": [
    "string an_name = name; // an_name is a copy of name\n",
    "Console.WriteLine(an_name);\n",
    "\n",
    "name = \"Jimmy\";\n",
    "an_name = (String)name.Clone(); // an_name is a copy of name same as before\n",
    "Console.WriteLine(an_name);"
   ]
  },
  {
   "cell_type": "markdown",
   "metadata": {},
   "source": [
    "## Compare Strings\n",
    "\n",
    "| Value |\tCondition |\n",
    "|-------|-----------|\n",
    "| Less than zero |\tThe first substring precedes the second substring in the sort order. |\n",
    "| Zero |\tThe substrings occur in the same position in the sort order, or length is zero. |\n",
    "| Greater than zero |\tThe first substring follows the second substring in the sort order. |"
   ]
  },
  {
   "cell_type": "code",
   "execution_count": null,
   "metadata": {
    "dotnet_interactive": {
     "language": "csharp"
    }
   },
   "outputs": [
    {
     "name": "stdout",
     "output_type": "stream",
     "text": [
      "1\r\n",
      "-1\r\n",
      "0\r\n"
     ]
    }
   ],
   "source": [
    "name = \"Karan\";\n",
    "an_name = \"Arjun\";\n",
    "\n",
    "Console.WriteLine(string.Compare(name, an_name)); // 1\n",
    "Console.WriteLine(string.Compare(an_name, name)); // -1\n",
    "Console.WriteLine(string.Compare(an_name, \"Arjun\")); // 0"
   ]
  },
  {
   "cell_type": "markdown",
   "metadata": {},
   "source": [
    "## Concatenate Strings"
   ]
  },
  {
   "cell_type": "code",
   "execution_count": null,
   "metadata": {
    "dotnet_interactive": {
     "language": "csharp"
    }
   },
   "outputs": [
    {
     "name": "stdout",
     "output_type": "stream",
     "text": [
      "Karan Arjun\r\n",
      "Arjun Karan\r\n",
      "onetwothree\r\n"
     ]
    }
   ],
   "source": [
    "string new_word = string.Concat(name, ' ', an_name);\n",
    "Console.WriteLine(new_word);\n",
    "\n",
    "new_word = an_name + ' ' + name; // same as above\n",
    "Console.WriteLine(new_word);\n",
    "\n",
    "string[] few = new string[] { \"one\", \"two\", \"three\" };\n",
    "Console.WriteLine(string.Concat(few)); // Concatenates array strings"
   ]
  },
  {
   "cell_type": "markdown",
   "metadata": {},
   "source": [
    "## Find a String in another String"
   ]
  },
  {
   "cell_type": "code",
   "execution_count": null,
   "metadata": {
    "dotnet_interactive": {
     "language": "csharp"
    }
   },
   "outputs": [
    {
     "name": "stdout",
     "output_type": "stream",
     "text": [
      "True\r\n"
     ]
    }
   ],
   "source": [
    "name = \"The quick brown fox jumps over the lazy dog\";\n",
    "an_name = \"fox\";\n",
    "Console.WriteLine(name.Contains(an_name)); // true"
   ]
  },
  {
   "cell_type": "code",
   "execution_count": null,
   "metadata": {
    "dotnet_interactive": {
     "language": "csharp"
    }
   },
   "outputs": [
    {
     "name": "stdout",
     "output_type": "stream",
     "text": [
      "2 3 7 7 \r\n"
     ]
    }
   ],
   "source": [
    "name = \"Bikram\";\n",
    "Console.Write(\"{0} \", name.IndexOf('k')); // 2\n",
    "Console.Write(\"{0} \", name.IndexOf(\"ra\")); // 3\n",
    "\n",
    "name = \"Bikram Bakshi\";\n",
    "Console.Write(\"{0} \", name.LastIndexOf('B')); // 7\n",
    "Console.WriteLine(\"{0} \", name.LastIndexOf(\"Ba\")); // 7"
   ]
  },
  {
   "cell_type": "markdown",
   "metadata": {},
   "source": [
    "## The CopyTo method\n",
    "\n",
    "Parameters:\n",
    "- `sourceIndex Int32`\n",
    "- The index of the first character in this instance to copy.\n",
    "- `destination Char[]`\n",
    "- An array of Unicode characters to which characters in this instance are copied i.e. Where the copied characters are stored.\n",
    "- `destinationIndex Int32`\n",
    "- The index in destination at which the copy operation begins.\n",
    "- `count Int32`\n",
    "- The number of characters in this instance to copy to destination.\n",
    "\n",
    "Syntax: \n",
    "- `copied_string.CopyTo(sourceIndex, destination, destinationIndex, count);`"
   ]
  },
  {
   "cell_type": "code",
   "execution_count": null,
   "metadata": {
    "dotnet_interactive": {
     "language": "csharp"
    }
   },
   "outputs": [
    {
     "name": "stdout",
     "output_type": "stream",
     "text": [
      "The initial\r\n",
      "The angeial\r\n"
     ]
    }
   ],
   "source": [
    "string strSource = \"changed\";\n",
    "char [] destination = { 'T', 'h', 'e', ' ', 'i', 'n', 'i', 't', 'i', 'a', 'l'};\n",
    "\n",
    "// Print the char array\n",
    "Console.WriteLine(destination);\n",
    "\n",
    "// Embed the source string in the destination string\n",
    "strSource.CopyTo (2, destination, 4, 4);\n",
    "\n",
    "Console.WriteLine(destination);"
   ]
  },
  {
   "cell_type": "markdown",
   "metadata": {},
   "source": [
    "## Matches Start or End of a String"
   ]
  },
  {
   "cell_type": "code",
   "execution_count": null,
   "metadata": {
    "dotnet_interactive": {
     "language": "csharp"
    }
   },
   "outputs": [
    {
     "name": "stdout",
     "output_type": "stream",
     "text": [
      "'Yes.' ends in a 's.': True\r\n",
      "'Running string.' ends in a 'R': True\r\n",
      "'Randomize' ends in a 'R': True\r\n"
     ]
    }
   ],
   "source": [
    "String[] slim = new string[] {\"Running string.\", \"Hello!\", \"Nothing.\", \"Yes.\", \"Randomize\"};\n",
    "\n",
    "foreach (var value in slim) {\n",
    "    bool endsInPeriod = value.EndsWith(\"s.\");\n",
    "    \n",
    "    if(endsInPeriod)\n",
    "        Console.WriteLine(\"'{0}' ends in a 's.': {1}\", value, endsInPeriod);\n",
    "}\n",
    "\n",
    "foreach (var value in slim) {\n",
    "    bool endsInPeriod = value.StartsWith(\"R\");\n",
    "    \n",
    "    if(endsInPeriod)\n",
    "        Console.WriteLine(\"'{0}' ends in a 'R': {1}\", value, endsInPeriod);\n",
    "}"
   ]
  },
  {
   "cell_type": "markdown",
   "metadata": {},
   "source": [
    "## Split and Join the strings\n",
    "\n",
    "- `str_name` is the String and `str_arr_name` is the array of strings.\n",
    "- `string[] str_arr_name =  str_name.Split(string separator, Int32 count);`\n",
    "- This Split method splits the string into substrings based on the separator And returns those substrings in a string array.\n",
    "- `string.Join(string separator, str_arr_name);`\n",
    "- This Join method joins the elements of a string array into a single string."
   ]
  },
  {
   "cell_type": "code",
   "execution_count": null,
   "metadata": {
    "dotnet_interactive": {
     "language": "csharp"
    }
   },
   "outputs": [
    {
     "name": "stdout",
     "output_type": "stream",
     "text": [
      "Robi . Kanta . Bikram . Bakshi . Tanmay . Bishop . \r\n"
     ]
    }
   ],
   "source": [
    "name = \"Robi Kanta Bikram Bakshi Tanmay Bishop\";\n",
    "string[] all_names = name.Split(' ');\n",
    "\n",
    "foreach (var value in all_names)\n",
    "    Console.Write($\"{value} . \");\n",
    "Console.WriteLine();"
   ]
  },
  {
   "cell_type": "code",
   "execution_count": null,
   "metadata": {
    "dotnet_interactive": {
     "language": "csharp"
    }
   },
   "outputs": [
    {
     "name": "stdout",
     "output_type": "stream",
     "text": [
      "Robi Kanta Bikram Bakshi Tanmay Bishop\r\n"
     ]
    }
   ],
   "source": [
    "Console.WriteLine(string.Join(' ', all_names));"
   ]
  },
  {
   "cell_type": "markdown",
   "metadata": {},
   "source": [
    "## Convert String to Integer\n",
    "\n",
    "- `int.Parse(string s);`\n",
    "- This method parses the string representation of a number And returns the integer equivalent. It throws an OverflowException if the string cannot be parsed into int.\n",
    "- `Convert.ToInt32(string s);`\n",
    "- This method converts the string representation of a number to the equivalent 32-bit signed integer. It returns the default value of int (0) if the string cannot be Converted."
   ]
  },
  {
   "cell_type": "code",
   "execution_count": null,
   "metadata": {
    "dotnet_interactive": {
     "language": "csharp"
    }
   },
   "outputs": [
    {
     "name": "stdout",
     "output_type": "stream",
     "text": [
      "77\r\n",
      "77\r\n"
     ]
    }
   ],
   "source": [
    "name = \"0077\";\n",
    "\n",
    "int num  = int.Parse(name);\n",
    "Console.WriteLine(num);\n",
    "\n",
    "num = Convert.ToInt32(name);\n",
    "Console.WriteLine(num);"
   ]
  },
  {
   "cell_type": "markdown",
   "metadata": {},
   "source": [
    "## Convert Numbers to String\n",
    "\n",
    "[Format String Specifier List](https://docs.microsoft.com/en-us/dotnet/standard/base-types/standard-numeric-format-strings)"
   ]
  },
  {
   "cell_type": "code",
   "execution_count": null,
   "metadata": {
    "dotnet_interactive": {
     "language": "csharp"
    }
   },
   "outputs": [
    {
     "name": "stdout",
     "output_type": "stream",
     "text": [
      "5577\t22.5\t5599.5\t₹ 5,577.00\t₹ 5,577\t"
     ]
    }
   ],
   "source": [
    "num = 5577;\n",
    "float num2 = 22.5f;\n",
    "double num3 = num + num2;\n",
    "\n",
    "Console.Write(\"{0}\\t\", num.ToString());\n",
    "Console.Write(\"{0}\\t\", num2.ToString());\n",
    "Console.Write(\"{0}\\t\", num3.ToString());\n",
    "\n",
    "Console.Write(\"{0}\\t\", num.ToString(\"C\"));\n",
    "Console.Write(\"{0}\\t\", num.ToString(\"C0\"));"
   ]
  }
 ],
 "metadata": {
  "kernelspec": {
   "display_name": ".NET (C#)",
   "language": "C#",
   "name": ".net-csharp"
  },
  "language_info": {
   "file_extension": ".cs",
   "mimetype": "text/x-csharp",
   "name": "C#",
   "pygments_lexer": "csharp",
   "version": "9.0"
  },
  "orig_nbformat": 4
 },
 "nbformat": 4,
 "nbformat_minor": 2
}
