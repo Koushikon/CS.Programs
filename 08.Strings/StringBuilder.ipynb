{
 "cells": [
  {
   "cell_type": "markdown",
   "metadata": {},
   "source": [
    "# C# String Builder Class\n",
    "\n",
    "For modifiable strings, the StringBuilder class is a more efficient way to build a string. It's not like the immutable string class. It is a mutable class, which means that it can be modified after it is created. It dynamically expands memory to accommodate the modified string.\n",
    "\n",
    "[Learn from](https://www.tutorialsteacher.com/csharp/csharp-stringbuilder)"
   ]
  },
  {
   "cell_type": "code",
   "execution_count": null,
   "metadata": {
    "dotnet_interactive": {
     "language": "csharp"
    }
   },
   "outputs": [],
   "source": [
    "using System;\n",
    "using System.Text; // For StringBuilder"
   ]
  },
  {
   "cell_type": "markdown",
   "metadata": {},
   "source": [
    "## Creating a StringBuilder Object"
   ]
  },
  {
   "cell_type": "code",
   "execution_count": null,
   "metadata": {
    "dotnet_interactive": {
     "language": "csharp"
    }
   },
   "outputs": [],
   "source": [
    "StringBuilder strb1 = new StringBuilder(); //string will be appended later\n",
    "// or\n",
    "StringBuilder strb2 = new StringBuilder(\"Jack Shepard\");"
   ]
  },
  {
   "cell_type": "code",
   "execution_count": null,
   "metadata": {
    "dotnet_interactive": {
     "language": "csharp"
    }
   },
   "outputs": [
    {
     "name": "stdout",
     "output_type": "stream",
     "text": [
      "\r\n",
      "Jack Shepard\r\n"
     ]
    }
   ],
   "source": [
    "Console.WriteLine(strb1);\n",
    "Console.WriteLine(strb2);"
   ]
  },
  {
   "cell_type": "markdown",
   "metadata": {},
   "source": [
    "### StringBuilder object with specified capacity\n",
    "\n",
    "This capacity will automatically Increase by doubled once it reaches maximum capacity. Also we can use capacity or length property to set the capacity."
   ]
  },
  {
   "cell_type": "code",
   "execution_count": null,
   "metadata": {
    "dotnet_interactive": {
     "language": "csharp"
    }
   },
   "outputs": [],
   "source": [
    "StringBuilder strb3 = new StringBuilder(50); //string will be appended later\n",
    "// or\n",
    "StringBuilder strb4 = new StringBuilder(\"Hello kate\", 50);"
   ]
  },
  {
   "cell_type": "markdown",
   "metadata": {},
   "source": [
    "## Iterating through a StringBuilder Object\n",
    "\n",
    "We can iterate through a StringBuilder with indexer to get or set the characters."
   ]
  },
  {
   "cell_type": "code",
   "execution_count": null,
   "metadata": {
    "dotnet_interactive": {
     "language": "csharp"
    }
   },
   "outputs": [
    {
     "name": "stdout",
     "output_type": "stream",
     "text": [
      "Hello kate\r\n",
      "**********\r\n"
     ]
    }
   ],
   "source": [
    "for (int i = 0; i < strb4.Length; i++)\n",
    "{\n",
    "    Console.Write(strb4[i]);\n",
    "    strb4[i] = '*';\n",
    "}\n",
    "\n",
    "// Enviroment.NewLine is a newline character\n",
    "Console.WriteLine(Environment.NewLine + strb4);"
   ]
  },
  {
   "cell_type": "markdown",
   "metadata": {},
   "source": [
    "## Convert StringBuilder object to String"
   ]
  },
  {
   "cell_type": "code",
   "execution_count": null,
   "metadata": {
    "dotnet_interactive": {
     "language": "csharp"
    }
   },
   "outputs": [
    {
     "name": "stdout",
     "output_type": "stream",
     "text": [
      "Hello Jackab\r\n"
     ]
    }
   ],
   "source": [
    "StringBuilder strb5 = new StringBuilder(\"Hello Jackab\");\n",
    "\n",
    "string str1 = strb5.ToString();\n",
    "Console.WriteLine(str1);"
   ]
  },
  {
   "cell_type": "markdown",
   "metadata": {},
   "source": [
    "## Add or Append a string to StringBuilder object"
   ]
  },
  {
   "cell_type": "code",
   "execution_count": null,
   "metadata": {
    "dotnet_interactive": {
     "language": "csharp"
    }
   },
   "outputs": [
    {
     "name": "stdout",
     "output_type": "stream",
     "text": [
      "Good & Evil\r\n",
      "Are two side of the Coin. 💸\r\n",
      "\r\n"
     ]
    }
   ],
   "source": [
    "StringBuilder strb6 = new StringBuilder();\n",
    "\n",
    "strb6.Append(\"Good \");\n",
    "strb6.AppendLine(\"& Evil\");\n",
    "strb6.AppendLine(\"Are two side of the Coin. 💸\");\n",
    "\n",
    "Console.WriteLine(strb6);"
   ]
  },
  {
   "cell_type": "markdown",
   "metadata": {},
   "source": [
    "## Append Format string to StringBuilder object\n",
    "\n",
    "Inside AppendFormat method, we can use different formatting of string. Its similar to String.Format method."
   ]
  },
  {
   "cell_type": "code",
   "execution_count": null,
   "metadata": {
    "dotnet_interactive": {
     "language": "csharp"
    }
   },
   "outputs": [
    {
     "name": "stdout",
     "output_type": "stream",
     "text": [
      "Total journey cost of Sydney to Australia is ₹ 1,23,000.45\r\n"
     ]
    }
   ],
   "source": [
    "StringBuilder strb7 = new StringBuilder(\"Total journey cost of Sydney to Australia is \");\n",
    "var price = 123000.45;\n",
    "\n",
    "strb7.AppendFormat(\"{0:C}\", price);\n",
    "Console.WriteLine(strb7);"
   ]
  },
  {
   "cell_type": "markdown",
   "metadata": {},
   "source": [
    "## Insert string to a StringBuilder object\n",
    "\n",
    "- Insert (Start_position, Text_to_be_inserted);"
   ]
  },
  {
   "cell_type": "code",
   "execution_count": null,
   "metadata": {
    "dotnet_interactive": {
     "language": "csharp"
    }
   },
   "outputs": [
    {
     "name": "stdout",
     "output_type": "stream",
     "text": [
      "Total journey cost of Jermany to New York is $ 152.72\r\n"
     ]
    }
   ],
   "source": [
    "StringBuilder strb8 = new StringBuilder(\"Total journey cost of \");\n",
    "\n",
    "strb8.Insert(22, \"Jermany to New York is $ 152.72\");\n",
    "Console.WriteLine(strb8);"
   ]
  },
  {
   "cell_type": "markdown",
   "metadata": {},
   "source": [
    "## Remove String from StringBuilder object\n",
    "\n",
    "- Remove (Start_position, Length_of_text_to_be_removed);"
   ]
  },
  {
   "cell_type": "code",
   "execution_count": null,
   "metadata": {
    "dotnet_interactive": {
     "language": "csharp"
    }
   },
   "outputs": [
    {
     "name": "stdout",
     "output_type": "stream",
     "text": [
      "Total journey\r\n"
     ]
    }
   ],
   "source": [
    "StringBuilder strb9 = new StringBuilder(\"Total journey cost of \");\n",
    "\n",
    "strb9.Remove(13, 9);\n",
    "Console.WriteLine(strb9);"
   ]
  },
  {
   "cell_type": "markdown",
   "metadata": {},
   "source": [
    "## Replace string of StringBuilder object\n",
    "\n",
    "- Replace (Start_position, Text_to_be_Find, Text_to_be_replaced_With);"
   ]
  },
  {
   "cell_type": "code",
   "execution_count": null,
   "metadata": {
    "dotnet_interactive": {
     "language": "csharp"
    }
   },
   "outputs": [
    {
     "name": "stdout",
     "output_type": "stream",
     "text": [
      "Our Earth is a beautiful planet.\r\n"
     ]
    }
   ],
   "source": [
    "StringBuilder strb10 = new StringBuilder(\"Mars is a beautiful planet.\");\n",
    "\n",
    "strb10.Replace(\"Mars\", \"Our Earth\");\n",
    "Console.WriteLine(strb10);"
   ]
  }
 ],
 "metadata": {
  "kernelspec": {
   "display_name": ".NET (C#)",
   "language": "C#",
   "name": ".net-csharp"
  },
  "language_info": {
   "file_extension": ".cs",
   "mimetype": "text/x-csharp",
   "name": "C#",
   "pygments_lexer": "csharp",
   "version": "9.0"
  },
  "orig_nbformat": 4
 },
 "nbformat": 4,
 "nbformat_minor": 2
}
