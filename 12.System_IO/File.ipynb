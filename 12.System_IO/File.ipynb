{
 "cells": [
  {
   "cell_type": "markdown",
   "metadata": {},
   "source": [
    "# File Class in C#\n",
    "\n",
    "[Info](https://www.tutorialsteacher.com/csharp/csharp-file) | \n",
    "[MS Docs](https://docs.microsoft.com/en-us/dotnet/api/system.io.file?view=net-6.0)"
   ]
  },
  {
   "cell_type": "markdown",
   "metadata": {},
   "source": [
    "## Explanation\n",
    "\n",
    "Provides `static methods `for the `creation, copying, deletion, moving, and opening` of a single file, and aids in the creation of FileStream objects. If we have small no. of operations, its convenient to access static methods of File class. Because the File class is static, every time we call a function, Some security checks done by the operating system. So if we have large no. of operations. `This is going to effect the performance of our application` to avoid that it's better to use FileInfo class and access its instance methods. This way Security check is done only once during the creation of `FileInfo object`."
   ]
  },
  {
   "cell_type": "code",
   "execution_count": null,
   "metadata": {
    "dotnet_interactive": {
     "language": "csharp"
    }
   },
   "outputs": [],
   "source": [
    "using System.IO;"
   ]
  },
  {
   "cell_type": "markdown",
   "metadata": {},
   "source": [
    "## File Create Method\n",
    "\n",
    "- `File.Create(String_path, Buffer_size, FileOptions)`\n",
    "- Creates or overwrites a file in the specified path.\n",
    "- Specifying a buffer size in int (Optional).\n",
    "- Options that describe how to create or overwrite the file (Optional).\n",
    "- This method returns a FileStream object which can be used to read or write to the file."
   ]
  },
  {
   "cell_type": "code",
   "execution_count": null,
   "metadata": {
    "dotnet_interactive": {
     "language": "csharp"
    }
   },
   "outputs": [],
   "source": [
    "File.Create(@\"C:\\Windows\\Temp\\Test-1.txt\");\n",
    "File.Create(@\"C:\\Windows\\Temp\\Test-2.txt\", 1024);\n",
    "FileStream fs = File.Create(@\"C:\\Windows\\Temp\\Test-3.txt\", 1024, FileOptions.Asynchronous);"
   ]
  },
  {
   "cell_type": "markdown",
   "metadata": {},
   "source": [
    "## File Delete Method\n",
    "\n",
    "- `File.Delete(String_path)`\n",
    "- Deletes the specified file."
   ]
  },
  {
   "cell_type": "code",
   "execution_count": null,
   "metadata": {
    "dotnet_interactive": {
     "language": "csharp"
    }
   },
   "outputs": [],
   "source": [
    "File.Delete(@\"C:\\Windows\\Temp\\Test-1.txt\");\n",
    "File.Delete(@\"C:\\Windows\\Temp\\Test-2.txt\");"
   ]
  },
  {
   "cell_type": "markdown",
   "metadata": {},
   "source": [
    "## File Copy / Move Method\n",
    "\n",
    "- `File.Copy(sourceFileName, destFileName, Boolean)`\n",
    "- This method Copies an existing file to a new file. Overwriting a file of the same name is allowed.\n",
    "- `File.Move(sourceFileName, destFileName)`\n",
    "- This method moves a specified file to a new location, providing the option to specify a new file name."
   ]
  },
  {
   "cell_type": "code",
   "execution_count": null,
   "metadata": {
    "dotnet_interactive": {
     "language": "csharp"
    }
   },
   "outputs": [],
   "source": [
    "File.Copy(@\"D:\\New.xlsx\", @\"C:\\Windows\\Temp\\New.xlsx\");"
   ]
  },
  {
   "cell_type": "code",
   "execution_count": null,
   "metadata": {
    "dotnet_interactive": {
     "language": "csharp"
    }
   },
   "outputs": [],
   "source": [
    "File.Move(@\"D:\\MyTest.txt\", @\"C:\\Windows\\Temp\\Iron.txt\");"
   ]
  },
  {
   "cell_type": "markdown",
   "metadata": {},
   "source": [
    "## File Exists Method\n",
    "\n",
    "- `File.Exists(String_path)`\n",
    "- This method determines whether the specified file exists or not and returns a boolean value."
   ]
  },
  {
   "cell_type": "code",
   "execution_count": null,
   "metadata": {
    "dotnet_interactive": {
     "language": "csharp"
    }
   },
   "outputs": [
    {
     "name": "stdout",
     "output_type": "stream",
     "text": [
      "False\r\n"
     ]
    }
   ],
   "source": [
    "Console.WriteLine(File.Exists(@\"D:\\MyTest.txt\"));"
   ]
  },
  {
   "cell_type": "markdown",
   "metadata": {},
   "source": [
    "## File WriteAllText Method\n",
    "\n",
    "- `File.WriteAllText(String_path, String_content, Encoding);`\n",
    "- Creates a new file, writes the specified string to the file using the specified encoding (Optional), and then closes the file. If the target file already exists, it is overwritten."
   ]
  },
  {
   "cell_type": "code",
   "execution_count": null,
   "metadata": {
    "dotnet_interactive": {
     "language": "csharp"
    }
   },
   "outputs": [],
   "source": [
    "string createText = \"Hello and Welcome\" + Environment.NewLine;\n",
    "File.WriteAllText(@\"C:\\Windows\\Temp\\Iron.txt\", createText);"
   ]
  },
  {
   "cell_type": "markdown",
   "metadata": {},
   "source": [
    "## File ReadAllText Method\n",
    "\n",
    "- `File.ReadAllText(String_path, Encoding);`\n",
    "- Opens a file, reads all text in the file with the specified encoding (Optional), and then closes the file."
   ]
  },
  {
   "cell_type": "code",
   "execution_count": null,
   "metadata": {
    "dotnet_interactive": {
     "language": "csharp"
    }
   },
   "outputs": [
    {
     "name": "stdout",
     "output_type": "stream",
     "text": [
      "Hello and Welcome\r\n",
      "\r\n"
     ]
    }
   ],
   "source": [
    "string readT = File.ReadAllText(@\"C:\\Windows\\Temp\\Iron.txt\");\n",
    "Console.WriteLine(readT);"
   ]
  },
  {
   "cell_type": "markdown",
   "metadata": {},
   "source": [
    "## File GetAttributes Method\n",
    "\n",
    "- `File.GetAttributes(String_path)`\n",
    "- Returns the file attributes for the specified file."
   ]
  },
  {
   "cell_type": "code",
   "execution_count": null,
   "metadata": {
    "dotnet_interactive": {
     "language": "csharp"
    }
   },
   "outputs": [
    {
     "name": "stdout",
     "output_type": "stream",
     "text": [
      "ReadOnly, Hidden, Archive\r\n"
     ]
    }
   ],
   "source": [
    "Console.WriteLine(File.GetAttributes(@\"C:\\Windows\\Temp\\New.xlsx\"));"
   ]
  }
 ],
 "metadata": {
  "kernelspec": {
   "display_name": ".NET (C#)",
   "language": "C#",
   "name": ".net-csharp"
  },
  "language_info": {
   "file_extension": ".cs",
   "mimetype": "text/x-csharp",
   "name": "C#",
   "pygments_lexer": "csharp",
   "version": "9.0"
  },
  "orig_nbformat": 4
 },
 "nbformat": 4,
 "nbformat_minor": 2
}
